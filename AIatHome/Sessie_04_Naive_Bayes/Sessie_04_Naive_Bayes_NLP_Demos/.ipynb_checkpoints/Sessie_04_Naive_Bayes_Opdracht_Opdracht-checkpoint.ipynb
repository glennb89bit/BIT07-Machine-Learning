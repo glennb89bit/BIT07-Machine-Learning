{
 "cells": [
  {
   "cell_type": "markdown",
   "metadata": {},
   "source": [
    "# Sessie 04 -  Natural Language Processing\n",
    "\n",
    "Sinds enkele jaren schieten de Natural Language Processing toepassingen als paddenstoelen uit de grond. Eén van de belangrijkste redenen daarvoor is de steeds groter wordende beschikbaarheid van tekstuele data aangeleverd door bijvoorbeeld social media.\n",
    "\n",
    "In deze opdracht zal NLP toegepast worden in het kader van sentiment analysis. De bedoeling van sentiment analysis is om uit een tekstueel bericht zoals een email, sms, twitter bericht, Trip Advisor review het sentiment te voorspellen. Bedrijven weten bijvoorbeeld graag wat het sentiment is in de berichten die online over hen verschijnen.\n",
    "\n",
    "De opdracht bestaat uit 2 deelopdrachten.\n",
    "\n",
    "De eerste deelopdracht gaat rond het uitvoeren van pure sentiment analysis van Tweets.\n",
    "Bij de tweede deelopdracht is het de bedoeling om cyber trolls op te sporen.\n",
    "\n",
    "Telkens wordt het bag-of-words model gebruikt om tekst voor te stellen en vervolgens worden verschillende classifiers getraind om het sentiment/rating te voorspellen.\n",
    "\n",
    "Het bag-of-words model beschrijft het voorkomen van woorden binnen een document en doet dit op bais van een vocabulair van gekende woorden en meet de aanwezigheid van deze gekende woorden. De grote beperking van het bag-of-words model is dat het enkel rekening houdt met welke woorden in een bericht voorkomen en niet met de volgorde ervan. Daardoor is het bag-of-words model heel beperkt in het capteren van de context waarin woorden in een bericht voorkomen . Tijdens de module deep learning zullen we afstappen van het bag-of-words model en gebruik maken van word embeddings in combinatie met LSTM neurale netwerken. Op deze manier kunnen we modellen trainen die wel rekening houden met de context en woordvolgordes."
   ]
  },
  {
   "cell_type": "code",
   "execution_count": 21,
   "metadata": {},
   "outputs": [],
   "source": [
    "%matplotlib inline\n",
    "import timeit\n",
    "import numpy as np\n",
    "import pandas as pd\n",
    "import matplotlib.pyplot as plt\n",
    "from sklearn.model_selection import train_test_split, ParameterGrid\n",
    "from sklearn.metrics import classification_report\n",
    "from sklearn.metrics import confusion_matrix, ConfusionMatrixDisplay\n",
    "from sklearn.metrics import accuracy_score, f1_score\n",
    "from sklearn.metrics import roc_curve, auc, det_curve\n",
    "\n",
    "from sklearn.linear_model import LogisticRegression\n",
    "from sklearn.svm import SVC\n",
    "from sklearn.naive_bayes import MultinomialNB\n",
    "from sklearn.naive_bayes import GaussianNB\n",
    "from sklearn.model_selection import GridSearchCV\n",
    "from sklearn.preprocessing import StandardScaler\n",
    "\n",
    "import nltk\n",
    "import seaborn as sns\n",
    "from nltk.corpus import stopwords\n",
    "#nltk.download('stopwords')\n",
    "import re #regular expressions\n",
    "from bs4 import BeautifulSoup\n",
    "from nltk.stem.snowball import SnowballStemmer\n",
    "from sklearn.feature_extraction.text import CountVectorizer\n",
    "from sklearn.feature_extraction.text import TfidfTransformer\n",
    "\n",
    "from scipy.sparse import csr_matrix\n",
    "\n",
    "pd.set_option('display.max_rows',1000)\n",
    "pd.set_option('display.max_columns',1000)\n",
    "pd.set_option('display.max_colwidth',150)\n",
    "\n",
    "# Eigen functies\n",
    "def ismissing(df):\n",
    "    all_columns = df.columns\n",
    "\n",
    "    missing_arr = []\n",
    "    missing_column = ['Column name', 'Number of missing values']\n",
    "\n",
    "    for c in all_columns:\n",
    "        mv = df[c].isnull().sum()\n",
    "        if mv != 0:\n",
    "            missing_row = [c, mv]\n",
    "            missing_arr.append(missing_row)\n",
    "    \n",
    "    if not missing_arr:\n",
    "        print(\"Er zijn geen ontbrekende waarden\")\n",
    "    else:\n",
    "        missing_df = pd.DataFrame(missing_arr, columns = missing_column)\n",
    "        return missing_df\n",
    "\n",
    "# Functie ontleend aan de cursus en aangepast (bron: Wouter Gevaert, Notebook Naive Bayes demo)\n",
    "def text_preprocessing(text, language, minwordlength):\n",
    "    \n",
    "    # remove html\n",
    "    text_no_html = BeautifulSoup(str(text),\"html.parser\" ).get_text()\n",
    "    \n",
    "    # remove non-letters\n",
    "    text_alpha_chars = re.sub(\"[^a-zA-Z']\", \" \", str(text_no_html)) \n",
    "        \n",
    "    # convert to lower-case\n",
    "    text_lower = text_alpha_chars.lower()\n",
    "    \n",
    "    # remove stop words\n",
    "    stops = set(stopwords.words(language)) \n",
    "    text_no_stop_words = ' '\n",
    "    \n",
    "    for w in text_lower.split():\n",
    "        if w not in stops:  \n",
    "            text_no_stop_words = text_no_stop_words + w + ' '\n",
    "      \n",
    "       # do stemming\n",
    "    text_stemmer = ' '\n",
    "    stemmer = SnowballStemmer('english')\n",
    "    for w in text_no_stop_words.split():\n",
    "        text_stemmer = text_stemmer + stemmer.stem(w) + ' '\n",
    "         \n",
    "    # remove short words\n",
    "    text_no_short_words = ' '\n",
    "    for w in text_stemmer.split(): \n",
    "        if len(w) >= minwordlength:\n",
    "            text_no_short_words = text_no_short_words + w + ' '\n",
    " \n",
    "\n",
    "    return text_no_short_words"
   ]
  },
  {
   "cell_type": "markdown",
   "metadata": {},
   "source": [
    "## Airline sentiment\n",
    "\n",
    "De dataset 'Airlines_sentiment.csv' bevat tweets over verschillende airlines. Jouw taak bestaat erin om een classifier te trainen die zo goed mogelijk het sentiment van de tweets kan classificeren als positive, neutral en negative.\n",
    "Het sentiment bevindt zich in de kolom 'airline_sentiment' en de tweet zelf in de kolom 'text'.\n",
    "Doorloop de volgende stappen:\n",
    "- Analyse van de data\n",
    "- Preprocessing\n",
    "- Training en hyperparameter tuning\n",
    "- Modeloptimalisatie\n"
   ]
  },
  {
   "cell_type": "code",
   "execution_count": 9,
   "metadata": {},
   "outputs": [
    {
     "data": {
      "text/html": [
       "<div>\n",
       "<style scoped>\n",
       "    .dataframe tbody tr th:only-of-type {\n",
       "        vertical-align: middle;\n",
       "    }\n",
       "\n",
       "    .dataframe tbody tr th {\n",
       "        vertical-align: top;\n",
       "    }\n",
       "\n",
       "    .dataframe thead th {\n",
       "        text-align: right;\n",
       "    }\n",
       "</style>\n",
       "<table border=\"1\" class=\"dataframe\">\n",
       "  <thead>\n",
       "    <tr style=\"text-align: right;\">\n",
       "      <th></th>\n",
       "      <th>_unit_id</th>\n",
       "      <th>_golden</th>\n",
       "      <th>_unit_state</th>\n",
       "      <th>_trusted_judgments</th>\n",
       "      <th>_last_judgment_at</th>\n",
       "      <th>airline_sentiment</th>\n",
       "      <th>airline_sentiment:confidence</th>\n",
       "      <th>negativereason</th>\n",
       "      <th>negativereason:confidence</th>\n",
       "      <th>airline</th>\n",
       "      <th>airline_sentiment_gold</th>\n",
       "      <th>name</th>\n",
       "      <th>negativereason_gold</th>\n",
       "      <th>retweet_count</th>\n",
       "      <th>text</th>\n",
       "      <th>tweet_coord</th>\n",
       "      <th>tweet_created</th>\n",
       "      <th>tweet_id</th>\n",
       "      <th>tweet_location</th>\n",
       "      <th>user_timezone</th>\n",
       "    </tr>\n",
       "  </thead>\n",
       "  <tbody>\n",
       "    <tr>\n",
       "      <th>14635</th>\n",
       "      <td>681679794</td>\n",
       "      <td>False</td>\n",
       "      <td>finalized</td>\n",
       "      <td>3</td>\n",
       "      <td>2/25/15 19:46</td>\n",
       "      <td>positive</td>\n",
       "      <td>0.3487</td>\n",
       "      <td>NaN</td>\n",
       "      <td>0.0000</td>\n",
       "      <td>American</td>\n",
       "      <td>NaN</td>\n",
       "      <td>KristenReenders</td>\n",
       "      <td>NaN</td>\n",
       "      <td>0</td>\n",
       "      <td>@AmericanAir thank you we got on a different flight to Chicago.</td>\n",
       "      <td>NaN</td>\n",
       "      <td>2/22/15 12:01</td>\n",
       "      <td>5.695880e+17</td>\n",
       "      <td>NaN</td>\n",
       "      <td>NaN</td>\n",
       "    </tr>\n",
       "    <tr>\n",
       "      <th>14636</th>\n",
       "      <td>681679795</td>\n",
       "      <td>False</td>\n",
       "      <td>finalized</td>\n",
       "      <td>3</td>\n",
       "      <td>2/25/15 19:14</td>\n",
       "      <td>negative</td>\n",
       "      <td>1.0000</td>\n",
       "      <td>Customer Service Issue</td>\n",
       "      <td>1.0000</td>\n",
       "      <td>American</td>\n",
       "      <td>NaN</td>\n",
       "      <td>itsropes</td>\n",
       "      <td>NaN</td>\n",
       "      <td>0</td>\n",
       "      <td>@AmericanAir leaving over 20 minutes Late Flight. No warnings or communication until we were 15 minutes Late Flight. That's called shitty customer...</td>\n",
       "      <td>NaN</td>\n",
       "      <td>2/22/15 11:59</td>\n",
       "      <td>5.695870e+17</td>\n",
       "      <td>Texas</td>\n",
       "      <td>NaN</td>\n",
       "    </tr>\n",
       "    <tr>\n",
       "      <th>14637</th>\n",
       "      <td>681679796</td>\n",
       "      <td>False</td>\n",
       "      <td>finalized</td>\n",
       "      <td>3</td>\n",
       "      <td>2/25/15 19:04</td>\n",
       "      <td>neutral</td>\n",
       "      <td>1.0000</td>\n",
       "      <td>NaN</td>\n",
       "      <td>NaN</td>\n",
       "      <td>American</td>\n",
       "      <td>NaN</td>\n",
       "      <td>sanyabun</td>\n",
       "      <td>NaN</td>\n",
       "      <td>0</td>\n",
       "      <td>@AmericanAir Please bring American Airlines to #BlackBerry10</td>\n",
       "      <td>NaN</td>\n",
       "      <td>2/22/15 11:59</td>\n",
       "      <td>5.695870e+17</td>\n",
       "      <td>Nigeria,lagos</td>\n",
       "      <td>NaN</td>\n",
       "    </tr>\n",
       "    <tr>\n",
       "      <th>14638</th>\n",
       "      <td>681679797</td>\n",
       "      <td>False</td>\n",
       "      <td>finalized</td>\n",
       "      <td>3</td>\n",
       "      <td>2/25/15 18:59</td>\n",
       "      <td>negative</td>\n",
       "      <td>1.0000</td>\n",
       "      <td>Customer Service Issue</td>\n",
       "      <td>0.6659</td>\n",
       "      <td>American</td>\n",
       "      <td>NaN</td>\n",
       "      <td>SraJackson</td>\n",
       "      <td>NaN</td>\n",
       "      <td>0</td>\n",
       "      <td>@AmericanAir you have my money, you change my flight, and don't answer your phones! Any other suggestions so I can make my commitment??</td>\n",
       "      <td>NaN</td>\n",
       "      <td>2/22/15 11:59</td>\n",
       "      <td>5.695870e+17</td>\n",
       "      <td>New Jersey</td>\n",
       "      <td>Eastern Time (US &amp; Canada)</td>\n",
       "    </tr>\n",
       "    <tr>\n",
       "      <th>14639</th>\n",
       "      <td>681679798</td>\n",
       "      <td>False</td>\n",
       "      <td>finalized</td>\n",
       "      <td>3</td>\n",
       "      <td>2/25/15 19:06</td>\n",
       "      <td>neutral</td>\n",
       "      <td>0.6771</td>\n",
       "      <td>NaN</td>\n",
       "      <td>0.0000</td>\n",
       "      <td>American</td>\n",
       "      <td>NaN</td>\n",
       "      <td>daviddtwu</td>\n",
       "      <td>NaN</td>\n",
       "      <td>0</td>\n",
       "      <td>@AmericanAir we have 8 ppl so we need 2 know how many seats are on the next flight. Plz put us on standby for 4 people on the next flight?</td>\n",
       "      <td>NaN</td>\n",
       "      <td>2/22/15 11:58</td>\n",
       "      <td>5.695870e+17</td>\n",
       "      <td>dallas, TX</td>\n",
       "      <td>NaN</td>\n",
       "    </tr>\n",
       "  </tbody>\n",
       "</table>\n",
       "</div>"
      ],
      "text/plain": [
       "        _unit_id  _golden _unit_state  _trusted_judgments _last_judgment_at  \\\n",
       "14635  681679794    False   finalized                   3     2/25/15 19:46   \n",
       "14636  681679795    False   finalized                   3     2/25/15 19:14   \n",
       "14637  681679796    False   finalized                   3     2/25/15 19:04   \n",
       "14638  681679797    False   finalized                   3     2/25/15 18:59   \n",
       "14639  681679798    False   finalized                   3     2/25/15 19:06   \n",
       "\n",
       "      airline_sentiment  airline_sentiment:confidence          negativereason  \\\n",
       "14635          positive                        0.3487                     NaN   \n",
       "14636          negative                        1.0000  Customer Service Issue   \n",
       "14637           neutral                        1.0000                     NaN   \n",
       "14638          negative                        1.0000  Customer Service Issue   \n",
       "14639           neutral                        0.6771                     NaN   \n",
       "\n",
       "       negativereason:confidence   airline airline_sentiment_gold  \\\n",
       "14635                     0.0000  American                    NaN   \n",
       "14636                     1.0000  American                    NaN   \n",
       "14637                        NaN  American                    NaN   \n",
       "14638                     0.6659  American                    NaN   \n",
       "14639                     0.0000  American                    NaN   \n",
       "\n",
       "                  name negativereason_gold  retweet_count  \\\n",
       "14635  KristenReenders                 NaN              0   \n",
       "14636         itsropes                 NaN              0   \n",
       "14637         sanyabun                 NaN              0   \n",
       "14638       SraJackson                 NaN              0   \n",
       "14639        daviddtwu                 NaN              0   \n",
       "\n",
       "                                                                                                                                                        text  \\\n",
       "14635                                                                                        @AmericanAir thank you we got on a different flight to Chicago.   \n",
       "14636  @AmericanAir leaving over 20 minutes Late Flight. No warnings or communication until we were 15 minutes Late Flight. That's called shitty customer...   \n",
       "14637                                                                                           @AmericanAir Please bring American Airlines to #BlackBerry10   \n",
       "14638                @AmericanAir you have my money, you change my flight, and don't answer your phones! Any other suggestions so I can make my commitment??   \n",
       "14639             @AmericanAir we have 8 ppl so we need 2 know how many seats are on the next flight. Plz put us on standby for 4 people on the next flight?   \n",
       "\n",
       "      tweet_coord  tweet_created      tweet_id tweet_location  \\\n",
       "14635         NaN  2/22/15 12:01  5.695880e+17            NaN   \n",
       "14636         NaN  2/22/15 11:59  5.695870e+17          Texas   \n",
       "14637         NaN  2/22/15 11:59  5.695870e+17  Nigeria,lagos   \n",
       "14638         NaN  2/22/15 11:59  5.695870e+17     New Jersey   \n",
       "14639         NaN  2/22/15 11:58  5.695870e+17     dallas, TX   \n",
       "\n",
       "                    user_timezone  \n",
       "14635                         NaN  \n",
       "14636                         NaN  \n",
       "14637                         NaN  \n",
       "14638  Eastern Time (US & Canada)  \n",
       "14639                         NaN  "
      ]
     },
     "execution_count": 9,
     "metadata": {},
     "output_type": "execute_result"
    }
   ],
   "source": [
    "# Inlezen van de dataset\n",
    "\n",
    "airline = pd.read_csv('Airline_sentiment.csv',encoding = 'ISO-8859-1')\n",
    "airline.tail()"
   ]
  },
  {
   "cell_type": "code",
   "execution_count": 10,
   "metadata": {},
   "outputs": [
    {
     "data": {
      "text/plain": [
       "(14640, 20)"
      ]
     },
     "execution_count": 10,
     "metadata": {},
     "output_type": "execute_result"
    }
   ],
   "source": [
    "airline.shape"
   ]
  },
  {
   "cell_type": "markdown",
   "metadata": {
    "tags": []
   },
   "source": [
    "### Analyse van de dataset\n",
    "\n",
    "- Onderzoek de gebalanceerdheid van de dataset. Stel grafisch de verdeling voor van het sentiment.\n",
    "- Visualiseer de verdeling van het sentiment per airline. Maak daarvoor per airline een Seaborn countplot van het sentiment.\n",
    "- Welke airline lijkt op basis van deze tweet het best te scoren en welke het slechtst?\n",
    "- Uit hoeveel woorden bestaat het langste twitter bericht en uit hoeveel woorden het kortste?"
   ]
  },
  {
   "cell_type": "markdown",
   "metadata": {},
   "source": [
    "#### Gebalanceerdheid van de dataset\n",
    "Door middel van een countplot wordt de gebalanceerdheid van de dataset weergegeven. Vervolgens worden de absolute waarden en frequenties weergegeven."
   ]
  },
  {
   "cell_type": "code",
   "execution_count": 11,
   "metadata": {},
   "outputs": [
    {
     "data": {
      "text/plain": [
       "<AxesSubplot:xlabel='airline_sentiment', ylabel='count'>"
      ]
     },
     "execution_count": 11,
     "metadata": {},
     "output_type": "execute_result"
    },
    {
     "data": {
      "image/png": "[encoded data removed]",
      "text/plain": [
       "<Figure size 432x288 with 1 Axes>"
      ]
     },
     "metadata": {
      "needs_background": "light"
     },
     "output_type": "display_data"
    }
   ],
   "source": [
    "# Gebalanceerdheid van de dataset\n",
    "sns.countplot(x=\"airline_sentiment\", data=airline)"
   ]
  },
  {
   "cell_type": "code",
   "execution_count": 12,
   "metadata": {},
   "outputs": [
    {
     "data": {
      "text/plain": [
       "negative    9178\n",
       "neutral     3099\n",
       "positive    2363\n",
       "Name: airline_sentiment, dtype: int64"
      ]
     },
     "execution_count": 12,
     "metadata": {},
     "output_type": "execute_result"
    }
   ],
   "source": [
    "airline['airline_sentiment'].value_counts()"
   ]
  },
  {
   "cell_type": "code",
   "execution_count": 13,
   "metadata": {},
   "outputs": [
    {
     "data": {
      "text/plain": [
       "negative    0.626913\n",
       "neutral     0.211680\n",
       "positive    0.161407\n",
       "Name: airline_sentiment, dtype: float64"
      ]
     },
     "execution_count": 13,
     "metadata": {},
     "output_type": "execute_result"
    }
   ],
   "source": [
    "airline['airline_sentiment'].value_counts(normalize=True)"
   ]
  },
  {
   "cell_type": "markdown",
   "metadata": {},
   "source": [
    "**Conclusie**: de dataset is niet gebalanceerd. Er is een dominantie van de categorie \"negative\". De minderheidsklase is \"positive\". De verdeling van de drie klassen volgens frequentie is als volgt:\n",
    "- \"negative\": 63%\n",
    "- \"neutral\": 21%\n",
    "- \"positive\": 16%"
   ]
  },
  {
   "cell_type": "markdown",
   "metadata": {},
   "source": [
    "#### Verdeling van het sentiment per airline\n",
    "De verdeling van het sentiment per airline wordt weergegeven doormiddel van onderstaande countplots. De eerste groepeert de airline volgens sentiment, de tweede vice versa."
   ]
  },
  {
   "cell_type": "code",
   "execution_count": 14,
   "metadata": {},
   "outputs": [
    {
     "data": {
      "text/plain": [
       "<AxesSubplot:xlabel='airline_sentiment', ylabel='count'>"
      ]
     },
     "execution_count": 14,
     "metadata": {},
     "output_type": "execute_result"
    },
    {
     "data": {
      "image/png": "[encoded data removed]",
      "text/plain": [
       "<Figure size 432x288 with 1 Axes>"
      ]
     },
     "metadata": {
      "needs_background": "light"
     },
     "output_type": "display_data"
    }
   ],
   "source": [
    "sns.countplot(x=\"airline_sentiment\", data=airline, hue=\"airline\")"
   ]
  },
  {
   "cell_type": "code",
   "execution_count": 15,
   "metadata": {},
   "outputs": [
    {
     "data": {
      "text/plain": [
       "<AxesSubplot:xlabel='airline', ylabel='count'>"
      ]
     },
     "execution_count": 15,
     "metadata": {},
     "output_type": "execute_result"
    },
    {
     "data": {
      "image/png": "[encoded data removed]",
      "text/plain": [
       "<Figure size 432x288 with 1 Axes>"
      ]
     },
     "metadata": {
      "needs_background": "light"
     },
     "output_type": "display_data"
    }
   ],
   "source": [
    "sns.countplot(x=\"airline\", data=airline, hue=\"airline_sentiment\")"
   ]
  },
  {
   "cell_type": "markdown",
   "metadata": {},
   "source": [
    "#### Beste en slechtste sentiments\n",
    "Op basis van voorgaande countplots valt op dat de airline \"United\" de meeste tweets hebben met een negative sentiment. United wordt gevolgd door \"US Airways\" en \"American\".\n",
    "\n",
    "De airline met de meeste tweets met een positieve sentiment is \"Southwest\", dicht gevolgd door \"Delta\" en \"United\".\n",
    "\n",
    "Om te kijken naar welke airline het nu echt het beste deed, lijkt het nuttig om te kijken naar de verhouding tussen negatieve en positieve sentimenten. Deze verhouding is het beste bij \"Virgin America\". Bij deze airline nadert deze een 1:1 ratio. Belangrijke nota bij deze airline: het totaal aantal tweets is veel lager dan deze voor andere airlines. De slechtste verhouding tussen positieve en negatieve sentimenten wordt gezien bij \"US Airways\", gevolgd door \"United\" en \"American\"."
   ]
  },
  {
   "cell_type": "markdown",
   "metadata": {},
   "source": [
    "#### Langste en kortste twitterberichten\n",
    "Het aantal woorden wordt geteld en de min waarde en max waarde worden hieronder weergegeven."
   ]
  },
  {
   "cell_type": "code",
   "execution_count": 16,
   "metadata": {},
   "outputs": [
    {
     "name": "stdout",
     "output_type": "stream",
     "text": [
      "Het aantal woorden in het kortste bericht: \t  2 \t\t Dataframe index: \t  14\n",
      "Het aantal woorden in het langste bericht: \t 36 \t\t Dataframe index: \t8062\n"
     ]
    }
   ],
   "source": [
    "airline['word_count'] = airline.text.apply(lambda x: len(str(x).split(' ')))\n",
    "print(f\"Het aantal woorden in het kortste bericht: \\t{airline.word_count.min():3d} \\t\\t Dataframe index: \\t{airline.word_count.idxmin():4d}\")\n",
    "print(f\"Het aantal woorden in het langste bericht: \\t{airline.word_count.max():3d} \\t\\t Dataframe index: \\t{airline.word_count.idxmax():4d}\")\n"
   ]
  },
  {
   "cell_type": "markdown",
   "metadata": {},
   "source": [
    "Het kortste twitterbericht heeft slechts 2 woorden. Dit twitter bericht kan in de Pandas Dataframe worden gevonden in de rij met index 14.\n",
    "\n",
    "Het langste twitterbericht heeft 36 woorden. Dit twitter bericht kan in de Pandas Dataframe worden gevonden in de rij met index 8062."
   ]
  },
  {
   "cell_type": "code",
   "execution_count": 17,
   "metadata": {},
   "outputs": [
    {
     "data": {
      "text/html": [
       "<div>\n",
       "<style scoped>\n",
       "    .dataframe tbody tr th:only-of-type {\n",
       "        vertical-align: middle;\n",
       "    }\n",
       "\n",
       "    .dataframe tbody tr th {\n",
       "        vertical-align: top;\n",
       "    }\n",
       "\n",
       "    .dataframe thead th {\n",
       "        text-align: right;\n",
       "    }\n",
       "</style>\n",
       "<table border=\"1\" class=\"dataframe\">\n",
       "  <thead>\n",
       "    <tr style=\"text-align: right;\">\n",
       "      <th></th>\n",
       "      <th>_unit_id</th>\n",
       "      <th>_golden</th>\n",
       "      <th>_unit_state</th>\n",
       "      <th>_trusted_judgments</th>\n",
       "      <th>_last_judgment_at</th>\n",
       "      <th>airline_sentiment</th>\n",
       "      <th>airline_sentiment:confidence</th>\n",
       "      <th>negativereason</th>\n",
       "      <th>negativereason:confidence</th>\n",
       "      <th>airline</th>\n",
       "      <th>airline_sentiment_gold</th>\n",
       "      <th>name</th>\n",
       "      <th>negativereason_gold</th>\n",
       "      <th>retweet_count</th>\n",
       "      <th>text</th>\n",
       "      <th>tweet_coord</th>\n",
       "      <th>tweet_created</th>\n",
       "      <th>tweet_id</th>\n",
       "      <th>tweet_location</th>\n",
       "      <th>user_timezone</th>\n",
       "      <th>word_count</th>\n",
       "      <th>length</th>\n",
       "    </tr>\n",
       "  </thead>\n",
       "  <tbody>\n",
       "    <tr>\n",
       "      <th>0</th>\n",
       "      <td>681448150</td>\n",
       "      <td>False</td>\n",
       "      <td>finalized</td>\n",
       "      <td>3</td>\n",
       "      <td>2/25/15 5:24</td>\n",
       "      <td>neutral</td>\n",
       "      <td>1.0000</td>\n",
       "      <td>NaN</td>\n",
       "      <td>NaN</td>\n",
       "      <td>Virgin America</td>\n",
       "      <td>NaN</td>\n",
       "      <td>cairdin</td>\n",
       "      <td>NaN</td>\n",
       "      <td>0</td>\n",
       "      <td>@VirginAmerica What @dhepburn said.</td>\n",
       "      <td>NaN</td>\n",
       "      <td>2/24/15 11:35</td>\n",
       "      <td>5.703060e+17</td>\n",
       "      <td>NaN</td>\n",
       "      <td>Eastern Time (US &amp; Canada)</td>\n",
       "      <td>4</td>\n",
       "      <td>35</td>\n",
       "    </tr>\n",
       "    <tr>\n",
       "      <th>1</th>\n",
       "      <td>681448153</td>\n",
       "      <td>False</td>\n",
       "      <td>finalized</td>\n",
       "      <td>3</td>\n",
       "      <td>2/25/15 1:53</td>\n",
       "      <td>positive</td>\n",
       "      <td>0.3486</td>\n",
       "      <td>NaN</td>\n",
       "      <td>0.0000</td>\n",
       "      <td>Virgin America</td>\n",
       "      <td>NaN</td>\n",
       "      <td>jnardino</td>\n",
       "      <td>NaN</td>\n",
       "      <td>0</td>\n",
       "      <td>@VirginAmerica plus you've added commercials to the experience... tacky.</td>\n",
       "      <td>NaN</td>\n",
       "      <td>2/24/15 11:15</td>\n",
       "      <td>5.703010e+17</td>\n",
       "      <td>NaN</td>\n",
       "      <td>Pacific Time (US &amp; Canada)</td>\n",
       "      <td>9</td>\n",
       "      <td>72</td>\n",
       "    </tr>\n",
       "    <tr>\n",
       "      <th>2</th>\n",
       "      <td>681448156</td>\n",
       "      <td>False</td>\n",
       "      <td>finalized</td>\n",
       "      <td>3</td>\n",
       "      <td>2/25/15 10:01</td>\n",
       "      <td>neutral</td>\n",
       "      <td>0.6837</td>\n",
       "      <td>NaN</td>\n",
       "      <td>NaN</td>\n",
       "      <td>Virgin America</td>\n",
       "      <td>NaN</td>\n",
       "      <td>yvonnalynn</td>\n",
       "      <td>NaN</td>\n",
       "      <td>0</td>\n",
       "      <td>@VirginAmerica I didn't today... Must mean I need to take another trip!</td>\n",
       "      <td>NaN</td>\n",
       "      <td>2/24/15 11:15</td>\n",
       "      <td>5.703010e+17</td>\n",
       "      <td>Lets Play</td>\n",
       "      <td>Central Time (US &amp; Canada)</td>\n",
       "      <td>12</td>\n",
       "      <td>71</td>\n",
       "    </tr>\n",
       "    <tr>\n",
       "      <th>3</th>\n",
       "      <td>681448158</td>\n",
       "      <td>False</td>\n",
       "      <td>finalized</td>\n",
       "      <td>3</td>\n",
       "      <td>2/25/15 3:05</td>\n",
       "      <td>negative</td>\n",
       "      <td>1.0000</td>\n",
       "      <td>Bad Flight</td>\n",
       "      <td>0.7033</td>\n",
       "      <td>Virgin America</td>\n",
       "      <td>NaN</td>\n",
       "      <td>jnardino</td>\n",
       "      <td>NaN</td>\n",
       "      <td>0</td>\n",
       "      <td>@VirginAmerica it's really aggressive to blast obnoxious \"entertainment\" in your guests' faces &amp;amp; they have little recourse</td>\n",
       "      <td>NaN</td>\n",
       "      <td>2/24/15 11:15</td>\n",
       "      <td>5.703010e+17</td>\n",
       "      <td>NaN</td>\n",
       "      <td>Pacific Time (US &amp; Canada)</td>\n",
       "      <td>17</td>\n",
       "      <td>126</td>\n",
       "    </tr>\n",
       "    <tr>\n",
       "      <th>4</th>\n",
       "      <td>681448159</td>\n",
       "      <td>False</td>\n",
       "      <td>finalized</td>\n",
       "      <td>3</td>\n",
       "      <td>2/25/15 5:50</td>\n",
       "      <td>negative</td>\n",
       "      <td>1.0000</td>\n",
       "      <td>Can't Tell</td>\n",
       "      <td>1.0000</td>\n",
       "      <td>Virgin America</td>\n",
       "      <td>NaN</td>\n",
       "      <td>jnardino</td>\n",
       "      <td>NaN</td>\n",
       "      <td>0</td>\n",
       "      <td>@VirginAmerica and it's a really big bad thing about it</td>\n",
       "      <td>NaN</td>\n",
       "      <td>2/24/15 11:14</td>\n",
       "      <td>5.703010e+17</td>\n",
       "      <td>NaN</td>\n",
       "      <td>Pacific Time (US &amp; Canada)</td>\n",
       "      <td>10</td>\n",
       "      <td>55</td>\n",
       "    </tr>\n",
       "  </tbody>\n",
       "</table>\n",
       "</div>"
      ],
      "text/plain": [
       "    _unit_id  _golden _unit_state  _trusted_judgments _last_judgment_at  \\\n",
       "0  681448150    False   finalized                   3      2/25/15 5:24   \n",
       "1  681448153    False   finalized                   3      2/25/15 1:53   \n",
       "2  681448156    False   finalized                   3     2/25/15 10:01   \n",
       "3  681448158    False   finalized                   3      2/25/15 3:05   \n",
       "4  681448159    False   finalized                   3      2/25/15 5:50   \n",
       "\n",
       "  airline_sentiment  airline_sentiment:confidence negativereason  \\\n",
       "0           neutral                        1.0000            NaN   \n",
       "1          positive                        0.3486            NaN   \n",
       "2           neutral                        0.6837            NaN   \n",
       "3          negative                        1.0000     Bad Flight   \n",
       "4          negative                        1.0000     Can't Tell   \n",
       "\n",
       "   negativereason:confidence         airline airline_sentiment_gold  \\\n",
       "0                        NaN  Virgin America                    NaN   \n",
       "1                     0.0000  Virgin America                    NaN   \n",
       "2                        NaN  Virgin America                    NaN   \n",
       "3                     0.7033  Virgin America                    NaN   \n",
       "4                     1.0000  Virgin America                    NaN   \n",
       "\n",
       "         name negativereason_gold  retweet_count  \\\n",
       "0     cairdin                 NaN              0   \n",
       "1    jnardino                 NaN              0   \n",
       "2  yvonnalynn                 NaN              0   \n",
       "3    jnardino                 NaN              0   \n",
       "4    jnardino                 NaN              0   \n",
       "\n",
       "                                                                                                                             text  \\\n",
       "0                                                                                             @VirginAmerica What @dhepburn said.   \n",
       "1                                                        @VirginAmerica plus you've added commercials to the experience... tacky.   \n",
       "2                                                         @VirginAmerica I didn't today... Must mean I need to take another trip!   \n",
       "3  @VirginAmerica it's really aggressive to blast obnoxious \"entertainment\" in your guests' faces &amp; they have little recourse   \n",
       "4                                                                         @VirginAmerica and it's a really big bad thing about it   \n",
       "\n",
       "  tweet_coord  tweet_created      tweet_id tweet_location  \\\n",
       "0         NaN  2/24/15 11:35  5.703060e+17            NaN   \n",
       "1         NaN  2/24/15 11:15  5.703010e+17            NaN   \n",
       "2         NaN  2/24/15 11:15  5.703010e+17      Lets Play   \n",
       "3         NaN  2/24/15 11:15  5.703010e+17            NaN   \n",
       "4         NaN  2/24/15 11:14  5.703010e+17            NaN   \n",
       "\n",
       "                user_timezone  word_count  length  \n",
       "0  Eastern Time (US & Canada)           4      35  \n",
       "1  Pacific Time (US & Canada)           9      72  \n",
       "2  Central Time (US & Canada)          12      71  \n",
       "3  Pacific Time (US & Canada)          17     126  \n",
       "4  Pacific Time (US & Canada)          10      55  "
      ]
     },
     "execution_count": 17,
     "metadata": {},
     "output_type": "execute_result"
    }
   ],
   "source": [
    "airline['length'] = airline.text.apply(len)\n",
    "airline.head()"
   ]
  },
  {
   "cell_type": "markdown",
   "metadata": {},
   "source": [
    "### Preprocessing\n",
    "\n",
    "Onderzoek of er mogelijks foutieve of ontbrekende data aanwezig is. \n",
    "Kuis de tweets op: verwijder stopwoorden en niet-letters, zet alles om naar lowercase en pas stemming toe.\n",
    "Maak gebruik van de CountVectorizer en TfidfTransformer om een bag-of-words model te creëren. \n",
    "\n",
    "Meer info: \n",
    "\n",
    "https://scikit-learn.org/stable/modules/generated/sklearn.feature_extraction.text.CountVectorizer.html \n",
    "\n",
    "https://scikit-learn.org/stable/modules/generated/sklearn.feature_extraction.text.TfidfTransformer.html#sklearn.feature_extraction.text.TfidfTransformer \n",
    "\n",
    "https://scikit-learn.org/stable/modules/generated/sklearn.feature_extraction.text.TfidfVectorizer.html#sklearn.feature_extraction.text.TfidfVectorizer\n",
    "\n",
    "Splits op in een training set en test set. Zorg ervoor dat er 3000 tweets in de test set steken.\n"
   ]
  },
  {
   "cell_type": "code",
   "execution_count": 18,
   "metadata": {},
   "outputs": [
    {
     "data": {
      "text/html": [
       "<div>\n",
       "<style scoped>\n",
       "    .dataframe tbody tr th:only-of-type {\n",
       "        vertical-align: middle;\n",
       "    }\n",
       "\n",
       "    .dataframe tbody tr th {\n",
       "        vertical-align: top;\n",
       "    }\n",
       "\n",
       "    .dataframe thead th {\n",
       "        text-align: right;\n",
       "    }\n",
       "</style>\n",
       "<table border=\"1\" class=\"dataframe\">\n",
       "  <thead>\n",
       "    <tr style=\"text-align: right;\">\n",
       "      <th></th>\n",
       "      <th>Column name</th>\n",
       "      <th>Number of missing values</th>\n",
       "    </tr>\n",
       "  </thead>\n",
       "  <tbody>\n",
       "    <tr>\n",
       "      <th>0</th>\n",
       "      <td>_last_judgment_at</td>\n",
       "      <td>56</td>\n",
       "    </tr>\n",
       "    <tr>\n",
       "      <th>1</th>\n",
       "      <td>negativereason</td>\n",
       "      <td>5462</td>\n",
       "    </tr>\n",
       "    <tr>\n",
       "      <th>2</th>\n",
       "      <td>negativereason:confidence</td>\n",
       "      <td>4118</td>\n",
       "    </tr>\n",
       "    <tr>\n",
       "      <th>3</th>\n",
       "      <td>airline_sentiment_gold</td>\n",
       "      <td>14600</td>\n",
       "    </tr>\n",
       "    <tr>\n",
       "      <th>4</th>\n",
       "      <td>negativereason_gold</td>\n",
       "      <td>14608</td>\n",
       "    </tr>\n",
       "    <tr>\n",
       "      <th>5</th>\n",
       "      <td>tweet_coord</td>\n",
       "      <td>13621</td>\n",
       "    </tr>\n",
       "    <tr>\n",
       "      <th>6</th>\n",
       "      <td>tweet_location</td>\n",
       "      <td>4733</td>\n",
       "    </tr>\n",
       "    <tr>\n",
       "      <th>7</th>\n",
       "      <td>user_timezone</td>\n",
       "      <td>4820</td>\n",
       "    </tr>\n",
       "  </tbody>\n",
       "</table>\n",
       "</div>"
      ],
      "text/plain": [
       "                 Column name  Number of missing values\n",
       "0          _last_judgment_at                        56\n",
       "1             negativereason                      5462\n",
       "2  negativereason:confidence                      4118\n",
       "3     airline_sentiment_gold                     14600\n",
       "4        negativereason_gold                     14608\n",
       "5                tweet_coord                     13621\n",
       "6             tweet_location                      4733\n",
       "7              user_timezone                      4820"
      ]
     },
     "execution_count": 18,
     "metadata": {},
     "output_type": "execute_result"
    }
   ],
   "source": [
    "# Ontbrekende data\n",
    "ismissing(airline)"
   ]
  },
  {
   "cell_type": "markdown",
   "metadata": {},
   "source": [
    "#### Ontbrekende, foutieve en niet-informatieve waarden\n",
    "Het totaal aantal observaties is 14640. Dat betekent dat de meerderheid van de waarden van de kolommen 'airline_sentiment_gold', 'negativereason_gold' en 'tweet_coord' een missing value betreft. Verwijderen van deze kolommen hebben meer zin dan het verwijderen van observaties, want anders blijven er niet veel observaties meer over in de dataset.\n",
    "\n",
    "De kolom '_last_judgment_at' heeft geen informatieve betekenis in de sentimentanalyse van de twitterberichten en zal daarom ook worden verwijderd. \n",
    "\n",
    "De kolom 'negativereason' geeft een waarde die enkel wordt gegeven indien de uitkomst van de sentimentanalyse 'negative' is. Deze kolom heeft met andere woorde geen betekenis indien de sentiment 'positive' of 'neutral zou zijn. Dezelfde redenering kan worden gemaakt met 'negativereason:confidence'. Ook de algemene 'airline_sentiment:confidence' zou een waarde moeten zijn, die berekend dient te worden na evaluatie. Dit lijkt eveneens geen waarde, dat gegeven zal worden bij nieuwe voorspellingen.\n",
    "\n",
    "Tenslotte zou de tijdzone van de gebruiker geen invloed mogen hebben op het sentiment van een bericht. Daarom worden de kolommen 'user_timezone' en 'tweet_location' eveneens geschrapt. Deze laatste kolom bevatte bovendien veel foutieve waarden.\n",
    "\n",
    "Andere kolommen, zonder ontbrekende waarden, die verder geen informatieve waarden hebben, worden verwijderd. Dit zijn de kolommen: '_unit_id', '_unit_state' 'name', 'tweet_created' en 'tweet_id'.\n",
    "\n",
    "Hieronder wordt een overzicht gegeven van de overgebleven kolommen. Voor elke kolom met uitzondering van de 'text'-kolom zal aan de hand van countplots of wordt bekeken of deze features een impact hebben op het sentiment van een twitterbericht."
   ]
  },
  {
   "cell_type": "code",
   "execution_count": 105,
   "metadata": {},
   "outputs": [
    {
     "data": {
      "text/html": [
       "<div>\n",
       "<style scoped>\n",
       "    .dataframe tbody tr th:only-of-type {\n",
       "        vertical-align: middle;\n",
       "    }\n",
       "\n",
       "    .dataframe tbody tr th {\n",
       "        vertical-align: top;\n",
       "    }\n",
       "\n",
       "    .dataframe thead th {\n",
       "        text-align: right;\n",
       "    }\n",
       "</style>\n",
       "<table border=\"1\" class=\"dataframe\">\n",
       "  <thead>\n",
       "    <tr style=\"text-align: right;\">\n",
       "      <th></th>\n",
       "      <th>_golden</th>\n",
       "      <th>_trusted_judgments</th>\n",
       "      <th>airline_sentiment</th>\n",
       "      <th>airline</th>\n",
       "      <th>retweet_count</th>\n",
       "      <th>text</th>\n",
       "      <th>word_count</th>\n",
       "      <th>length</th>\n",
       "    </tr>\n",
       "  </thead>\n",
       "  <tbody>\n",
       "    <tr>\n",
       "      <th>0</th>\n",
       "      <td>False</td>\n",
       "      <td>3</td>\n",
       "      <td>neutral</td>\n",
       "      <td>Virgin America</td>\n",
       "      <td>0</td>\n",
       "      <td>@VirginAmerica What @dhepburn said.</td>\n",
       "      <td>4</td>\n",
       "      <td>35</td>\n",
       "    </tr>\n",
       "    <tr>\n",
       "      <th>1</th>\n",
       "      <td>False</td>\n",
       "      <td>3</td>\n",
       "      <td>positive</td>\n",
       "      <td>Virgin America</td>\n",
       "      <td>0</td>\n",
       "      <td>@VirginAmerica plus you've added commercials to the experience... tacky.</td>\n",
       "      <td>9</td>\n",
       "      <td>72</td>\n",
       "    </tr>\n",
       "    <tr>\n",
       "      <th>2</th>\n",
       "      <td>False</td>\n",
       "      <td>3</td>\n",
       "      <td>neutral</td>\n",
       "      <td>Virgin America</td>\n",
       "      <td>0</td>\n",
       "      <td>@VirginAmerica I didn't today... Must mean I need to take another trip!</td>\n",
       "      <td>12</td>\n",
       "      <td>71</td>\n",
       "    </tr>\n",
       "    <tr>\n",
       "      <th>3</th>\n",
       "      <td>False</td>\n",
       "      <td>3</td>\n",
       "      <td>negative</td>\n",
       "      <td>Virgin America</td>\n",
       "      <td>0</td>\n",
       "      <td>@VirginAmerica it's really aggressive to blast obnoxious \"entertainment\" in your guests' faces &amp;amp; they have little recourse</td>\n",
       "      <td>17</td>\n",
       "      <td>126</td>\n",
       "    </tr>\n",
       "    <tr>\n",
       "      <th>4</th>\n",
       "      <td>False</td>\n",
       "      <td>3</td>\n",
       "      <td>negative</td>\n",
       "      <td>Virgin America</td>\n",
       "      <td>0</td>\n",
       "      <td>@VirginAmerica and it's a really big bad thing about it</td>\n",
       "      <td>10</td>\n",
       "      <td>55</td>\n",
       "    </tr>\n",
       "  </tbody>\n",
       "</table>\n",
       "</div>"
      ],
      "text/plain": [
       "   _golden  _trusted_judgments airline_sentiment         airline  \\\n",
       "0    False                   3           neutral  Virgin America   \n",
       "1    False                   3          positive  Virgin America   \n",
       "2    False                   3           neutral  Virgin America   \n",
       "3    False                   3          negative  Virgin America   \n",
       "4    False                   3          negative  Virgin America   \n",
       "\n",
       "   retweet_count  \\\n",
       "0              0   \n",
       "1              0   \n",
       "2              0   \n",
       "3              0   \n",
       "4              0   \n",
       "\n",
       "                                                                                                                             text  \\\n",
       "0                                                                                             @VirginAmerica What @dhepburn said.   \n",
       "1                                                        @VirginAmerica plus you've added commercials to the experience... tacky.   \n",
       "2                                                         @VirginAmerica I didn't today... Must mean I need to take another trip!   \n",
       "3  @VirginAmerica it's really aggressive to blast obnoxious \"entertainment\" in your guests' faces &amp; they have little recourse   \n",
       "4                                                                         @VirginAmerica and it's a really big bad thing about it   \n",
       "\n",
       "   word_count  length  \n",
       "0           4      35  \n",
       "1           9      72  \n",
       "2          12      71  \n",
       "3          17     126  \n",
       "4          10      55  "
      ]
     },
     "execution_count": 105,
     "metadata": {},
     "output_type": "execute_result"
    }
   ],
   "source": [
    "column_drop = ['airline_sentiment_gold', 'negativereason_gold', 'tweet_coord', \n",
    "               '_last_judgment_at', 'negativereason:confidence', 'negativereason', \n",
    "               '_unit_id', '_unit_state', 'name', 'tweet_created' , 'tweet_id', \n",
    "               'user_timezone', 'airline_sentiment:confidence', 'tweet_location']\n",
    "airline.drop(column_drop, axis=1, inplace=True)\n",
    "airline.head()"
   ]
  },
  {
   "cell_type": "code",
   "execution_count": 106,
   "metadata": {},
   "outputs": [
    {
     "data": {
      "text/plain": [
       "<AxesSubplot:xlabel='_golden', ylabel='count'>"
      ]
     },
     "execution_count": 106,
     "metadata": {},
     "output_type": "execute_result"
    },
    {
     "data": {
      "image/png": "[encoded data removed]",
      "text/plain": [
       "<Figure size 1080x540 with 1 Axes>"
      ]
     },
     "metadata": {
      "needs_background": "light"
     },
     "output_type": "display_data"
    }
   ],
   "source": [
    "plt.rcParams['figure.figsize'] = 15,7.5\n",
    "sns.countplot(x='_golden', hue='airline_sentiment', data=airline)\n"
   ]
  },
  {
   "cell_type": "code",
   "execution_count": 107,
   "metadata": {},
   "outputs": [
    {
     "data": {
      "text/html": [
       "<div>\n",
       "<style scoped>\n",
       "    .dataframe tbody tr th:only-of-type {\n",
       "        vertical-align: middle;\n",
       "    }\n",
       "\n",
       "    .dataframe tbody tr th {\n",
       "        vertical-align: top;\n",
       "    }\n",
       "\n",
       "    .dataframe thead th {\n",
       "        text-align: right;\n",
       "    }\n",
       "</style>\n",
       "<table border=\"1\" class=\"dataframe\">\n",
       "  <thead>\n",
       "    <tr style=\"text-align: right;\">\n",
       "      <th></th>\n",
       "      <th>_golden</th>\n",
       "      <th>airline_sentiment</th>\n",
       "      <th>0</th>\n",
       "    </tr>\n",
       "  </thead>\n",
       "  <tbody>\n",
       "    <tr>\n",
       "      <th>0</th>\n",
       "      <td>False</td>\n",
       "      <td>negative</td>\n",
       "      <td>9146</td>\n",
       "    </tr>\n",
       "    <tr>\n",
       "      <th>1</th>\n",
       "      <td>False</td>\n",
       "      <td>neutral</td>\n",
       "      <td>3096</td>\n",
       "    </tr>\n",
       "    <tr>\n",
       "      <th>2</th>\n",
       "      <td>False</td>\n",
       "      <td>positive</td>\n",
       "      <td>2358</td>\n",
       "    </tr>\n",
       "    <tr>\n",
       "      <th>3</th>\n",
       "      <td>True</td>\n",
       "      <td>negative</td>\n",
       "      <td>32</td>\n",
       "    </tr>\n",
       "    <tr>\n",
       "      <th>4</th>\n",
       "      <td>True</td>\n",
       "      <td>neutral</td>\n",
       "      <td>3</td>\n",
       "    </tr>\n",
       "    <tr>\n",
       "      <th>5</th>\n",
       "      <td>True</td>\n",
       "      <td>positive</td>\n",
       "      <td>5</td>\n",
       "    </tr>\n",
       "  </tbody>\n",
       "</table>\n",
       "</div>"
      ],
      "text/plain": [
       "   _golden airline_sentiment     0\n",
       "0    False          negative  9146\n",
       "1    False           neutral  3096\n",
       "2    False          positive  2358\n",
       "3     True          negative    32\n",
       "4     True           neutral     3\n",
       "5     True          positive     5"
      ]
     },
     "execution_count": 107,
     "metadata": {},
     "output_type": "execute_result"
    }
   ],
   "source": [
    "golden = airline.groupby(['_golden','airline_sentiment']).size().reset_index()\n",
    "golden"
   ]
  },
  {
   "cell_type": "code",
   "execution_count": 108,
   "metadata": {},
   "outputs": [
    {
     "data": {
      "text/plain": [
       "<AxesSubplot:xlabel='_trusted_judgments', ylabel='count'>"
      ]
     },
     "execution_count": 108,
     "metadata": {},
     "output_type": "execute_result"
    },
    {
     "data": {
      "image/png": "[encoded data removed]",
      "text/plain": [
       "<Figure size 1440x720 with 1 Axes>"
      ]
     },
     "metadata": {
      "needs_background": "light"
     },
     "output_type": "display_data"
    }
   ],
   "source": [
    "plt.rcParams['figure.figsize'] = 20,10\n",
    "sns.countplot(x='_trusted_judgments', hue='airline_sentiment', data=airline)"
   ]
  },
  {
   "cell_type": "code",
   "execution_count": 109,
   "metadata": {},
   "outputs": [
    {
     "data": {
      "text/html": [
       "<div>\n",
       "<style scoped>\n",
       "    .dataframe tbody tr th:only-of-type {\n",
       "        vertical-align: middle;\n",
       "    }\n",
       "\n",
       "    .dataframe tbody tr th {\n",
       "        vertical-align: top;\n",
       "    }\n",
       "\n",
       "    .dataframe thead th {\n",
       "        text-align: right;\n",
       "    }\n",
       "</style>\n",
       "<table border=\"1\" class=\"dataframe\">\n",
       "  <thead>\n",
       "    <tr style=\"text-align: right;\">\n",
       "      <th></th>\n",
       "      <th>_trusted_judgments</th>\n",
       "      <th>airline_sentiment</th>\n",
       "      <th>0</th>\n",
       "    </tr>\n",
       "  </thead>\n",
       "  <tbody>\n",
       "    <tr>\n",
       "      <th>0</th>\n",
       "      <td>2</td>\n",
       "      <td>negative</td>\n",
       "      <td>14</td>\n",
       "    </tr>\n",
       "    <tr>\n",
       "      <th>1</th>\n",
       "      <td>2</td>\n",
       "      <td>neutral</td>\n",
       "      <td>3</td>\n",
       "    </tr>\n",
       "    <tr>\n",
       "      <th>2</th>\n",
       "      <td>2</td>\n",
       "      <td>positive</td>\n",
       "      <td>2</td>\n",
       "    </tr>\n",
       "    <tr>\n",
       "      <th>3</th>\n",
       "      <td>3</td>\n",
       "      <td>negative</td>\n",
       "      <td>9132</td>\n",
       "    </tr>\n",
       "    <tr>\n",
       "      <th>4</th>\n",
       "      <td>3</td>\n",
       "      <td>neutral</td>\n",
       "      <td>3093</td>\n",
       "    </tr>\n",
       "    <tr>\n",
       "      <th>5</th>\n",
       "      <td>3</td>\n",
       "      <td>positive</td>\n",
       "      <td>2356</td>\n",
       "    </tr>\n",
       "    <tr>\n",
       "      <th>6</th>\n",
       "      <td>210</td>\n",
       "      <td>negative</td>\n",
       "      <td>1</td>\n",
       "    </tr>\n",
       "    <tr>\n",
       "      <th>7</th>\n",
       "      <td>211</td>\n",
       "      <td>negative</td>\n",
       "      <td>1</td>\n",
       "    </tr>\n",
       "    <tr>\n",
       "      <th>8</th>\n",
       "      <td>215</td>\n",
       "      <td>negative</td>\n",
       "      <td>3</td>\n",
       "    </tr>\n",
       "    <tr>\n",
       "      <th>9</th>\n",
       "      <td>217</td>\n",
       "      <td>negative</td>\n",
       "      <td>1</td>\n",
       "    </tr>\n",
       "    <tr>\n",
       "      <th>10</th>\n",
       "      <td>217</td>\n",
       "      <td>positive</td>\n",
       "      <td>1</td>\n",
       "    </tr>\n",
       "    <tr>\n",
       "      <th>11</th>\n",
       "      <td>219</td>\n",
       "      <td>negative</td>\n",
       "      <td>1</td>\n",
       "    </tr>\n",
       "    <tr>\n",
       "      <th>12</th>\n",
       "      <td>221</td>\n",
       "      <td>negative</td>\n",
       "      <td>1</td>\n",
       "    </tr>\n",
       "    <tr>\n",
       "      <th>13</th>\n",
       "      <td>222</td>\n",
       "      <td>negative</td>\n",
       "      <td>1</td>\n",
       "    </tr>\n",
       "    <tr>\n",
       "      <th>14</th>\n",
       "      <td>223</td>\n",
       "      <td>negative</td>\n",
       "      <td>3</td>\n",
       "    </tr>\n",
       "    <tr>\n",
       "      <th>15</th>\n",
       "      <td>224</td>\n",
       "      <td>positive</td>\n",
       "      <td>1</td>\n",
       "    </tr>\n",
       "    <tr>\n",
       "      <th>16</th>\n",
       "      <td>225</td>\n",
       "      <td>negative</td>\n",
       "      <td>3</td>\n",
       "    </tr>\n",
       "    <tr>\n",
       "      <th>17</th>\n",
       "      <td>228</td>\n",
       "      <td>negative</td>\n",
       "      <td>2</td>\n",
       "    </tr>\n",
       "    <tr>\n",
       "      <th>18</th>\n",
       "      <td>228</td>\n",
       "      <td>positive</td>\n",
       "      <td>1</td>\n",
       "    </tr>\n",
       "    <tr>\n",
       "      <th>19</th>\n",
       "      <td>229</td>\n",
       "      <td>negative</td>\n",
       "      <td>1</td>\n",
       "    </tr>\n",
       "    <tr>\n",
       "      <th>20</th>\n",
       "      <td>229</td>\n",
       "      <td>neutral</td>\n",
       "      <td>1</td>\n",
       "    </tr>\n",
       "    <tr>\n",
       "      <th>21</th>\n",
       "      <td>229</td>\n",
       "      <td>positive</td>\n",
       "      <td>1</td>\n",
       "    </tr>\n",
       "    <tr>\n",
       "      <th>22</th>\n",
       "      <td>230</td>\n",
       "      <td>negative</td>\n",
       "      <td>1</td>\n",
       "    </tr>\n",
       "    <tr>\n",
       "      <th>23</th>\n",
       "      <td>231</td>\n",
       "      <td>negative</td>\n",
       "      <td>1</td>\n",
       "    </tr>\n",
       "    <tr>\n",
       "      <th>24</th>\n",
       "      <td>233</td>\n",
       "      <td>neutral</td>\n",
       "      <td>1</td>\n",
       "    </tr>\n",
       "    <tr>\n",
       "      <th>25</th>\n",
       "      <td>235</td>\n",
       "      <td>negative</td>\n",
       "      <td>1</td>\n",
       "    </tr>\n",
       "    <tr>\n",
       "      <th>26</th>\n",
       "      <td>236</td>\n",
       "      <td>neutral</td>\n",
       "      <td>1</td>\n",
       "    </tr>\n",
       "    <tr>\n",
       "      <th>27</th>\n",
       "      <td>239</td>\n",
       "      <td>negative</td>\n",
       "      <td>1</td>\n",
       "    </tr>\n",
       "    <tr>\n",
       "      <th>28</th>\n",
       "      <td>240</td>\n",
       "      <td>negative</td>\n",
       "      <td>1</td>\n",
       "    </tr>\n",
       "    <tr>\n",
       "      <th>29</th>\n",
       "      <td>241</td>\n",
       "      <td>positive</td>\n",
       "      <td>1</td>\n",
       "    </tr>\n",
       "    <tr>\n",
       "      <th>30</th>\n",
       "      <td>242</td>\n",
       "      <td>negative</td>\n",
       "      <td>1</td>\n",
       "    </tr>\n",
       "    <tr>\n",
       "      <th>31</th>\n",
       "      <td>243</td>\n",
       "      <td>negative</td>\n",
       "      <td>1</td>\n",
       "    </tr>\n",
       "    <tr>\n",
       "      <th>32</th>\n",
       "      <td>244</td>\n",
       "      <td>negative</td>\n",
       "      <td>1</td>\n",
       "    </tr>\n",
       "    <tr>\n",
       "      <th>33</th>\n",
       "      <td>245</td>\n",
       "      <td>negative</td>\n",
       "      <td>2</td>\n",
       "    </tr>\n",
       "    <tr>\n",
       "      <th>34</th>\n",
       "      <td>247</td>\n",
       "      <td>negative</td>\n",
       "      <td>1</td>\n",
       "    </tr>\n",
       "    <tr>\n",
       "      <th>35</th>\n",
       "      <td>248</td>\n",
       "      <td>negative</td>\n",
       "      <td>3</td>\n",
       "    </tr>\n",
       "  </tbody>\n",
       "</table>\n",
       "</div>"
      ],
      "text/plain": [
       "    _trusted_judgments airline_sentiment     0\n",
       "0                    2          negative    14\n",
       "1                    2           neutral     3\n",
       "2                    2          positive     2\n",
       "3                    3          negative  9132\n",
       "4                    3           neutral  3093\n",
       "5                    3          positive  2356\n",
       "6                  210          negative     1\n",
       "7                  211          negative     1\n",
       "8                  215          negative     3\n",
       "9                  217          negative     1\n",
       "10                 217          positive     1\n",
       "11                 219          negative     1\n",
       "12                 221          negative     1\n",
       "13                 222          negative     1\n",
       "14                 223          negative     3\n",
       "15                 224          positive     1\n",
       "16                 225          negative     3\n",
       "17                 228          negative     2\n",
       "18                 228          positive     1\n",
       "19                 229          negative     1\n",
       "20                 229           neutral     1\n",
       "21                 229          positive     1\n",
       "22                 230          negative     1\n",
       "23                 231          negative     1\n",
       "24                 233           neutral     1\n",
       "25                 235          negative     1\n",
       "26                 236           neutral     1\n",
       "27                 239          negative     1\n",
       "28                 240          negative     1\n",
       "29                 241          positive     1\n",
       "30                 242          negative     1\n",
       "31                 243          negative     1\n",
       "32                 244          negative     1\n",
       "33                 245          negative     2\n",
       "34                 247          negative     1\n",
       "35                 248          negative     3"
      ]
     },
     "execution_count": 109,
     "metadata": {},
     "output_type": "execute_result"
    }
   ],
   "source": [
    "trusted = airline.groupby(['_trusted_judgments','airline_sentiment']).size().reset_index()\n",
    "trusted"
   ]
  },
  {
   "cell_type": "code",
   "execution_count": 110,
   "metadata": {},
   "outputs": [
    {
     "data": {
      "text/plain": [
       "<AxesSubplot:xlabel='retweet_count', ylabel='count'>"
      ]
     },
     "execution_count": 110,
     "metadata": {},
     "output_type": "execute_result"
    },
    {
     "data": {
      "image/png": "[encoded data removed]",
      "text/plain": [
       "<Figure size 1440x720 with 1 Axes>"
      ]
     },
     "metadata": {
      "needs_background": "light"
     },
     "output_type": "display_data"
    }
   ],
   "source": [
    "sns.countplot(x='retweet_count', hue='airline_sentiment', data=airline)"
   ]
  },
  {
   "cell_type": "code",
   "execution_count": 111,
   "metadata": {},
   "outputs": [
    {
     "data": {
      "text/html": [
       "<div>\n",
       "<style scoped>\n",
       "    .dataframe tbody tr th:only-of-type {\n",
       "        vertical-align: middle;\n",
       "    }\n",
       "\n",
       "    .dataframe tbody tr th {\n",
       "        vertical-align: top;\n",
       "    }\n",
       "\n",
       "    .dataframe thead th {\n",
       "        text-align: right;\n",
       "    }\n",
       "</style>\n",
       "<table border=\"1\" class=\"dataframe\">\n",
       "  <thead>\n",
       "    <tr style=\"text-align: right;\">\n",
       "      <th></th>\n",
       "      <th>retweet_count</th>\n",
       "      <th>airline_sentiment</th>\n",
       "      <th>0</th>\n",
       "    </tr>\n",
       "  </thead>\n",
       "  <tbody>\n",
       "    <tr>\n",
       "      <th>0</th>\n",
       "      <td>0</td>\n",
       "      <td>negative</td>\n",
       "      <td>8581</td>\n",
       "    </tr>\n",
       "    <tr>\n",
       "      <th>1</th>\n",
       "      <td>0</td>\n",
       "      <td>neutral</td>\n",
       "      <td>3005</td>\n",
       "    </tr>\n",
       "    <tr>\n",
       "      <th>2</th>\n",
       "      <td>0</td>\n",
       "      <td>positive</td>\n",
       "      <td>2287</td>\n",
       "    </tr>\n",
       "    <tr>\n",
       "      <th>3</th>\n",
       "      <td>1</td>\n",
       "      <td>negative</td>\n",
       "      <td>524</td>\n",
       "    </tr>\n",
       "    <tr>\n",
       "      <th>4</th>\n",
       "      <td>1</td>\n",
       "      <td>neutral</td>\n",
       "      <td>63</td>\n",
       "    </tr>\n",
       "    <tr>\n",
       "      <th>5</th>\n",
       "      <td>1</td>\n",
       "      <td>positive</td>\n",
       "      <td>53</td>\n",
       "    </tr>\n",
       "    <tr>\n",
       "      <th>6</th>\n",
       "      <td>2</td>\n",
       "      <td>negative</td>\n",
       "      <td>41</td>\n",
       "    </tr>\n",
       "    <tr>\n",
       "      <th>7</th>\n",
       "      <td>2</td>\n",
       "      <td>neutral</td>\n",
       "      <td>16</td>\n",
       "    </tr>\n",
       "    <tr>\n",
       "      <th>8</th>\n",
       "      <td>2</td>\n",
       "      <td>positive</td>\n",
       "      <td>9</td>\n",
       "    </tr>\n",
       "    <tr>\n",
       "      <th>9</th>\n",
       "      <td>3</td>\n",
       "      <td>negative</td>\n",
       "      <td>12</td>\n",
       "    </tr>\n",
       "    <tr>\n",
       "      <th>10</th>\n",
       "      <td>3</td>\n",
       "      <td>neutral</td>\n",
       "      <td>7</td>\n",
       "    </tr>\n",
       "    <tr>\n",
       "      <th>11</th>\n",
       "      <td>3</td>\n",
       "      <td>positive</td>\n",
       "      <td>3</td>\n",
       "    </tr>\n",
       "    <tr>\n",
       "      <th>12</th>\n",
       "      <td>4</td>\n",
       "      <td>negative</td>\n",
       "      <td>11</td>\n",
       "    </tr>\n",
       "    <tr>\n",
       "      <th>13</th>\n",
       "      <td>4</td>\n",
       "      <td>neutral</td>\n",
       "      <td>2</td>\n",
       "    </tr>\n",
       "    <tr>\n",
       "      <th>14</th>\n",
       "      <td>4</td>\n",
       "      <td>positive</td>\n",
       "      <td>4</td>\n",
       "    </tr>\n",
       "    <tr>\n",
       "      <th>15</th>\n",
       "      <td>5</td>\n",
       "      <td>negative</td>\n",
       "      <td>2</td>\n",
       "    </tr>\n",
       "    <tr>\n",
       "      <th>16</th>\n",
       "      <td>5</td>\n",
       "      <td>neutral</td>\n",
       "      <td>2</td>\n",
       "    </tr>\n",
       "    <tr>\n",
       "      <th>17</th>\n",
       "      <td>5</td>\n",
       "      <td>positive</td>\n",
       "      <td>1</td>\n",
       "    </tr>\n",
       "    <tr>\n",
       "      <th>18</th>\n",
       "      <td>6</td>\n",
       "      <td>neutral</td>\n",
       "      <td>2</td>\n",
       "    </tr>\n",
       "    <tr>\n",
       "      <th>19</th>\n",
       "      <td>6</td>\n",
       "      <td>positive</td>\n",
       "      <td>1</td>\n",
       "    </tr>\n",
       "    <tr>\n",
       "      <th>20</th>\n",
       "      <td>7</td>\n",
       "      <td>negative</td>\n",
       "      <td>2</td>\n",
       "    </tr>\n",
       "    <tr>\n",
       "      <th>21</th>\n",
       "      <td>7</td>\n",
       "      <td>positive</td>\n",
       "      <td>1</td>\n",
       "    </tr>\n",
       "    <tr>\n",
       "      <th>22</th>\n",
       "      <td>8</td>\n",
       "      <td>positive</td>\n",
       "      <td>1</td>\n",
       "    </tr>\n",
       "    <tr>\n",
       "      <th>23</th>\n",
       "      <td>9</td>\n",
       "      <td>positive</td>\n",
       "      <td>1</td>\n",
       "    </tr>\n",
       "    <tr>\n",
       "      <th>24</th>\n",
       "      <td>11</td>\n",
       "      <td>positive</td>\n",
       "      <td>1</td>\n",
       "    </tr>\n",
       "    <tr>\n",
       "      <th>25</th>\n",
       "      <td>15</td>\n",
       "      <td>neutral</td>\n",
       "      <td>1</td>\n",
       "    </tr>\n",
       "    <tr>\n",
       "      <th>26</th>\n",
       "      <td>18</td>\n",
       "      <td>negative</td>\n",
       "      <td>1</td>\n",
       "    </tr>\n",
       "    <tr>\n",
       "      <th>27</th>\n",
       "      <td>22</td>\n",
       "      <td>negative</td>\n",
       "      <td>1</td>\n",
       "    </tr>\n",
       "    <tr>\n",
       "      <th>28</th>\n",
       "      <td>22</td>\n",
       "      <td>positive</td>\n",
       "      <td>1</td>\n",
       "    </tr>\n",
       "    <tr>\n",
       "      <th>29</th>\n",
       "      <td>28</td>\n",
       "      <td>neutral</td>\n",
       "      <td>1</td>\n",
       "    </tr>\n",
       "    <tr>\n",
       "      <th>30</th>\n",
       "      <td>31</td>\n",
       "      <td>negative</td>\n",
       "      <td>1</td>\n",
       "    </tr>\n",
       "    <tr>\n",
       "      <th>31</th>\n",
       "      <td>32</td>\n",
       "      <td>negative</td>\n",
       "      <td>1</td>\n",
       "    </tr>\n",
       "    <tr>\n",
       "      <th>32</th>\n",
       "      <td>44</td>\n",
       "      <td>negative</td>\n",
       "      <td>1</td>\n",
       "    </tr>\n",
       "  </tbody>\n",
       "</table>\n",
       "</div>"
      ],
      "text/plain": [
       "    retweet_count airline_sentiment     0\n",
       "0               0          negative  8581\n",
       "1               0           neutral  3005\n",
       "2               0          positive  2287\n",
       "3               1          negative   524\n",
       "4               1           neutral    63\n",
       "5               1          positive    53\n",
       "6               2          negative    41\n",
       "7               2           neutral    16\n",
       "8               2          positive     9\n",
       "9               3          negative    12\n",
       "10              3           neutral     7\n",
       "11              3          positive     3\n",
       "12              4          negative    11\n",
       "13              4           neutral     2\n",
       "14              4          positive     4\n",
       "15              5          negative     2\n",
       "16              5           neutral     2\n",
       "17              5          positive     1\n",
       "18              6           neutral     2\n",
       "19              6          positive     1\n",
       "20              7          negative     2\n",
       "21              7          positive     1\n",
       "22              8          positive     1\n",
       "23              9          positive     1\n",
       "24             11          positive     1\n",
       "25             15           neutral     1\n",
       "26             18          negative     1\n",
       "27             22          negative     1\n",
       "28             22          positive     1\n",
       "29             28           neutral     1\n",
       "30             31          negative     1\n",
       "31             32          negative     1\n",
       "32             44          negative     1"
      ]
     },
     "execution_count": 111,
     "metadata": {},
     "output_type": "execute_result"
    }
   ],
   "source": [
    "retweet = airline.groupby(['retweet_count','airline_sentiment']).size().reset_index()\n",
    "retweet"
   ]
  },
  {
   "cell_type": "markdown",
   "metadata": {},
   "source": [
    "De verhoudingen tussen negatieve, positieve en neutrale sentimenten verschilt nagenoeg niet voor de verschillende waarden van de kolommen '_golden', '_trusted_judgments'. Op basis van dit gegeven worden deze kolommen verwijderd.\n",
    "\n",
    "Voor het feature 'retweet_count' lijkt de verhouding tussen negatieve en positieve tweets te verkleinen, naarmate er meer retweets zijn. Het nadeel van dit feature is dat er enkele combinaties tussen sentiment en aantal retweets niet bestaan. Laplacian smoothing moet voor deze combinaties dan compenseren. In verdere modellen wordt er straks getest of dit feature kan helpen bij sentiment analyse.\n",
    "\n",
    "De kolom 'tweet_location' bevat vreemde waarden. Deze kolom zal bijgevolg ook worde geschrapt.\n",
    "\n",
    "Hieronder volgt een overzicht van de overgebleven dataset."
   ]
  },
  {
   "cell_type": "code",
   "execution_count": 112,
   "metadata": {},
   "outputs": [
    {
     "data": {
      "text/html": [
       "<div>\n",
       "<style scoped>\n",
       "    .dataframe tbody tr th:only-of-type {\n",
       "        vertical-align: middle;\n",
       "    }\n",
       "\n",
       "    .dataframe tbody tr th {\n",
       "        vertical-align: top;\n",
       "    }\n",
       "\n",
       "    .dataframe thead th {\n",
       "        text-align: right;\n",
       "    }\n",
       "</style>\n",
       "<table border=\"1\" class=\"dataframe\">\n",
       "  <thead>\n",
       "    <tr style=\"text-align: right;\">\n",
       "      <th></th>\n",
       "      <th>airline_sentiment</th>\n",
       "      <th>airline</th>\n",
       "      <th>retweet_count</th>\n",
       "      <th>text</th>\n",
       "      <th>word_count</th>\n",
       "      <th>length</th>\n",
       "    </tr>\n",
       "  </thead>\n",
       "  <tbody>\n",
       "    <tr>\n",
       "      <th>0</th>\n",
       "      <td>neutral</td>\n",
       "      <td>Virgin America</td>\n",
       "      <td>0</td>\n",
       "      <td>@VirginAmerica What @dhepburn said.</td>\n",
       "      <td>4</td>\n",
       "      <td>35</td>\n",
       "    </tr>\n",
       "    <tr>\n",
       "      <th>1</th>\n",
       "      <td>positive</td>\n",
       "      <td>Virgin America</td>\n",
       "      <td>0</td>\n",
       "      <td>@VirginAmerica plus you've added commercials to the experience... tacky.</td>\n",
       "      <td>9</td>\n",
       "      <td>72</td>\n",
       "    </tr>\n",
       "    <tr>\n",
       "      <th>2</th>\n",
       "      <td>neutral</td>\n",
       "      <td>Virgin America</td>\n",
       "      <td>0</td>\n",
       "      <td>@VirginAmerica I didn't today... Must mean I need to take another trip!</td>\n",
       "      <td>12</td>\n",
       "      <td>71</td>\n",
       "    </tr>\n",
       "    <tr>\n",
       "      <th>3</th>\n",
       "      <td>negative</td>\n",
       "      <td>Virgin America</td>\n",
       "      <td>0</td>\n",
       "      <td>@VirginAmerica it's really aggressive to blast obnoxious \"entertainment\" in your guests' faces &amp;amp; they have little recourse</td>\n",
       "      <td>17</td>\n",
       "      <td>126</td>\n",
       "    </tr>\n",
       "    <tr>\n",
       "      <th>4</th>\n",
       "      <td>negative</td>\n",
       "      <td>Virgin America</td>\n",
       "      <td>0</td>\n",
       "      <td>@VirginAmerica and it's a really big bad thing about it</td>\n",
       "      <td>10</td>\n",
       "      <td>55</td>\n",
       "    </tr>\n",
       "  </tbody>\n",
       "</table>\n",
       "</div>"
      ],
      "text/plain": [
       "  airline_sentiment         airline  retweet_count  \\\n",
       "0           neutral  Virgin America              0   \n",
       "1          positive  Virgin America              0   \n",
       "2           neutral  Virgin America              0   \n",
       "3          negative  Virgin America              0   \n",
       "4          negative  Virgin America              0   \n",
       "\n",
       "                                                                                                                             text  \\\n",
       "0                                                                                             @VirginAmerica What @dhepburn said.   \n",
       "1                                                        @VirginAmerica plus you've added commercials to the experience... tacky.   \n",
       "2                                                         @VirginAmerica I didn't today... Must mean I need to take another trip!   \n",
       "3  @VirginAmerica it's really aggressive to blast obnoxious \"entertainment\" in your guests' faces &amp; they have little recourse   \n",
       "4                                                                         @VirginAmerica and it's a really big bad thing about it   \n",
       "\n",
       "   word_count  length  \n",
       "0           4      35  \n",
       "1           9      72  \n",
       "2          12      71  \n",
       "3          17     126  \n",
       "4          10      55  "
      ]
     },
     "execution_count": 112,
     "metadata": {},
     "output_type": "execute_result"
    }
   ],
   "source": [
    "column_drop2 = ['_golden', '_trusted_judgments']\n",
    "airline.drop(column_drop2, axis=1, inplace=True)\n",
    "airline.head()"
   ]
  },
  {
   "cell_type": "code",
   "execution_count": 113,
   "metadata": {},
   "outputs": [
    {
     "name": "stdout",
     "output_type": "stream",
     "text": [
      "Er zijn geen ontbrekende waarden\n"
     ]
    }
   ],
   "source": [
    "ismissing(airline)"
   ]
  },
  {
   "cell_type": "markdown",
   "metadata": {
    "tags": []
   },
   "source": [
    "#### Opkuisen van de tweets\n",
    "In de volgende subsectie worden de tweets opgekuist. Hiervoor wordt de gedefinieerde functie uit de cursus toegepast (`text_preprocessing(text, language, minWordSize)`)"
   ]
  },
  {
   "cell_type": "code",
   "execution_count": 114,
   "metadata": {},
   "outputs": [
    {
     "data": {
      "text/html": [
       "<div>\n",
       "<style scoped>\n",
       "    .dataframe tbody tr th:only-of-type {\n",
       "        vertical-align: middle;\n",
       "    }\n",
       "\n",
       "    .dataframe tbody tr th {\n",
       "        vertical-align: top;\n",
       "    }\n",
       "\n",
       "    .dataframe thead th {\n",
       "        text-align: right;\n",
       "    }\n",
       "</style>\n",
       "<table border=\"1\" class=\"dataframe\">\n",
       "  <thead>\n",
       "    <tr style=\"text-align: right;\">\n",
       "      <th></th>\n",
       "      <th>airline_sentiment</th>\n",
       "      <th>airline</th>\n",
       "      <th>retweet_count</th>\n",
       "      <th>word_count</th>\n",
       "      <th>text_preprocessed</th>\n",
       "      <th>length</th>\n",
       "    </tr>\n",
       "  </thead>\n",
       "  <tbody>\n",
       "    <tr>\n",
       "      <th>0</th>\n",
       "      <td>neutral</td>\n",
       "      <td>Virgin America</td>\n",
       "      <td>0</td>\n",
       "      <td>4</td>\n",
       "      <td>virginamerica dhepburn said</td>\n",
       "      <td>35</td>\n",
       "    </tr>\n",
       "    <tr>\n",
       "      <th>1</th>\n",
       "      <td>positive</td>\n",
       "      <td>Virgin America</td>\n",
       "      <td>0</td>\n",
       "      <td>9</td>\n",
       "      <td>virginamerica plus ad commerci experi tacki</td>\n",
       "      <td>72</td>\n",
       "    </tr>\n",
       "    <tr>\n",
       "      <th>2</th>\n",
       "      <td>neutral</td>\n",
       "      <td>Virgin America</td>\n",
       "      <td>0</td>\n",
       "      <td>12</td>\n",
       "      <td>virginamerica today must mean need take anoth trip</td>\n",
       "      <td>71</td>\n",
       "    </tr>\n",
       "    <tr>\n",
       "      <th>3</th>\n",
       "      <td>negative</td>\n",
       "      <td>Virgin America</td>\n",
       "      <td>0</td>\n",
       "      <td>17</td>\n",
       "      <td>virginamerica realli aggress blast obnoxi entertain guest face littl recours</td>\n",
       "      <td>126</td>\n",
       "    </tr>\n",
       "    <tr>\n",
       "      <th>4</th>\n",
       "      <td>negative</td>\n",
       "      <td>Virgin America</td>\n",
       "      <td>0</td>\n",
       "      <td>10</td>\n",
       "      <td>virginamerica realli big bad thing</td>\n",
       "      <td>55</td>\n",
       "    </tr>\n",
       "  </tbody>\n",
       "</table>\n",
       "</div>"
      ],
      "text/plain": [
       "  airline_sentiment         airline  retweet_count  word_count  \\\n",
       "0           neutral  Virgin America              0           4   \n",
       "1          positive  Virgin America              0           9   \n",
       "2           neutral  Virgin America              0          12   \n",
       "3          negative  Virgin America              0          17   \n",
       "4          negative  Virgin America              0          10   \n",
       "\n",
       "                                                                text_preprocessed  \\\n",
       "0                                                    virginamerica dhepburn said    \n",
       "1                                    virginamerica plus ad commerci experi tacki    \n",
       "2                             virginamerica today must mean need take anoth trip    \n",
       "3   virginamerica realli aggress blast obnoxi entertain guest face littl recours    \n",
       "4                                             virginamerica realli big bad thing    \n",
       "\n",
       "   length  \n",
       "0      35  \n",
       "1      72  \n",
       "2      71  \n",
       "3     126  \n",
       "4      55  "
      ]
     },
     "execution_count": 114,
     "metadata": {},
     "output_type": "execute_result"
    }
   ],
   "source": [
    "language = 'english'\n",
    "minWordLength = 2\n",
    "airline.insert(airline.columns.size-1,'text_preprocessed', airline.text.apply(text_preprocessing))\n",
    "airline.drop('text', axis=1, inplace=True)\n",
    "airline.head()"
   ]
  },
  {
   "cell_type": "markdown",
   "metadata": {},
   "source": [
    "#### Splitsen van de dataset\n",
    "Hierboven worden de eerste 5 rijen uit de dataset met opgekuiste tweets weergegeven.\n",
    "\n",
    "In een volgende stap wordt de target 'airline_sentiment' gescheiden van de features. De features worden onderling eveneens gescheiden om achteraf in de modellen het belang van 'airline' en 'retweet_count' te onderzoeken."
   ]
  },
  {
   "cell_type": "code",
   "execution_count": 115,
   "metadata": {},
   "outputs": [],
   "source": [
    "y = airline['airline_sentiment'].values\n",
    "airlines = airline['airline'].values\n",
    "retweet_counts = airline['retweet_count'].values\n",
    "X = airline.text_preprocessed\n",
    "\n",
    "X_train, X_test, y_train, y_test = train_test_split(X, y, test_size=3000, random_state=0)"
   ]
  },
  {
   "cell_type": "markdown",
   "metadata": {},
   "source": [
    "#### Bag-of-words model\n",
    "In de volgende subsectie wordt door middel van de CountVectorizer en TfidfTransformer een bag-of-words model aangemaakt."
   ]
  },
  {
   "cell_type": "code",
   "execution_count": 116,
   "metadata": {
    "jp-MarkdownHeadingCollapsed": true,
    "tags": []
   },
   "outputs": [],
   "source": [
    "# Count vectorizer voor elke enkel text\n",
    "countvect = CountVectorizer()\n",
    "X_train_cv = countvect.fit_transform(X_train)\n",
    "X_test_cv = countvect.transform(X_test)\n",
    "\n",
    "# TfidfTransformer\n",
    "tfidf = TfidfTransformer(use_idf=True)\n",
    "tfidf.fit(X_train_cv)\n",
    "X_train_tf = tfidf.transform(X_train_cv)\n",
    "X_test_tf = tfidf.transform(X_test_cv)\n"
   ]
  },
  {
   "cell_type": "markdown",
   "metadata": {},
   "source": [
    "### Trainen van classifiers\n",
    "In de volgende 3 codeblokken worden achtereenvolgens Logistische regressie-, SVM- en Naïve Bayesmodellen getraind met hyperparameter tuning en cross-validation op basis van Grid Search. Na deze 3 code blokken wordt een samenvattende dataframe getoond met de metrics van de beste modellen en de berekeningstijd."
   ]
  },
  {
   "cell_type": "code",
   "execution_count": 117,
   "metadata": {},
   "outputs": [],
   "source": [
    "# Trainen van de classifiers (naive bayes, logistic regression, SVM)\n",
    "# Initiate models\n",
    "clf1 = LogisticRegression(class_weight='balanced', max_iter=25000)\n",
    "clf2 = SVC(class_weight='balanced')\n",
    "clf3 = MultinomialNB()"
   ]
  },
  {
   "cell_type": "code",
   "execution_count": 118,
   "metadata": {},
   "outputs": [],
   "source": [
    "# Initiate grids\n",
    "param1 = {\"C\": np.logspace(-2,3,10)}\n",
    "\n",
    "param2 =[\n",
    "    {'kernel': ['linear'], 'C':np.logspace(-3,3,7)},\n",
    "    {'kernel': ['rbf'], 'C': np.logspace(-3,3,7), 'gamma': [0.0001, 0.001, 0.01, 0.1, 0.2]},\n",
    "    {'kernel': ['poly'], 'C': np.logspace(-3,3,7)}\n",
    "]\n",
    "\n",
    "param3 = {}\n",
    "param3['alpha'] = np.logspace(-3,2,6)"
   ]
  },
  {
   "cell_type": "code",
   "execution_count": 119,
   "metadata": {},
   "outputs": [
    {
     "name": "stdout",
     "output_type": "stream",
     "text": [
      "Fitting 8 folds for each of 10 candidates, totalling 80 fits\n",
      "Best parameters:\t{'C': 1.6681005372000592}\n",
      "Best score: \t0.7626288659793814\n",
      "Confusion matrix\n"
     ]
    },
    {
     "data": {
      "image/png": "[encoded data removed]",
      "text/plain": [
       "<Figure size 1440x720 with 2 Axes>"
      ]
     },
     "metadata": {
      "needs_background": "light"
     },
     "output_type": "display_data"
    },
    {
     "name": "stdout",
     "output_type": "stream",
     "text": [
      "              precision    recall  f1-score   support\n",
      "\n",
      "    negative       0.89      0.79      0.84      1915\n",
      "     neutral       0.53      0.69      0.60       628\n",
      "    positive       0.65      0.71      0.68       457\n",
      "\n",
      "    accuracy                           0.76      3000\n",
      "   macro avg       0.69      0.73      0.71      3000\n",
      "weighted avg       0.78      0.76      0.77      3000\n",
      "\n",
      "Berekeningstijd zonder metrics: 66.484s\n",
      "Berekeningstijd per fit: 0.831s\n"
     ]
    }
   ],
   "source": [
    "# Logistic regression met hyperparametertuning en cross validation (grid search)\n",
    "metrix_columns = ['Classifier', 'Accuracy', 'F1-score', 'Berekeningstijd', 'Berekeningstijd per fit']\n",
    "metrix_arr = []\n",
    "\n",
    "start_clf1 = timeit.default_timer()\n",
    "\n",
    "clf1_gs = GridSearchCV(clf1, param1, cv=8, n_jobs=-1, scoring='accuracy', verbose=1)\n",
    "clf1_gs.fit(X_train_tf, y_train)\n",
    "\n",
    "stop_clf1 = timeit.default_timer()\n",
    "diff_clf1 = stop_clf1 - start_clf1\n",
    "diff_fit_clf1 = diff_clf1 / (len(ParameterGrid(param1)) * 8)\n",
    "\n",
    "# Best parameters and score\n",
    "print(f\"Best parameters:\\t{clf1_gs.best_params_}\")\n",
    "print(f\"Best score: \\t{clf1_gs.best_score_}\")\n",
    "\n",
    "# Confusion matrix\n",
    "print(\"Confusion matrix\")\n",
    "clf1_pred = (clf1_gs.predict(X_test_tf))\n",
    "ConfusionMatrixDisplay.from_predictions(y_test, clf1_pred)  \n",
    "plt.show()\n",
    "\n",
    "# Classification report\n",
    "print(classification_report(y_test,clf1_pred))\n",
    "clf1_accuracy = accuracy_score(y_test,clf1_pred)\n",
    "clf1_f1 = f1_score(y_test,clf1_pred, average='weighted')\n",
    "\n",
    "print(f'Berekeningstijd zonder metrics: {diff_clf1:.3f}s') # On Amazon SageMaker Studio Lab\n",
    "print(f'Berekeningstijd per fit: {diff_fit_clf1:.3f}s') # On Amazon SageMaker Studio Lab\n",
    "\n",
    "metrix_row_clf1 = ['Logistische Regressie', round(clf1_accuracy, 2), round(clf1_f1, 2), round(diff_clf1, 3), round(diff_fit_clf1, 3)]"
   ]
  },
  {
   "cell_type": "code",
   "execution_count": 120,
   "metadata": {},
   "outputs": [
    {
     "name": "stdout",
     "output_type": "stream",
     "text": [
      "Fitting 8 folds for each of 49 candidates, totalling 392 fits\n",
      "Best parameters:\t{'C': 100.0, 'gamma': 0.2, 'kernel': 'rbf'}\n",
      "Best score: \t0.7671821305841924\n",
      "Confusion matrix\n"
     ]
    },
    {
     "data": {
      "image/png": "[encoded data removed]",
      "text/plain": [
       "<Figure size 1440x720 with 2 Axes>"
      ]
     },
     "metadata": {
      "needs_background": "light"
     },
     "output_type": "display_data"
    },
    {
     "name": "stdout",
     "output_type": "stream",
     "text": [
      "              precision    recall  f1-score   support\n",
      "\n",
      "    negative       0.85      0.86      0.86      1915\n",
      "     neutral       0.57      0.57      0.57       628\n",
      "    positive       0.70      0.63      0.67       457\n",
      "\n",
      "    accuracy                           0.77      3000\n",
      "   macro avg       0.70      0.69      0.70      3000\n",
      "weighted avg       0.77      0.77      0.77      3000\n",
      "\n",
      "Berekeningstijd zonder metrics: 1118.845s\n",
      "Berekeningstijd per fit: 2.854s\n"
     ]
    }
   ],
   "source": [
    "# SVM met hyperparametertuning en cross validation (grid search)\n",
    "start_clf2 = timeit.default_timer()\n",
    "\n",
    "clf2_gs = GridSearchCV(clf2, param2, cv=8, n_jobs=-1, scoring='accuracy', verbose=1)\n",
    "clf2_gs.fit(X_train_tf, y_train)\n",
    "\n",
    "stop_clf2 = timeit.default_timer()\n",
    "diff_clf2 = stop_clf2 - start_clf2\n",
    "diff_fit_clf2 = diff_clf2 / (len(ParameterGrid(param2)) * 8)\n",
    "\n",
    "# Best parameters and score\n",
    "print(f\"Best parameters:\\t{clf2_gs.best_params_}\")\n",
    "print(f\"Best score: \\t{clf2_gs.best_score_}\")\n",
    "\n",
    "# Confusion matrix\n",
    "print(\"Confusion matrix\")\n",
    "clf2_pred = (clf2_gs.predict(X_test_tf))\n",
    "ConfusionMatrixDisplay.from_predictions(y_test, clf2_pred)  \n",
    "plt.show()\n",
    "\n",
    "# Classification report\n",
    "print(classification_report(y_test,clf2_pred))\n",
    "clf2_accuracy = accuracy_score(y_test,clf2_pred)\n",
    "clf2_f1 = f1_score(y_test,clf2_pred, average='weighted')\n",
    "\n",
    "print(f'Berekeningstijd zonder metrics: {diff_clf2:.3f}s') # On Amazon SageMaker Studio Lab\n",
    "print(f'Berekeningstijd per fit: {diff_fit_clf2:.3f}s') # On Amazon SageMaker Studio Lab\n",
    "\n",
    "metrix_row_clf2 = ['Support Vector Classifier', round(clf2_accuracy, 2), round(clf2_f1, 2), round(diff_clf2, 3), round(diff_fit_clf2, 3)]"
   ]
  },
  {
   "cell_type": "code",
   "execution_count": 121,
   "metadata": {},
   "outputs": [
    {
     "name": "stdout",
     "output_type": "stream",
     "text": [
      "Fitting 8 folds for each of 6 candidates, totalling 48 fits\n",
      "Best parameters:\t{'alpha': 0.1}\n",
      "Best score: \t0.738745704467354\n",
      "Confusion matrix\n"
     ]
    },
    {
     "data": {
      "image/png": "[encoded data removed]",
      "text/plain": [
       "<Figure size 1440x720 with 2 Axes>"
      ]
     },
     "metadata": {
      "needs_background": "light"
     },
     "output_type": "display_data"
    },
    {
     "name": "stdout",
     "output_type": "stream",
     "text": [
      "              precision    recall  f1-score   support\n",
      "\n",
      "    negative       0.76      0.97      0.85      1915\n",
      "     neutral       0.68      0.34      0.45       628\n",
      "    positive       0.79      0.43      0.56       457\n",
      "\n",
      "    accuracy                           0.75      3000\n",
      "   macro avg       0.74      0.58      0.62      3000\n",
      "weighted avg       0.75      0.75      0.72      3000\n",
      "\n",
      "Berekeningstijd zonder metrics: 0.246s\n",
      "Berekeningstijd per fit: 0.005s\n"
     ]
    }
   ],
   "source": [
    "# Naive Bayes met hyperparametertuning en cross validation (grid search)\n",
    "start_clf3 = timeit.default_timer()\n",
    "\n",
    "clf3_gs = GridSearchCV(clf3, param3, cv=8, n_jobs=-1, scoring='accuracy', verbose=1)\n",
    "clf3_gs.fit(X_train_tf, y_train)\n",
    "\n",
    "stop_clf3 = timeit.default_timer()\n",
    "diff_clf3 = stop_clf3 - start_clf3\n",
    "diff_fit_clf3 = diff_clf3 / (len(ParameterGrid(param3)) * 8)\n",
    "\n",
    "# Best parameters and score\n",
    "print(f\"Best parameters:\\t{clf3_gs.best_params_}\")\n",
    "print(f\"Best score: \\t{clf3_gs.best_score_}\")\n",
    "\n",
    "# Confusion matrix\n",
    "print(\"Confusion matrix\")\n",
    "clf3_pred = (clf3_gs.predict(X_test_tf))\n",
    "ConfusionMatrixDisplay.from_predictions(y_test, clf3_pred)  \n",
    "plt.show()\n",
    "\n",
    "# Classification report\n",
    "print(classification_report(y_test,clf3_pred))\n",
    "clf3_accuracy = accuracy_score(y_test,clf3_pred)\n",
    "clf3_f1 = f1_score(y_test,clf3_pred, average='weighted')\n",
    "\n",
    "print(f'Berekeningstijd zonder metrics: {diff_clf3:.3f}s') # On Amazon SageMaker Studio Lab\n",
    "print(f'Berekeningstijd per fit: {diff_fit_clf3:.3f}s') # On Amazon SageMaker Studio Lab\n",
    "\n",
    "metrix_row_clf3 = ['Naïve Bayes', round(clf3_accuracy, 2), round(clf3_f1, 2), round(diff_clf3, 3), round(diff_fit_clf3, 3)]"
   ]
  },
  {
   "cell_type": "markdown",
   "metadata": {},
   "source": [
    "Welke classifier heeft jouw voorkeur? Beargumenteer in termen van accuracy, f1-score maar ook de berekeningstijd.\n"
   ]
  },
  {
   "cell_type": "code",
   "execution_count": 122,
   "metadata": {},
   "outputs": [
    {
     "data": {
      "text/html": [
       "<div>\n",
       "<style scoped>\n",
       "    .dataframe tbody tr th:only-of-type {\n",
       "        vertical-align: middle;\n",
       "    }\n",
       "\n",
       "    .dataframe tbody tr th {\n",
       "        vertical-align: top;\n",
       "    }\n",
       "\n",
       "    .dataframe thead th {\n",
       "        text-align: right;\n",
       "    }\n",
       "</style>\n",
       "<table border=\"1\" class=\"dataframe\">\n",
       "  <thead>\n",
       "    <tr style=\"text-align: right;\">\n",
       "      <th></th>\n",
       "      <th>Classifier</th>\n",
       "      <th>Accuracy</th>\n",
       "      <th>F1-score</th>\n",
       "      <th>Berekeningstijd</th>\n",
       "      <th>Berekeningstijd per fit</th>\n",
       "    </tr>\n",
       "  </thead>\n",
       "  <tbody>\n",
       "    <tr>\n",
       "      <th>0</th>\n",
       "      <td>Logistische Regressie</td>\n",
       "      <td>0.76</td>\n",
       "      <td>0.77</td>\n",
       "      <td>66.484</td>\n",
       "      <td>0.831</td>\n",
       "    </tr>\n",
       "    <tr>\n",
       "      <th>1</th>\n",
       "      <td>Support Vector Classifier</td>\n",
       "      <td>0.77</td>\n",
       "      <td>0.77</td>\n",
       "      <td>1118.845</td>\n",
       "      <td>2.854</td>\n",
       "    </tr>\n",
       "    <tr>\n",
       "      <th>2</th>\n",
       "      <td>Naïve Bayes</td>\n",
       "      <td>0.75</td>\n",
       "      <td>0.75</td>\n",
       "      <td>0.246</td>\n",
       "      <td>0.005</td>\n",
       "    </tr>\n",
       "  </tbody>\n",
       "</table>\n",
       "</div>"
      ],
      "text/plain": [
       "                  Classifier  Accuracy  F1-score  Berekeningstijd  \\\n",
       "0      Logistische Regressie      0.76      0.77           66.484   \n",
       "1  Support Vector Classifier      0.77      0.77         1118.845   \n",
       "2                Naïve Bayes      0.75      0.75            0.246   \n",
       "\n",
       "   Berekeningstijd per fit  \n",
       "0                    0.831  \n",
       "1                    2.854  \n",
       "2                    0.005  "
      ]
     },
     "execution_count": 122,
     "metadata": {},
     "output_type": "execute_result"
    }
   ],
   "source": [
    "# Antwoord\n",
    "metrix_arr = []\n",
    "metrix_arr.append(metrix_row_clf1)\n",
    "metrix_arr.append(metrix_row_clf2)\n",
    "metrix_arr.append(metrix_row_clf3)\n",
    "metrix_df = pd.DataFrame(metrix_arr, columns=metrix_columns)\n",
    "metrix_df"
   ]
  },
  {
   "cell_type": "code",
   "execution_count": 123,
   "metadata": {},
   "outputs": [
    {
     "data": {
      "text/html": [
       "<style type=\"text/css\">\n",
       "#T_7c69e_row0_col2, #T_7c69e_row1_col1, #T_7c69e_row1_col2 {\n",
       "  background-color: green;\n",
       "}\n",
       "</style>\n",
       "<table id=\"T_7c69e_\">\n",
       "  <thead>\n",
       "    <tr>\n",
       "      <th class=\"blank level0\" >&nbsp;</th>\n",
       "      <th class=\"col_heading level0 col0\" >Classifier</th>\n",
       "      <th class=\"col_heading level0 col1\" >Accuracy</th>\n",
       "      <th class=\"col_heading level0 col2\" >F1-score</th>\n",
       "      <th class=\"col_heading level0 col3\" >Berekeningstijd</th>\n",
       "      <th class=\"col_heading level0 col4\" >Berekeningstijd per fit</th>\n",
       "    </tr>\n",
       "  </thead>\n",
       "  <tbody>\n",
       "    <tr>\n",
       "      <th id=\"T_7c69e_level0_row0\" class=\"row_heading level0 row0\" >0</th>\n",
       "      <td id=\"T_7c69e_row0_col0\" class=\"data row0 col0\" >Logistische Regressie</td>\n",
       "      <td id=\"T_7c69e_row0_col1\" class=\"data row0 col1\" >0.760000</td>\n",
       "      <td id=\"T_7c69e_row0_col2\" class=\"data row0 col2\" >0.770000</td>\n",
       "      <td id=\"T_7c69e_row0_col3\" class=\"data row0 col3\" >66.484000</td>\n",
       "      <td id=\"T_7c69e_row0_col4\" class=\"data row0 col4\" >0.831000</td>\n",
       "    </tr>\n",
       "    <tr>\n",
       "      <th id=\"T_7c69e_level0_row1\" class=\"row_heading level0 row1\" >1</th>\n",
       "      <td id=\"T_7c69e_row1_col0\" class=\"data row1 col0\" >Support Vector Classifier</td>\n",
       "      <td id=\"T_7c69e_row1_col1\" class=\"data row1 col1\" >0.770000</td>\n",
       "      <td id=\"T_7c69e_row1_col2\" class=\"data row1 col2\" >0.770000</td>\n",
       "      <td id=\"T_7c69e_row1_col3\" class=\"data row1 col3\" >1118.845000</td>\n",
       "      <td id=\"T_7c69e_row1_col4\" class=\"data row1 col4\" >2.854000</td>\n",
       "    </tr>\n",
       "    <tr>\n",
       "      <th id=\"T_7c69e_level0_row2\" class=\"row_heading level0 row2\" >2</th>\n",
       "      <td id=\"T_7c69e_row2_col0\" class=\"data row2 col0\" >Naïve Bayes</td>\n",
       "      <td id=\"T_7c69e_row2_col1\" class=\"data row2 col1\" >0.750000</td>\n",
       "      <td id=\"T_7c69e_row2_col2\" class=\"data row2 col2\" >0.750000</td>\n",
       "      <td id=\"T_7c69e_row2_col3\" class=\"data row2 col3\" >0.246000</td>\n",
       "      <td id=\"T_7c69e_row2_col4\" class=\"data row2 col4\" >0.005000</td>\n",
       "    </tr>\n",
       "  </tbody>\n",
       "</table>\n"
      ],
      "text/plain": [
       "<pandas.io.formats.style.Styler at 0x7efed074c670>"
      ]
     },
     "execution_count": 123,
     "metadata": {},
     "output_type": "execute_result"
    }
   ],
   "source": [
    "metrix_df.style.highlight_max(subset = ['Accuracy', 'F1-score'], color = 'green', axis = 0)\n"
   ]
  },
  {
   "cell_type": "code",
   "execution_count": 124,
   "metadata": {},
   "outputs": [
    {
     "data": {
      "text/html": [
       "<style type=\"text/css\">\n",
       "#T_857ac_row2_col3, #T_857ac_row2_col4 {\n",
       "  background-color: green;\n",
       "}\n",
       "</style>\n",
       "<table id=\"T_857ac_\">\n",
       "  <thead>\n",
       "    <tr>\n",
       "      <th class=\"blank level0\" >&nbsp;</th>\n",
       "      <th class=\"col_heading level0 col0\" >Classifier</th>\n",
       "      <th class=\"col_heading level0 col1\" >Accuracy</th>\n",
       "      <th class=\"col_heading level0 col2\" >F1-score</th>\n",
       "      <th class=\"col_heading level0 col3\" >Berekeningstijd</th>\n",
       "      <th class=\"col_heading level0 col4\" >Berekeningstijd per fit</th>\n",
       "    </tr>\n",
       "  </thead>\n",
       "  <tbody>\n",
       "    <tr>\n",
       "      <th id=\"T_857ac_level0_row0\" class=\"row_heading level0 row0\" >0</th>\n",
       "      <td id=\"T_857ac_row0_col0\" class=\"data row0 col0\" >Logistische Regressie</td>\n",
       "      <td id=\"T_857ac_row0_col1\" class=\"data row0 col1\" >0.760000</td>\n",
       "      <td id=\"T_857ac_row0_col2\" class=\"data row0 col2\" >0.770000</td>\n",
       "      <td id=\"T_857ac_row0_col3\" class=\"data row0 col3\" >66.484000</td>\n",
       "      <td id=\"T_857ac_row0_col4\" class=\"data row0 col4\" >0.831000</td>\n",
       "    </tr>\n",
       "    <tr>\n",
       "      <th id=\"T_857ac_level0_row1\" class=\"row_heading level0 row1\" >1</th>\n",
       "      <td id=\"T_857ac_row1_col0\" class=\"data row1 col0\" >Support Vector Classifier</td>\n",
       "      <td id=\"T_857ac_row1_col1\" class=\"data row1 col1\" >0.770000</td>\n",
       "      <td id=\"T_857ac_row1_col2\" class=\"data row1 col2\" >0.770000</td>\n",
       "      <td id=\"T_857ac_row1_col3\" class=\"data row1 col3\" >1118.845000</td>\n",
       "      <td id=\"T_857ac_row1_col4\" class=\"data row1 col4\" >2.854000</td>\n",
       "    </tr>\n",
       "    <tr>\n",
       "      <th id=\"T_857ac_level0_row2\" class=\"row_heading level0 row2\" >2</th>\n",
       "      <td id=\"T_857ac_row2_col0\" class=\"data row2 col0\" >Naïve Bayes</td>\n",
       "      <td id=\"T_857ac_row2_col1\" class=\"data row2 col1\" >0.750000</td>\n",
       "      <td id=\"T_857ac_row2_col2\" class=\"data row2 col2\" >0.750000</td>\n",
       "      <td id=\"T_857ac_row2_col3\" class=\"data row2 col3\" >0.246000</td>\n",
       "      <td id=\"T_857ac_row2_col4\" class=\"data row2 col4\" >0.005000</td>\n",
       "    </tr>\n",
       "  </tbody>\n",
       "</table>\n"
      ],
      "text/plain": [
       "<pandas.io.formats.style.Styler at 0x7eff2d34c940>"
      ]
     },
     "execution_count": 124,
     "metadata": {},
     "output_type": "execute_result"
    }
   ],
   "source": [
    "metrix_df.style.highlight_min(subset = ['Berekeningstijd', 'Berekeningstijd per fit'], color = 'green', axis = 0)"
   ]
  },
  {
   "cell_type": "markdown",
   "metadata": {},
   "source": [
    "In de geteste modellen zijn logistische regressie en SVM gelijkaardig met betrekking tot de evaluatieparameters. Ze hebben beide een gewogen F1 score van 0.77 en een accuracy van 0.76 en 0.77 respectievelijk. Kijkend naar de berekeningstijd tussen deze 2, doet SVM er ongeveer 3,4x langer over per training. Met enkel een keuze tussen deze twee gaat de voorkeur uit naar logtistische regressie (zelfde accuracy, maar veel kortere berekeningstijd). Naïve bayes doet het in dit model iets slechter dan de andere 2 classifiers met een accuracy en F1-score van 0.75. Hiertegenover staat wel een zéér korte berekeningstijd van 0,005 seconde per training. Dat is 166x sneller dan logistische regressie en 571x sneller dan SVM. Deze kortere berekeningstijd pleit sterk in het voordeel van Naïve Bayes, ookal is de accuracy net iets slechter. Er moet trouwens ook gezegd worden dat de accuracy in het algemeen niet heel indrukwekkend is. De voorkeur zou alsnog naar Naïve Bayes gaan, mits de nodige model optimalisatie.\n",
    "\n",
    "Hieraan toegevoegd hoort ook alvast een deel van het antwoord op de volgende vraag. Naïve Bayes is in staat om meer negatieve tweets correct te classificeren dan de overige 2 classifiers."
   ]
  },
  {
   "cell_type": "markdown",
   "metadata": {},
   "source": [
    "### Modeloptimalisatie\n",
    "\n",
    "- Stel dat de airlines vooral geïnteresseerd zijn in het correct opsporen van negatieve tweets. Welke aanpassingen zou je kunnen doen om ervoor te zorgen dat het model minder negatieve tweets verkeerd classificeert? Test deze aanpassingen.\n",
    "\n",
    "- Bekom je een beter model met een hogere accuraatheid wanneer je ook de feature airline in rekening brengt? Een optie hierbij is ook om voor elke airline een apart model te trainen. \n",
    "\n",
    "- Bekom je een beter model wanneer je de lengte van de tweets in rekening brengt?\n",
    "\n",
    "#### Reduceren van vals-negatieve predicties\n",
    "Als de airlines vooral geïnteresseerd zijn in het correct opsporen van negatieve tweets, dan is de snelste manier voor het reduceren van het aantal vals-negatieve tweets enerzijds het bundelen van de neutrale en positieve tweets. Zodoende wordt een binaire classificatie getraind, waarbij doormiddel van het verplaatsen van de treshold, het aantal valsnegatieve tweets kan worden gereduceerd. Deze aanpassingen worden getest op logistische regressie en Naïve Bayes. Vanwege tijdsefficiëntie, wordt voor modeloptimalisatie geen SVM meer gebruikt.\n",
    "\n",
    "Belangrijk: in de volgende modellen wordt klasse \"1\" toegekend aan de tweets met negatieve sentiment. Klasse \"0\" wordt toegekend aan alle andere tweets. Op basis van deze hernoeming kan de vraag uit de opdracht worden veranderd tot het reduceren van valspositieve resultaten. Hiervoor kan een ROC-curve worden aangewend."
   ]
  },
  {
   "cell_type": "code",
   "execution_count": 125,
   "metadata": {},
   "outputs": [],
   "source": [
    "# Combineren van neutrale en positieve berichten\n",
    "y_train_bin = np.where(y_train == 'negative', 1, 0)\n",
    "y_test_bin = np.where(y_test == 'negative', 1, 0)"
   ]
  },
  {
   "cell_type": "code",
   "execution_count": 126,
   "metadata": {},
   "outputs": [
    {
     "name": "stdout",
     "output_type": "stream",
     "text": [
      "Fitting 8 folds for each of 10 candidates, totalling 80 fits\n"
     ]
    },
    {
     "data": {
      "image/png": "[encoded data removed]",
      "text/plain": [
       "<Figure size 1440x720 with 1 Axes>"
      ]
     },
     "metadata": {
      "needs_background": "light"
     },
     "output_type": "display_data"
    },
    {
     "data": {
      "image/png": "[encoded data removed]",
      "text/plain": [
       "<Figure size 1440x720 with 2 Axes>"
      ]
     },
     "metadata": {
      "needs_background": "light"
     },
     "output_type": "display_data"
    },
    {
     "name": "stdout",
     "output_type": "stream",
     "text": [
      "              precision    recall  f1-score   support\n",
      "\n",
      "           0       0.92      0.38      0.54      1085\n",
      "           1       0.74      0.98      0.84      1915\n",
      "\n",
      "    accuracy                           0.76      3000\n",
      "   macro avg       0.83      0.68      0.69      3000\n",
      "weighted avg       0.80      0.76      0.73      3000\n",
      "\n"
     ]
    }
   ],
   "source": [
    "# Logistische regressie\n",
    "clf1_gs = GridSearchCV(clf1, param1, cv=8, n_jobs=-1, scoring='accuracy', verbose=1)\n",
    "clf1_gs.fit(X_train_tf, y_train_bin)\n",
    "\n",
    "#ROC\n",
    "probs = clf1_gs.predict_proba(X_test_tf)\n",
    "preds = probs[:,1]\n",
    "fpr, tpr, threshold = roc_curve(y_test_bin, preds)\n",
    "roc_auc = auc(fpr, tpr)\n",
    "\n",
    "plt.title('Receiver Operating Characteristic')\n",
    "plt.plot(fpr, tpr, 'b', label = 'AUC = %0.2f' % roc_auc)\n",
    "plt.legend(loc = 'lower right')\n",
    "plt.plot([0, 1], [0, 1],'r--')\n",
    "plt.xlim([0, 1])\n",
    "plt.ylim([0, 1])\n",
    "plt.ylabel('True Positive Rate')\n",
    "plt.xlabel('False Positive Rate')\n",
    "plt.show()\n",
    "\n",
    "# Confusion matrix\n",
    "y_pred_bin = (clf1_gs.predict_proba(X_test_tf)[:,1] >= 0.1)\n",
    "ConfusionMatrixDisplay.from_predictions(y_test_bin.astype(int), y_pred_bin.astype(int))  \n",
    "plt.show()\n",
    "\n",
    "print(classification_report(y_test_bin,y_pred_bin))"
   ]
  },
  {
   "cell_type": "code",
   "execution_count": 127,
   "metadata": {},
   "outputs": [
    {
     "name": "stdout",
     "output_type": "stream",
     "text": [
      "Fitting 8 folds for each of 6 candidates, totalling 48 fits\n"
     ]
    },
    {
     "data": {
      "image/png": "[encoded data removed]",
      "text/plain": [
       "<Figure size 1440x720 with 1 Axes>"
      ]
     },
     "metadata": {
      "needs_background": "light"
     },
     "output_type": "display_data"
    },
    {
     "data": {
      "image/png": "[encoded data removed]",
      "text/plain": [
       "<Figure size 1440x720 with 2 Axes>"
      ]
     },
     "metadata": {
      "needs_background": "light"
     },
     "output_type": "display_data"
    },
    {
     "name": "stdout",
     "output_type": "stream",
     "text": [
      "              precision    recall  f1-score   support\n",
      "\n",
      "           0       0.91      0.37      0.52      1085\n",
      "           1       0.73      0.98      0.84      1915\n",
      "\n",
      "    accuracy                           0.76      3000\n",
      "   macro avg       0.82      0.67      0.68      3000\n",
      "weighted avg       0.80      0.76      0.72      3000\n",
      "\n"
     ]
    }
   ],
   "source": [
    "\n",
    "# Naive bayes na combineren neutrale en positieve berichten\n",
    "clf3_gs = GridSearchCV(clf3, param3, cv=8, n_jobs=-1, scoring='accuracy', verbose=1)\n",
    "clf3_gs.fit(X_train_tf, y_train_bin)\n",
    "\n",
    "#ROC\n",
    "probs = clf3_gs.predict_proba(X_test_tf)\n",
    "preds = probs[:,1]\n",
    "fpr, tpr, threshold = roc_curve(y_test_bin, preds)\n",
    "roc_auc = auc(fpr, tpr)\n",
    "\n",
    "plt.title('Receiver Operating Characteristic')\n",
    "plt.plot(fpr, tpr, 'b', label = 'AUC = %0.2f' % roc_auc)\n",
    "plt.legend(loc = 'lower right')\n",
    "plt.plot([0, 1], [0, 1],'r--')\n",
    "plt.xlim([0, 1])\n",
    "plt.ylim([0, 1])\n",
    "plt.ylabel('True Positive Rate')\n",
    "plt.xlabel('False Positive Rate')\n",
    "plt.show()\n",
    "\n",
    "# Confusion matrix\n",
    "y_pred_bin = (clf3_gs.predict_proba(X_test_tf)[:,1] >= 0.3)\n",
    "ConfusionMatrixDisplay.from_predictions(y_test_bin.astype(int), y_pred_bin.astype(int))  \n",
    "plt.show()\n",
    "\n",
    "print(classification_report(y_test_bin,y_pred_bin))\n"
   ]
  },
  {
   "cell_type": "markdown",
   "metadata": {},
   "source": [
    "Zoals reeds eerder vermeld, lijkt Naïve Bayes het iets beter te doen bij het reduceren van tweets die valselijk zijn geclassificeerd als neutraal of positief. De Threshold hoeft niet zo sterk worden verlaagd (klasse 1 = negatieve sentiment) als bij logistische regressie: 0.3 versus 0.1. De threshold verlagen zorgt voor een lichte toename aan accuracy bij Naïve Bayes (75% naar 76%). Bij logistische regressie boet de accuracy niet in bij het verlagen tot een threshold van 0.1. Het gevolg van deze aanpassing is een uitgesproken toename van neutrale of positieve tweets, die als negatief worden afgegeven in deze modellen."
   ]
  },
  {
   "cell_type": "markdown",
   "metadata": {},
   "source": [
    "#### Feature airline integreren in model\n",
    "In principe is de airline reeds geïntegreerd in de modellen. Het eerste woord van elke tweet start met de aanhef tot een bepaalde airline maatschappij. In deze zin lijkt het nutteloos om de airline toe te voegen aan de features. Aan de andere kant kunnen er wel aparte modellen worden getraind voor elke luchtvaartmaatschappij."
   ]
  },
  {
   "cell_type": "code",
   "execution_count": 128,
   "metadata": {},
   "outputs": [],
   "source": [
    "virgin = airline[airline['airline'] == 'Virgin America']\n",
    "united = airline[airline['airline'] == 'United']\n",
    "southwest = airline[airline['airline'] == 'Southwest']\n",
    "delta = airline[airline['airline'] == 'Delta']\n",
    "airways = airline[airline['airline'] == 'US Airways']\n",
    "america = airline[airline['airline'] == 'American']"
   ]
  },
  {
   "cell_type": "markdown",
   "metadata": {},
   "source": [
    "##### Modellen voor Virgin America\n",
    "De subdataframe wordt gesplitst. Het bag-of-word model wordt opnieuw gegenereerd. Vervolgens worden logistische regressiemodellen en Naïve Bayes opnieuw getraind met cross-validatie en hyperparameter tuning op basis van gridsearch."
   ]
  },
  {
   "cell_type": "code",
   "execution_count": 129,
   "metadata": {},
   "outputs": [],
   "source": [
    "# Virgin America\n",
    "# Splitsen\n",
    "y_virgin = virgin['airline_sentiment'].values\n",
    "X_virgin = virgin.text_preprocessed\n",
    "\n",
    "X_virgin_train, X_virgin_test, y_virgin_train, y_virgin_test = train_test_split(X_virgin, y_virgin, test_size=0.25, random_state=0)\n",
    "\n",
    "# Countvectorizer\n",
    "virgin_cv = CountVectorizer()\n",
    "X_virgin_train_cv = virgin_cv.fit_transform(X_virgin_train)\n",
    "X_virgin_test_cv = virgin_cv.transform(X_virgin_test)\n",
    "\n",
    "# TfidfTransformer\n",
    "virgin_tfidf = TfidfTransformer(use_idf=True)\n",
    "virgin_tfidf.fit(X_virgin_train_cv)\n",
    "X_virgin_train_tf = virgin_tfidf.transform(X_virgin_train_cv)\n",
    "X_virgin_test_tf = virgin_tfidf.transform(X_virgin_test_cv)\n",
    "\n",
    "# Initiate models\n",
    "clf1 = LogisticRegression(class_weight='balanced', max_iter=25000)\n",
    "clf3 = MultinomialNB()\n",
    "\n",
    "# Initiate grids\n",
    "param1 = {\"C\": np.logspace(-2,3,10)}\n",
    "param3 = {'alpha': np.logspace(-3,2,6)}"
   ]
  },
  {
   "cell_type": "code",
   "execution_count": 130,
   "metadata": {},
   "outputs": [
    {
     "name": "stdout",
     "output_type": "stream",
     "text": [
      "Fitting 8 folds for each of 10 candidates, totalling 80 fits\n",
      "Best parameters:\t{'C': 278.2559402207126}\n",
      "Best score: \t0.6509308510638299\n",
      "Confusion matrix\n"
     ]
    },
    {
     "data": {
      "image/png": "[encoded data removed]",
      "text/plain": [
       "<Figure size 1440x720 with 2 Axes>"
      ]
     },
     "metadata": {
      "needs_background": "light"
     },
     "output_type": "display_data"
    },
    {
     "name": "stdout",
     "output_type": "stream",
     "text": [
      "              precision    recall  f1-score   support\n",
      "\n",
      "    negative       0.49      0.65      0.56        34\n",
      "     neutral       0.68      0.50      0.58        52\n",
      "    positive       0.65      0.70      0.67        40\n",
      "\n",
      "    accuracy                           0.60       126\n",
      "   macro avg       0.61      0.62      0.60       126\n",
      "weighted avg       0.62      0.60      0.60       126\n",
      "\n"
     ]
    }
   ],
   "source": [
    "# Logistic regression met hyperparametertuning en cross validation (grid search)\n",
    "clf1_gs = GridSearchCV(clf1, param1, cv=8, n_jobs=-1, scoring='accuracy', verbose=1)\n",
    "clf1_gs.fit(X_virgin_train_tf, y_virgin_train)\n",
    "\n",
    "# Best parameters and score\n",
    "print(f\"Best parameters:\\t{clf1_gs.best_params_}\")\n",
    "print(f\"Best score: \\t{clf1_gs.best_score_}\")\n",
    "\n",
    "# Confusion matrix\n",
    "print(\"Confusion matrix\")\n",
    "clf1_virgin_pred = (clf1_gs.predict(X_virgin_test_tf))\n",
    "ConfusionMatrixDisplay.from_predictions(y_virgin_test, clf1_virgin_pred)  \n",
    "plt.show()\n",
    "\n",
    "# Classification report\n",
    "print(classification_report(y_virgin_test, clf1_virgin_pred))"
   ]
  },
  {
   "cell_type": "code",
   "execution_count": 131,
   "metadata": {},
   "outputs": [
    {
     "name": "stdout",
     "output_type": "stream",
     "text": [
      "Fitting 8 folds for each of 6 candidates, totalling 48 fits\n",
      "Best parameters:\t{'alpha': 0.1}\n",
      "Best score: \t0.6188497340425532\n",
      "Confusion matrix\n"
     ]
    },
    {
     "data": {
      "image/png": "[encoded data removed]",
      "text/plain": [
       "<Figure size 1440x720 with 2 Axes>"
      ]
     },
     "metadata": {
      "needs_background": "light"
     },
     "output_type": "display_data"
    },
    {
     "name": "stdout",
     "output_type": "stream",
     "text": [
      "              precision    recall  f1-score   support\n",
      "\n",
      "    negative       0.45      0.74      0.56        34\n",
      "     neutral       0.71      0.38      0.50        52\n",
      "    positive       0.60      0.65      0.63        40\n",
      "\n",
      "    accuracy                           0.56       126\n",
      "   macro avg       0.59      0.59      0.56       126\n",
      "weighted avg       0.61      0.56      0.56       126\n",
      "\n"
     ]
    }
   ],
   "source": [
    "# Naive Bayes met hyperparametertuning en cross validation (grid search)\n",
    "clf3_gs = GridSearchCV(clf3, param3, cv=8, n_jobs=-1, scoring='accuracy', verbose=1)\n",
    "clf3_gs.fit(X_virgin_train_tf, y_virgin_train)\n",
    "\n",
    "# Best parameters and score\n",
    "print(f\"Best parameters:\\t{clf3_gs.best_params_}\")\n",
    "print(f\"Best score: \\t{clf3_gs.best_score_}\")\n",
    "\n",
    "# Confusion matrix\n",
    "print(\"Confusion matrix\")\n",
    "clf3_virgin_pred = (clf3_gs.predict(X_virgin_test_tf))\n",
    "ConfusionMatrixDisplay.from_predictions(y_virgin_test, clf3_virgin_pred)  \n",
    "plt.show()\n",
    "\n",
    "# Classification report\n",
    "print(classification_report(y_virgin_test, clf3_virgin_pred))"
   ]
  },
  {
   "cell_type": "markdown",
   "metadata": {},
   "source": [
    "**Conclusie modellen voor Virgin America**  \n",
    "Het beste model wordt bereikt met logistische regressie. De accuracy bedraagt hierbij 60% ten opzichte van 56% bij Naïve Bayes. Beide modellen scoren echter slechter dan de algemene modellen vóór het splitsen op basis van de luchtvaartmaatschappijen."
   ]
  },
  {
   "cell_type": "markdown",
   "metadata": {},
   "source": [
    "##### Modellen voor United\n",
    "De subdataframe wordt gesplitst. Het bag-of-word model wordt opnieuw gegenereerd. Vervolgens worden logistische regressiemodellen en Naïve Bayes opnieuw getraind met cross-validatie en hyperparameter tuning op basis van gridsearch."
   ]
  },
  {
   "cell_type": "code",
   "execution_count": 132,
   "metadata": {},
   "outputs": [],
   "source": [
    "# United\n",
    "# Splitsen\n",
    "y_united = united['airline_sentiment'].values\n",
    "X_united = united.text_preprocessed\n",
    "\n",
    "X_united_train, X_united_test, y_united_train, y_united_test = train_test_split(X_united, y_united, test_size=0.25, random_state=0)\n",
    "\n",
    "# Countvectorizer\n",
    "united_cv = CountVectorizer()\n",
    "X_united_train_cv = united_cv.fit_transform(X_united_train)\n",
    "X_united_test_cv = united_cv.transform(X_united_test)\n",
    "\n",
    "# TfidfTransformer\n",
    "united_tfidf = TfidfTransformer(use_idf=True)\n",
    "united_tfidf.fit(X_united_train_cv)\n",
    "X_united_train_tf = united_tfidf.transform(X_united_train_cv)\n",
    "X_united_test_tf = united_tfidf.transform(X_united_test_cv)\n",
    "\n",
    "# Initiate models\n",
    "clf1 = LogisticRegression(class_weight='balanced', max_iter=25000)\n",
    "clf3 = MultinomialNB()\n",
    "\n",
    "# Initiate grids\n",
    "param1 = {\"C\": np.logspace(-2,3,10)}\n",
    "param3 = {'alpha': np.logspace(-3,2,6)}"
   ]
  },
  {
   "cell_type": "code",
   "execution_count": 133,
   "metadata": {},
   "outputs": [
    {
     "name": "stdout",
     "output_type": "stream",
     "text": [
      "Fitting 8 folds for each of 10 candidates, totalling 80 fits\n",
      "Best parameters:\t{'C': 1.6681005372000592}\n",
      "Best score: \t0.7316723984998676\n",
      "Confusion matrix\n"
     ]
    },
    {
     "data": {
      "image/png": "[encoded data removed]",
      "text/plain": [
       "<Figure size 1440x720 with 2 Axes>"
      ]
     },
     "metadata": {
      "needs_background": "light"
     },
     "output_type": "display_data"
    },
    {
     "name": "stdout",
     "output_type": "stream",
     "text": [
      "              precision    recall  f1-score   support\n",
      "\n",
      "    negative       0.85      0.77      0.81       662\n",
      "     neutral       0.34      0.45      0.39       158\n",
      "    positive       0.53      0.60      0.56       136\n",
      "\n",
      "    accuracy                           0.69       956\n",
      "   macro avg       0.57      0.60      0.59       956\n",
      "weighted avg       0.72      0.69      0.70       956\n",
      "\n"
     ]
    }
   ],
   "source": [
    "# Logistic regression met hyperparametertuning en cross validation (grid search)\n",
    "clf1_gs = GridSearchCV(clf1, param1, cv=8, n_jobs=-1, scoring='accuracy', verbose=1)\n",
    "clf1_gs.fit(X_united_train_tf, y_united_train)\n",
    "\n",
    "# Best parameters and score\n",
    "print(f\"Best parameters:\\t{clf1_gs.best_params_}\")\n",
    "print(f\"Best score: \\t{clf1_gs.best_score_}\")\n",
    "\n",
    "# Confusion matrix\n",
    "print(\"Confusion matrix\")\n",
    "clf1_united_pred = (clf1_gs.predict(X_united_test_tf))\n",
    "ConfusionMatrixDisplay.from_predictions(y_united_test, clf1_united_pred)  \n",
    "plt.show()\n",
    "\n",
    "# Classification report\n",
    "print(classification_report(y_united_test, clf1_united_pred))"
   ]
  },
  {
   "cell_type": "code",
   "execution_count": 134,
   "metadata": {},
   "outputs": [
    {
     "name": "stdout",
     "output_type": "stream",
     "text": [
      "Fitting 8 folds for each of 6 candidates, totalling 48 fits\n",
      "Best parameters:\t{'alpha': 0.1}\n",
      "Best score: \t0.7334269619209162\n",
      "Confusion matrix\n"
     ]
    },
    {
     "data": {
      "image/png": "[encoded data removed]",
      "text/plain": [
       "<Figure size 1440x720 with 2 Axes>"
      ]
     },
     "metadata": {
      "needs_background": "light"
     },
     "output_type": "display_data"
    },
    {
     "name": "stdout",
     "output_type": "stream",
     "text": [
      "              precision    recall  f1-score   support\n",
      "\n",
      "    negative       0.76      0.99      0.86       662\n",
      "     neutral       0.64      0.22      0.32       158\n",
      "    positive       0.81      0.28      0.42       136\n",
      "\n",
      "    accuracy                           0.76       956\n",
      "   macro avg       0.74      0.49      0.53       956\n",
      "weighted avg       0.75      0.76      0.71       956\n",
      "\n"
     ]
    }
   ],
   "source": [
    "# Naive Bayes met hyperparametertuning en cross validation (grid search)\n",
    "clf3_gs = GridSearchCV(clf3, param3, cv=8, n_jobs=-1, scoring='accuracy', verbose=1)\n",
    "clf3_gs.fit(X_united_train_tf, y_united_train)\n",
    "\n",
    "# Best parameters and score\n",
    "print(f\"Best parameters:\\t{clf3_gs.best_params_}\")\n",
    "print(f\"Best score: \\t{clf3_gs.best_score_}\")\n",
    "\n",
    "# Confusion matrix\n",
    "print(\"Confusion matrix\")\n",
    "clf3_united_pred = (clf3_gs.predict(X_united_test_tf))\n",
    "ConfusionMatrixDisplay.from_predictions(y_united_test, clf3_united_pred)  \n",
    "plt.show()\n",
    "\n",
    "# Classification report\n",
    "print(classification_report(y_united_test, clf3_united_pred))"
   ]
  },
  {
   "cell_type": "markdown",
   "metadata": {},
   "source": [
    "**Conclusie modellen voor United**  \n",
    "Het beste model wordt bereikt met Naïve Bayes. De accuracy bedraagt hierbij 76% ten opzichte van 69% bij logistische regressie. Naïve Bayes doet het hierbij een beetje beter, dan bij de algemene modellen vóór het splitsen op basis van de luchtvaartmaatschappijen."
   ]
  },
  {
   "cell_type": "markdown",
   "metadata": {},
   "source": [
    "##### Modellen voor Southwest\n",
    "De subdataframe wordt gesplitst. Het bag-of-word model wordt opnieuw gegenereerd. Vervolgens worden logistische regressiemodellen en Naïve Bayes opnieuw getraind met cross-validatie en hyperparameter tuning op basis van gridsearch."
   ]
  },
  {
   "cell_type": "code",
   "execution_count": 135,
   "metadata": {},
   "outputs": [],
   "source": [
    "# southwest\n",
    "# Splitsen\n",
    "y_southwest = southwest['airline_sentiment'].values\n",
    "X_southwest = southwest.text_preprocessed\n",
    "\n",
    "X_southwest_train, X_southwest_test, y_southwest_train, y_southwest_test = train_test_split(X_southwest, y_southwest, test_size=0.25, random_state=0)\n",
    "\n",
    "# Countvectorizer\n",
    "southwest_cv = CountVectorizer()\n",
    "X_southwest_train_cv = southwest_cv.fit_transform(X_southwest_train)\n",
    "X_southwest_test_cv = southwest_cv.transform(X_southwest_test)\n",
    "\n",
    "# TfidfTransformer\n",
    "southwest_tfidf = TfidfTransformer(use_idf=True)\n",
    "southwest_tfidf.fit(X_southwest_train_cv)\n",
    "X_southwest_train_tf = southwest_tfidf.transform(X_southwest_train_cv)\n",
    "X_southwest_test_tf = southwest_tfidf.transform(X_southwest_test_cv)\n",
    "\n",
    "# Initiate models\n",
    "clf1 = LogisticRegression(class_weight='balanced', max_iter=25000)\n",
    "clf3 = MultinomialNB()\n",
    "\n",
    "# Initiate grids\n",
    "param1 = {\"C\": np.logspace(-2,3,10)}\n",
    "param3 = {'alpha': np.logspace(-3,2,6)}"
   ]
  },
  {
   "cell_type": "code",
   "execution_count": 136,
   "metadata": {},
   "outputs": [
    {
     "name": "stdout",
     "output_type": "stream",
     "text": [
      "Fitting 8 folds for each of 10 candidates, totalling 80 fits\n",
      "Best parameters:\t{'C': 0.464158883361278}\n",
      "Best score: \t0.71514024794355\n",
      "Confusion matrix\n"
     ]
    },
    {
     "data": {
      "image/png": "[encoded data removed]",
      "text/plain": [
       "<Figure size 1440x720 with 2 Axes>"
      ]
     },
     "metadata": {
      "needs_background": "light"
     },
     "output_type": "display_data"
    },
    {
     "name": "stdout",
     "output_type": "stream",
     "text": [
      "              precision    recall  f1-score   support\n",
      "\n",
      "    negative       0.83      0.82      0.82       299\n",
      "     neutral       0.59      0.61      0.60       164\n",
      "    positive       0.70      0.69      0.69       142\n",
      "\n",
      "    accuracy                           0.73       605\n",
      "   macro avg       0.71      0.71      0.71       605\n",
      "weighted avg       0.73      0.73      0.73       605\n",
      "\n"
     ]
    }
   ],
   "source": [
    "# Logistic regression met hyperparametertuning en cross validation (grid search)\n",
    "clf1_gs = GridSearchCV(clf1, param1, cv=8, n_jobs=-1, scoring='accuracy', verbose=1)\n",
    "clf1_gs.fit(X_southwest_train_tf, y_southwest_train)\n",
    "\n",
    "# Best parameters and score\n",
    "print(f\"Best parameters:\\t{clf1_gs.best_params_}\")\n",
    "print(f\"Best score: \\t{clf1_gs.best_score_}\")\n",
    "\n",
    "# Confusion matrix\n",
    "print(\"Confusion matrix\")\n",
    "clf1_southwest_pred = (clf1_gs.predict(X_southwest_test_tf))\n",
    "ConfusionMatrixDisplay.from_predictions(y_southwest_test, clf1_southwest_pred)  \n",
    "plt.show()\n",
    "\n",
    "# Classification report\n",
    "print(classification_report(y_southwest_test, clf1_southwest_pred))"
   ]
  },
  {
   "cell_type": "code",
   "execution_count": 137,
   "metadata": {},
   "outputs": [
    {
     "name": "stdout",
     "output_type": "stream",
     "text": [
      "Fitting 8 folds for each of 6 candidates, totalling 48 fits\n",
      "Best parameters:\t{'alpha': 0.1}\n",
      "Best score: \t0.6738163229503722\n",
      "Confusion matrix\n"
     ]
    },
    {
     "data": {
      "image/png": "[encoded data removed]",
      "text/plain": [
       "<Figure size 1440x720 with 2 Axes>"
      ]
     },
     "metadata": {
      "needs_background": "light"
     },
     "output_type": "display_data"
    },
    {
     "name": "stdout",
     "output_type": "stream",
     "text": [
      "              precision    recall  f1-score   support\n",
      "\n",
      "    negative       0.73      0.93      0.82       299\n",
      "     neutral       0.67      0.43      0.53       164\n",
      "    positive       0.66      0.55      0.60       142\n",
      "\n",
      "    accuracy                           0.71       605\n",
      "   macro avg       0.69      0.64      0.65       605\n",
      "weighted avg       0.70      0.71      0.69       605\n",
      "\n"
     ]
    }
   ],
   "source": [
    "# Naive Bayes met hyperparametertuning en cross validation (grid search)\n",
    "clf3_gs = GridSearchCV(clf3, param3, cv=8, n_jobs=-1, scoring='accuracy', verbose=1)\n",
    "clf3_gs.fit(X_southwest_train_tf, y_southwest_train)\n",
    "\n",
    "# Best parameters and score\n",
    "print(f\"Best parameters:\\t{clf3_gs.best_params_}\")\n",
    "print(f\"Best score: \\t{clf3_gs.best_score_}\")\n",
    "\n",
    "# Confusion matrix\n",
    "print(\"Confusion matrix\")\n",
    "clf3_southwest_pred = (clf3_gs.predict(X_southwest_test_tf))\n",
    "ConfusionMatrixDisplay.from_predictions(y_southwest_test, clf3_southwest_pred)  \n",
    "plt.show()\n",
    "\n",
    "# Classification report\n",
    "print(classification_report(y_southwest_test, clf3_southwest_pred))"
   ]
  },
  {
   "cell_type": "markdown",
   "metadata": {},
   "source": [
    "**Conclusie modellen voor Southwest**  \n",
    "Het beste model wordt bereikt met logistische regressie. De accuracy bedraagt hierbij 73% ten opzichte van 71% bij Naïve Bayes. Beide modellen doen het net iets slechter dan bij de algemene modellen vóór het splitsen op basis van de luchtvaartmaatschappijen."
   ]
  },
  {
   "cell_type": "markdown",
   "metadata": {},
   "source": [
    "##### Modellen voor Delta\n",
    "De subdataframe wordt gesplitst. Het bag-of-word model wordt opnieuw gegenereerd. Vervolgens worden logistische regressiemodellen en Naïve Bayes opnieuw getraind met cross-validatie en hyperparameter tuning op basis van gridsearch."
   ]
  },
  {
   "cell_type": "code",
   "execution_count": 138,
   "metadata": {},
   "outputs": [],
   "source": [
    "# delta\n",
    "# Splitsen\n",
    "y_delta = delta['airline_sentiment'].values\n",
    "X_delta = delta.text_preprocessed\n",
    "\n",
    "X_delta_train, X_delta_test, y_delta_train, y_delta_test = train_test_split(X_delta, y_delta, test_size=0.25, random_state=0)\n",
    "\n",
    "# Countvectorizer\n",
    "delta_cv = CountVectorizer()\n",
    "X_delta_train_cv = delta_cv.fit_transform(X_delta_train)\n",
    "X_delta_test_cv = delta_cv.transform(X_delta_test)\n",
    "\n",
    "# TfidfTransformer\n",
    "delta_tfidf = TfidfTransformer(use_idf=True)\n",
    "delta_tfidf.fit(X_delta_train_cv)\n",
    "X_delta_train_tf = delta_tfidf.transform(X_delta_train_cv)\n",
    "X_delta_test_tf = delta_tfidf.transform(X_delta_test_cv)\n",
    "\n",
    "# Initiate models\n",
    "clf1 = LogisticRegression(class_weight='balanced', max_iter=25000)\n",
    "clf3 = MultinomialNB()\n",
    "\n",
    "# Initiate grids\n",
    "param1 = {\"C\": np.logspace(-2,3,10)}\n",
    "param3 = {'alpha': np.logspace(-3,2,6)}"
   ]
  },
  {
   "cell_type": "code",
   "execution_count": 139,
   "metadata": {},
   "outputs": [
    {
     "name": "stdout",
     "output_type": "stream",
     "text": [
      "Fitting 8 folds for each of 10 candidates, totalling 80 fits\n",
      "Best parameters:\t{'C': 0.464158883361278}\n",
      "Best score: \t0.6956402972027972\n",
      "Confusion matrix\n"
     ]
    },
    {
     "data": {
      "image/png": "[encoded data removed]",
      "text/plain": [
       "<Figure size 1440x720 with 2 Axes>"
      ]
     },
     "metadata": {
      "needs_background": "light"
     },
     "output_type": "display_data"
    },
    {
     "name": "stdout",
     "output_type": "stream",
     "text": [
      "              precision    recall  f1-score   support\n",
      "\n",
      "    negative       0.72      0.72      0.72       232\n",
      "     neutral       0.61      0.64      0.62       183\n",
      "    positive       0.74      0.70      0.72       141\n",
      "\n",
      "    accuracy                           0.69       556\n",
      "   macro avg       0.69      0.69      0.69       556\n",
      "weighted avg       0.69      0.69      0.69       556\n",
      "\n"
     ]
    }
   ],
   "source": [
    "# Logistic regression met hyperparametertuning en cross validation (grid search)\n",
    "clf1_gs = GridSearchCV(clf1, param1, cv=8, n_jobs=-1, scoring='accuracy', verbose=1)\n",
    "clf1_gs.fit(X_delta_train_tf, y_delta_train)\n",
    "\n",
    "# Best parameters and score\n",
    "print(f\"Best parameters:\\t{clf1_gs.best_params_}\")\n",
    "print(f\"Best score: \\t{clf1_gs.best_score_}\")\n",
    "\n",
    "# Confusion matrix\n",
    "print(\"Confusion matrix\")\n",
    "clf1_delta_pred = (clf1_gs.predict(X_delta_test_tf))\n",
    "ConfusionMatrixDisplay.from_predictions(y_delta_test, clf1_delta_pred)  \n",
    "plt.show()\n",
    "\n",
    "# Classification report\n",
    "print(classification_report(y_delta_test, clf1_delta_pred))"
   ]
  },
  {
   "cell_type": "code",
   "execution_count": 140,
   "metadata": {},
   "outputs": [
    {
     "name": "stdout",
     "output_type": "stream",
     "text": [
      "Fitting 8 folds for each of 6 candidates, totalling 48 fits\n",
      "Best parameters:\t{'alpha': 0.1}\n",
      "Best score: \t0.6740603146853147\n",
      "Confusion matrix\n"
     ]
    },
    {
     "data": {
      "image/png": "[encoded data removed]",
      "text/plain": [
       "<Figure size 1440x720 with 2 Axes>"
      ]
     },
     "metadata": {
      "needs_background": "light"
     },
     "output_type": "display_data"
    },
    {
     "name": "stdout",
     "output_type": "stream",
     "text": [
      "              precision    recall  f1-score   support\n",
      "\n",
      "    negative       0.67      0.85      0.75       232\n",
      "     neutral       0.70      0.55      0.61       183\n",
      "    positive       0.71      0.59      0.64       141\n",
      "\n",
      "    accuracy                           0.68       556\n",
      "   macro avg       0.69      0.66      0.67       556\n",
      "weighted avg       0.69      0.68      0.68       556\n",
      "\n"
     ]
    }
   ],
   "source": [
    "# Naive Bayes met hyperparametertuning en cross validation (grid search)\n",
    "clf3_gs = GridSearchCV(clf3, param3, cv=8, n_jobs=-1, scoring='accuracy', verbose=1)\n",
    "clf3_gs.fit(X_delta_train_tf, y_delta_train)\n",
    "\n",
    "# Best parameters and score\n",
    "print(f\"Best parameters:\\t{clf3_gs.best_params_}\")\n",
    "print(f\"Best score: \\t{clf3_gs.best_score_}\")\n",
    "\n",
    "# Confusion matrix\n",
    "print(\"Confusion matrix\")\n",
    "clf3_delta_pred = (clf3_gs.predict(X_delta_test_tf))\n",
    "ConfusionMatrixDisplay.from_predictions(y_delta_test, clf3_delta_pred)  \n",
    "plt.show()\n",
    "\n",
    "# Classification report\n",
    "print(classification_report(y_delta_test, clf3_delta_pred))"
   ]
  },
  {
   "cell_type": "markdown",
   "metadata": {},
   "source": [
    "**Conclusie modellen voor Delta**  \n",
    "Het beste model wordt (nipt) bereikt met logistische regressie. De accuracy bedraagt hierbij 69% ten opzichte van 68% bij Naïve Bayes. Beide modellen doen het  slechter dan bij de algemene modellen vóór het splitsen op basis van de luchtvaartmaatschappijen."
   ]
  },
  {
   "cell_type": "markdown",
   "metadata": {},
   "source": [
    "##### Modellen voor US Airways\n",
    "De subdataframe wordt gesplitst. Het bag-of-word model wordt opnieuw gegenereerd. Vervolgens worden logistische regressiemodellen en Naïve Bayes opnieuw getraind met cross-validatie en hyperparameter tuning op basis van gridsearch."
   ]
  },
  {
   "cell_type": "code",
   "execution_count": 141,
   "metadata": {},
   "outputs": [],
   "source": [
    "# airways\n",
    "# Splitsen\n",
    "y_airways = airways['airline_sentiment'].values\n",
    "X_airways = airways.text_preprocessed\n",
    "\n",
    "X_airways_train, X_airways_test, y_airways_train, y_airways_test = train_test_split(X_airways, y_airways, test_size=0.25, random_state=0)\n",
    "\n",
    "# Countvectorizer\n",
    "airways_cv = CountVectorizer()\n",
    "X_airways_train_cv = airways_cv.fit_transform(X_airways_train)\n",
    "X_airways_test_cv = airways_cv.transform(X_airways_test)\n",
    "\n",
    "# TfidfTransformer\n",
    "airways_tfidf = TfidfTransformer(use_idf=True)\n",
    "airways_tfidf.fit(X_airways_train_cv)\n",
    "X_airways_train_tf = airways_tfidf.transform(X_airways_train_cv)\n",
    "X_airways_test_tf = airways_tfidf.transform(X_airways_test_cv)\n",
    "\n",
    "# Initiate models\n",
    "clf1 = LogisticRegression(class_weight='balanced', max_iter=25000)\n",
    "clf3 = MultinomialNB()\n",
    "\n",
    "# Initiate grids\n",
    "param1 = {\"C\": np.logspace(-2,3,10)}\n",
    "param3 = {'alpha': np.logspace(-3,2,6)}"
   ]
  },
  {
   "cell_type": "code",
   "execution_count": 142,
   "metadata": {},
   "outputs": [
    {
     "name": "stdout",
     "output_type": "stream",
     "text": [
      "Fitting 8 folds for each of 10 candidates, totalling 80 fits\n",
      "Best parameters:\t{'C': 1.6681005372000592}\n",
      "Best score: \t0.8017399267399268\n",
      "Confusion matrix\n"
     ]
    },
    {
     "data": {
      "image/png": "[encoded data removed]",
      "text/plain": [
       "<Figure size 1440x720 with 2 Axes>"
      ]
     },
     "metadata": {
      "needs_background": "light"
     },
     "output_type": "display_data"
    },
    {
     "name": "stdout",
     "output_type": "stream",
     "text": [
      "              precision    recall  f1-score   support\n",
      "\n",
      "    negative       0.92      0.85      0.88       584\n",
      "     neutral       0.34      0.51      0.41        76\n",
      "    positive       0.62      0.70      0.66        69\n",
      "\n",
      "    accuracy                           0.80       729\n",
      "   macro avg       0.63      0.68      0.65       729\n",
      "weighted avg       0.83      0.80      0.81       729\n",
      "\n"
     ]
    }
   ],
   "source": [
    "# Logistic regression met hyperparametertuning en cross validation (grid search)\n",
    "clf1_gs = GridSearchCV(clf1, param1, cv=8, n_jobs=-1, scoring='accuracy', verbose=1)\n",
    "clf1_gs.fit(X_airways_train_tf, y_airways_train)\n",
    "\n",
    "# Best parameters and score\n",
    "print(f\"Best parameters:\\t{clf1_gs.best_params_}\")\n",
    "print(f\"Best score: \\t{clf1_gs.best_score_}\")\n",
    "\n",
    "# Confusion matrix\n",
    "print(\"Confusion matrix\")\n",
    "clf1_airways_pred = (clf1_gs.predict(X_airways_test_tf))\n",
    "ConfusionMatrixDisplay.from_predictions(y_airways_test, clf1_airways_pred)  \n",
    "plt.show()\n",
    "\n",
    "# Classification report\n",
    "print(classification_report(y_airways_test, clf1_airways_pred))"
   ]
  },
  {
   "cell_type": "code",
   "execution_count": 143,
   "metadata": {},
   "outputs": [
    {
     "name": "stdout",
     "output_type": "stream",
     "text": [
      "Fitting 8 folds for each of 6 candidates, totalling 48 fits\n",
      "Best parameters:\t{'alpha': 0.1}\n",
      "Best score: \t0.7925824175824177\n",
      "Confusion matrix\n"
     ]
    },
    {
     "data": {
      "image/png": "[encoded data removed]",
      "text/plain": [
       "<Figure size 1440x720 with 2 Axes>"
      ]
     },
     "metadata": {
      "needs_background": "light"
     },
     "output_type": "display_data"
    },
    {
     "name": "stdout",
     "output_type": "stream",
     "text": [
      "              precision    recall  f1-score   support\n",
      "\n",
      "    negative       0.84      0.98      0.90       584\n",
      "     neutral       0.47      0.12      0.19        76\n",
      "    positive       0.85      0.32      0.46        69\n",
      "\n",
      "    accuracy                           0.83       729\n",
      "   macro avg       0.72      0.47      0.52       729\n",
      "weighted avg       0.80      0.83      0.79       729\n",
      "\n"
     ]
    }
   ],
   "source": [
    "# Naive Bayes met hyperparametertuning en cross validation (grid search)\n",
    "clf3_gs = GridSearchCV(clf3, param3, cv=8, n_jobs=-1, scoring='accuracy', verbose=1)\n",
    "clf3_gs.fit(X_airways_train_tf, y_airways_train)\n",
    "\n",
    "# Best parameters and score\n",
    "print(f\"Best parameters:\\t{clf3_gs.best_params_}\")\n",
    "print(f\"Best score: \\t{clf3_gs.best_score_}\")\n",
    "\n",
    "# Confusion matrix\n",
    "print(\"Confusion matrix\")\n",
    "clf3_airways_pred = (clf3_gs.predict(X_airways_test_tf))\n",
    "ConfusionMatrixDisplay.from_predictions(y_airways_test, clf3_airways_pred)  \n",
    "plt.show()\n",
    "\n",
    "# Classification report\n",
    "print(classification_report(y_airways_test, clf3_airways_pred))"
   ]
  },
  {
   "cell_type": "markdown",
   "metadata": {},
   "source": [
    "**Conclusie modellen voor US Airways**  \n",
    "Het beste model wordt bereikt met Naïve Bayes. De accuracy bedraagt hierbij 83% ten opzichte van 80% bij logistische regressie. Beide modellen doen het beter dan bij de algemene modellen vóór het splitsen op basis van de luchtvaartmaatschappijen."
   ]
  },
  {
   "cell_type": "markdown",
   "metadata": {},
   "source": [
    "##### Modellen voor American\n",
    "De subdataframe wordt gesplitst. Het bag-of-word model wordt opnieuw gegenereerd. Vervolgens worden logistische regressiemodellen en Naïve Bayes opnieuw getraind met cross-validatie en hyperparameter tuning op basis van gridsearch."
   ]
  },
  {
   "cell_type": "code",
   "execution_count": 144,
   "metadata": {},
   "outputs": [],
   "source": [
    "# america\n",
    "# Splitsen\n",
    "y_america = america['airline_sentiment'].values\n",
    "X_america = america.text_preprocessed\n",
    "\n",
    "X_america_train, X_america_test, y_america_train, y_america_test = train_test_split(X_america, y_america, test_size=0.25, random_state=0)\n",
    "\n",
    "# Countvectorizer\n",
    "america_cv = CountVectorizer()\n",
    "X_america_train_cv = america_cv.fit_transform(X_america_train)\n",
    "X_america_test_cv = america_cv.transform(X_america_test)\n",
    "\n",
    "# TfidfTransformer\n",
    "america_tfidf = TfidfTransformer(use_idf=True)\n",
    "america_tfidf.fit(X_america_train_cv)\n",
    "X_america_train_tf = america_tfidf.transform(X_america_train_cv)\n",
    "X_america_test_tf = america_tfidf.transform(X_america_test_cv)\n",
    "\n",
    "# Initiate models\n",
    "clf1 = LogisticRegression(class_weight='balanced', max_iter=25000)\n",
    "clf3 = MultinomialNB()\n",
    "\n",
    "# Initiate grids\n",
    "param1 = {\"C\": np.logspace(-2,3,10)}\n",
    "param3 = {'alpha': np.logspace(-3,2,6)}"
   ]
  },
  {
   "cell_type": "code",
   "execution_count": 145,
   "metadata": {},
   "outputs": [
    {
     "name": "stdout",
     "output_type": "stream",
     "text": [
      "Fitting 8 folds for each of 10 candidates, totalling 80 fits\n",
      "Best parameters:\t{'C': 5.994842503189409}\n",
      "Best score: \t0.7815446260213702\n",
      "Confusion matrix\n"
     ]
    },
    {
     "data": {
      "image/png": "[encoded data removed]",
      "text/plain": [
       "<Figure size 1440x720 with 2 Axes>"
      ]
     },
     "metadata": {
      "needs_background": "light"
     },
     "output_type": "display_data"
    },
    {
     "name": "stdout",
     "output_type": "stream",
     "text": [
      "              precision    recall  f1-score   support\n",
      "\n",
      "    negative       0.87      0.86      0.86       491\n",
      "     neutral       0.47      0.48      0.47       119\n",
      "    positive       0.67      0.70      0.68        80\n",
      "\n",
      "    accuracy                           0.77       690\n",
      "   macro avg       0.67      0.68      0.67       690\n",
      "weighted avg       0.78      0.77      0.77       690\n",
      "\n"
     ]
    }
   ],
   "source": [
    "# Logistic regression met hyperparametertuning en cross validation (grid search)\n",
    "clf1_gs = GridSearchCV(clf1, param1, cv=8, n_jobs=-1, scoring='accuracy', verbose=1)\n",
    "clf1_gs.fit(X_america_train_tf, y_america_train)\n",
    "\n",
    "# Best parameters and score\n",
    "print(f\"Best parameters:\\t{clf1_gs.best_params_}\")\n",
    "print(f\"Best score: \\t{clf1_gs.best_score_}\")\n",
    "\n",
    "# Confusion matrix\n",
    "print(\"Confusion matrix\")\n",
    "clf1_america_pred = (clf1_gs.predict(X_america_test_tf))\n",
    "ConfusionMatrixDisplay.from_predictions(y_america_test, clf1_america_pred)  \n",
    "plt.show()\n",
    "\n",
    "# Classification report\n",
    "print(classification_report(y_america_test, clf1_america_pred))"
   ]
  },
  {
   "cell_type": "code",
   "execution_count": 146,
   "metadata": {},
   "outputs": [
    {
     "name": "stdout",
     "output_type": "stream",
     "text": [
      "Fitting 8 folds for each of 6 candidates, totalling 48 fits\n",
      "Best parameters:\t{'alpha': 0.1}\n",
      "Best score: \t0.7694733770315165\n",
      "Confusion matrix\n"
     ]
    },
    {
     "data": {
      "image/png": "[encoded data removed]",
      "text/plain": [
       "<Figure size 1440x720 with 2 Axes>"
      ]
     },
     "metadata": {
      "needs_background": "light"
     },
     "output_type": "display_data"
    },
    {
     "name": "stdout",
     "output_type": "stream",
     "text": [
      "              precision    recall  f1-score   support\n",
      "\n",
      "    negative       0.78      0.98      0.87       491\n",
      "     neutral       0.70      0.22      0.33       119\n",
      "    positive       0.80      0.41      0.55        80\n",
      "\n",
      "    accuracy                           0.78       690\n",
      "   macro avg       0.76      0.54      0.58       690\n",
      "weighted avg       0.77      0.78      0.74       690\n",
      "\n"
     ]
    }
   ],
   "source": [
    "# Naive Bayes met hyperparametertuning en cross validation (grid search)\n",
    "clf3_gs = GridSearchCV(clf3, param3, cv=8, n_jobs=-1, scoring='accuracy', verbose=1)\n",
    "clf3_gs.fit(X_america_train_tf, y_america_train)\n",
    "\n",
    "# Best parameters and score\n",
    "print(f\"Best parameters:\\t{clf3_gs.best_params_}\")\n",
    "print(f\"Best score: \\t{clf3_gs.best_score_}\")\n",
    "\n",
    "# Confusion matrix\n",
    "print(\"Confusion matrix\")\n",
    "clf3_america_pred = (clf3_gs.predict(X_america_test_tf))\n",
    "ConfusionMatrixDisplay.from_predictions(y_america_test, clf3_america_pred)  \n",
    "plt.show()\n",
    "\n",
    "# Classification report\n",
    "print(classification_report(y_america_test, clf3_america_pred))"
   ]
  },
  {
   "cell_type": "markdown",
   "metadata": {},
   "source": [
    "**Conclusie modellen voor American**  \n",
    "Het beste model wordt nipt bereikt met Naïve Bayes. De accuracy bedraagt hierbij 78% ten opzichte van 77% bij logistische regressie. Beide modellen doen het ook net (nipt) beter dan bij de algemene modellen vóór het splitsen op basis van de luchtvaartmaatschappijen."
   ]
  },
  {
   "cell_type": "markdown",
   "metadata": {},
   "source": [
    "**Alegemene conclusie over aparte modellen per luchtvaartmaatschappij**  \n",
    "De resultaten variëren. Over het algemeen zijn opgemerkte verbetering minimaal en weinig bruikbaar in de dagdagelijkse praktijk. \n",
    "\n",
    "Volgende modellen deden het beter dan de algemene modellen vóór het splitsen van de dataset:\n",
    "- Naïve Bayes voor 'United'\n",
    "- Logistische regressie voor 'US Airways'\n",
    "- Naïve Bayes voor 'US Airways'\n",
    "- Logistische regressie voor 'American'\n",
    "- Naïve Bayes voor 'American'\n",
    "\n",
    "Alle overige modellen doen het slechter."
   ]
  },
  {
   "cell_type": "markdown",
   "metadata": {},
   "source": [
    "#### Integreren van Tweet length\n",
    "In de volgende modellen wordt nagegaan of de tweet lengte een meerwaarde biedt aan het model. Dit nieuwe feature wordt berekend op basis van de features in de oorspronkelijke train en test set en vervolgens gehecht aan de \"tekst\"-feature. Opnieuw worden slechts logistische regressiemodellen en Naïve Bayesmodellen opgesteld en getraind."
   ]
  },
  {
   "cell_type": "code",
   "execution_count": 151,
   "metadata": {
    "tags": []
   },
   "outputs": [],
   "source": [
    "# Toevoegen tweet length\n",
    "char_length = np.vectorize(len)\n",
    "train_len  = char_length(X_train)\n",
    "test_len  = char_length(X_test)\n",
    "\n",
    "ss = StandardScaler()\n",
    "ss.fit(train_len.reshape(-1, 1))\n",
    "train_len_ss = ss.transform(train_len.reshape(-1, 1))\n",
    "test_len_ss = ss.transform(test_len.reshape(-1, 1))\n",
    "\n",
    "# Geschaalde lengtes voor logistische regressie (convergence warnings vermijden)\n",
    "X_train_len_lr = csr_matrix(np.append(X_train_tf.todense(), train_len_ss.reshape(-1,1), axis=1))\n",
    "X_test_len_lr = csr_matrix(np.append(X_test_tf.todense(), test_len_ss.reshape(-1,1), axis=1))\n",
    "\n",
    "# Geen schaling voor Naïve Bayes (mag geen negatieve waarden hebben\n",
    "# en schaal heeft weinig mathematische waarde bij kansberekeningen\n",
    "X_train_len = csr_matrix(np.append(X_train_tf.todense(), train_len.reshape(-1,1), axis=1))\n",
    "X_test_len = csr_matrix(np.append(X_test_tf.todense(), test_len.reshape(-1,1), axis=1))"
   ]
  },
  {
   "cell_type": "code",
   "execution_count": 148,
   "metadata": {},
   "outputs": [
    {
     "name": "stdout",
     "output_type": "stream",
     "text": [
      "Fitting 8 folds for each of 10 candidates, totalling 80 fits\n",
      "Best parameters:\t{'C': 1.6681005372000592}\n",
      "Best score: \t0.7656357388316151\n",
      "Confusion matrix\n"
     ]
    },
    {
     "data": {
      "image/png": "[encoded data removed]",
      "text/plain": [
       "<Figure size 1440x720 with 2 Axes>"
      ]
     },
     "metadata": {
      "needs_background": "light"
     },
     "output_type": "display_data"
    },
    {
     "name": "stdout",
     "output_type": "stream",
     "text": [
      "              precision    recall  f1-score   support\n",
      "\n",
      "    negative       0.89      0.79      0.84      1915\n",
      "     neutral       0.53      0.68      0.59       628\n",
      "    positive       0.65      0.70      0.68       457\n",
      "\n",
      "    accuracy                           0.76      3000\n",
      "   macro avg       0.69      0.73      0.70      3000\n",
      "weighted avg       0.78      0.76      0.76      3000\n",
      "\n"
     ]
    }
   ],
   "source": [
    "# logistische regressie met tweet length\n",
    "# Logistic regression met hyperparametertuning en cross validation (grid search)\n",
    "clf1_gs = GridSearchCV(clf1, param1, cv=8, n_jobs=-1, scoring='accuracy', verbose=1)\n",
    "clf1_gs.fit(X_train_len_lr, y_train)\n",
    "\n",
    "\n",
    "# Best parameters and score\n",
    "print(f\"Best parameters:\\t{clf1_gs.best_params_}\")\n",
    "print(f\"Best score: \\t{clf1_gs.best_score_}\")\n",
    "\n",
    "# Confusion matrix\n",
    "print(\"Confusion matrix\")\n",
    "clf1_pred = (clf1_gs.predict(X_test_len_lr))\n",
    "ConfusionMatrixDisplay.from_predictions(y_test, clf1_pred)  \n",
    "plt.show()\n",
    "\n",
    "# Classification report\n",
    "print(classification_report(y_test,clf1_pred))"
   ]
  },
  {
   "cell_type": "code",
   "execution_count": 149,
   "metadata": {},
   "outputs": [
    {
     "name": "stdout",
     "output_type": "stream",
     "text": [
      "Fitting 8 folds for each of 6 candidates, totalling 48 fits\n",
      "Best parameters:\t{'alpha': 0.1}\n",
      "Best score: \t0.7407216494845361\n",
      "Confusion matrix\n"
     ]
    },
    {
     "data": {
      "image/png": "[encoded data removed]",
      "text/plain": [
       "<Figure size 1440x720 with 2 Axes>"
      ]
     },
     "metadata": {
      "needs_background": "light"
     },
     "output_type": "display_data"
    },
    {
     "name": "stdout",
     "output_type": "stream",
     "text": [
      "              precision    recall  f1-score   support\n",
      "\n",
      "    negative       0.75      0.97      0.85      1915\n",
      "     neutral       0.67      0.33      0.44       628\n",
      "    positive       0.78      0.40      0.53       457\n",
      "\n",
      "    accuracy                           0.75      3000\n",
      "   macro avg       0.74      0.57      0.61      3000\n",
      "weighted avg       0.74      0.75      0.71      3000\n",
      "\n"
     ]
    }
   ],
   "source": [
    "# Naive Bayes met tweet length\n",
    "clf3_gs = GridSearchCV(clf3, param3, cv=8, n_jobs=-1, scoring='accuracy', verbose=1)\n",
    "clf3_gs.fit(X_train_len, y_train)\n",
    "\n",
    "\n",
    "# Best parameters and score\n",
    "print(f\"Best parameters:\\t{clf3_gs.best_params_}\")\n",
    "print(f\"Best score: \\t{clf3_gs.best_score_}\")\n",
    "\n",
    "# Confusion matrix\n",
    "print(\"Confusion matrix\")\n",
    "clf3_pred = (clf3_gs.predict(X_test_len))\n",
    "ConfusionMatrixDisplay.from_predictions(y_test, clf3_pred)  \n",
    "plt.show()\n",
    "\n",
    "# Classification report\n",
    "print(classification_report(y_test,clf3_pred))"
   ]
  },
  {
   "cell_type": "markdown",
   "metadata": {},
   "source": [
    "**Conclusie in verband met integreren van tweet lengte als feature**  \n",
    "Het toevoegen van deze nieuwe feature heeft geen impact op de accuracy voor het voorspellen van het sentiment van deze twitter berichten. De accuracy blijft voor beide modellen gelijk (76% bij logistische regressie en 75% bij Naïve Bayes)."
   ]
  },
  {
   "cell_type": "markdown",
   "metadata": {},
   "source": [
    "##  Cyber trolls\n",
    "\n",
    "Een cyber troll heeft als bedoeling emotionele reacties uit te lokken door opzettelijk verkeerde, kwetsende en agressieve berichten te plaatsen op forums, newsgroups, social media, etc. Online platformen hebben er een groot belang bij om deze cyber trolls te kunnen detecteren en weren van hun platform. Daarvoor gebruiken ze geavanceerde nlp algoritmes. Ontwerp zelf een cyber troll detector op basis. Je kan daarvoor beroep doen op de dataset 'Cybetrolls.csv'. Om de dataset te evalueren gebruik je een test set van 5000 berichten.\n",
    "\n",
    "Welke woorden worden het meest door cyber trolls gebruikt? Geef een top 10.\n",
    "Welke woorden dragen voor een logistic classifier het meest bij tot klasse 'troll bericht'? Geef ook hier een top 10.\n",
    "\n",
    "Voor het evalueren van de classifier gebruik je de volgende metrics: accuracy, f1 score en de ROC. Formuleer conclusies. Bijvoorbeeld naar de keuze toe van de classifier, interpretatie van de ROC of auROC. Toon enkele verkeerd geclassificeerde berichten en probeer te achterhalen waarom ze verkeerd geclassificeerd werden.\n",
    "\n",
    "\n",
    "\n"
   ]
  },
  {
   "cell_type": "code",
   "execution_count": 78,
   "metadata": {},
   "outputs": [
    {
     "data": {
      "text/html": [
       "<div>\n",
       "<style scoped>\n",
       "    .dataframe tbody tr th:only-of-type {\n",
       "        vertical-align: middle;\n",
       "    }\n",
       "\n",
       "    .dataframe tbody tr th {\n",
       "        vertical-align: top;\n",
       "    }\n",
       "\n",
       "    .dataframe thead th {\n",
       "        text-align: right;\n",
       "    }\n",
       "</style>\n",
       "<table border=\"1\" class=\"dataframe\">\n",
       "  <thead>\n",
       "    <tr style=\"text-align: right;\">\n",
       "      <th></th>\n",
       "      <th>annotation</th>\n",
       "      <th>content</th>\n",
       "    </tr>\n",
       "  </thead>\n",
       "  <tbody>\n",
       "    <tr>\n",
       "      <th>0</th>\n",
       "      <td>1</td>\n",
       "      <td>Get fucking real dude.</td>\n",
       "    </tr>\n",
       "    <tr>\n",
       "      <th>1</th>\n",
       "      <td>1</td>\n",
       "      <td>She is as dirty as they come  and that crook Rengel  the Dems are so fucking corrupt it's a joke. Make Republicans look like  ...</td>\n",
       "    </tr>\n",
       "    <tr>\n",
       "      <th>2</th>\n",
       "      <td>1</td>\n",
       "      <td>why did you fuck it up. I could do it all day too. Let's do it when you have an hour. Ping me later to sched writing a book here.</td>\n",
       "    </tr>\n",
       "    <tr>\n",
       "      <th>3</th>\n",
       "      <td>1</td>\n",
       "      <td>Dude they dont finish enclosing the fucking showers. I hate half assed jobs. Whats the reasononing behind it? Makes no sense.</td>\n",
       "    </tr>\n",
       "    <tr>\n",
       "      <th>4</th>\n",
       "      <td>1</td>\n",
       "      <td>WTF are you talking about Men? No men thats not a menage  that's just gay.</td>\n",
       "    </tr>\n",
       "  </tbody>\n",
       "</table>\n",
       "</div>"
      ],
      "text/plain": [
       "   annotation  \\\n",
       "0           1   \n",
       "1           1   \n",
       "2           1   \n",
       "3           1   \n",
       "4           1   \n",
       "\n",
       "                                                                                                                              content  \n",
       "0                                                                                                              Get fucking real dude.  \n",
       "1   She is as dirty as they come  and that crook Rengel  the Dems are so fucking corrupt it's a joke. Make Republicans look like  ...  \n",
       "2   why did you fuck it up. I could do it all day too. Let's do it when you have an hour. Ping me later to sched writing a book here.  \n",
       "3       Dude they dont finish enclosing the fucking showers. I hate half assed jobs. Whats the reasononing behind it? Makes no sense.  \n",
       "4                                                          WTF are you talking about Men? No men thats not a menage  that's just gay.  "
      ]
     },
     "execution_count": 78,
     "metadata": {},
     "output_type": "execute_result"
    }
   ],
   "source": [
    "troll = pd.read_csv('Cybetrolls.csv')\n",
    "troll.head()"
   ]
  },
  {
   "cell_type": "markdown",
   "metadata": {},
   "source": [
    "### Analyse van de dataset\n",
    "Vooraleer over te gaan tot het trainen van modellen, gebied de regels van de kunst om de dataset te analyseren en te kijken of de data gebalanceerd is en of er ontbrekende waarden zijn.\n",
    "\n",
    "#### Gebalanceerdheid van de dataset\n",
    "De gebalanceerdheid van de dataset wordt nagegaan met een countplot en een weergave van de frequenties."
   ]
  },
  {
   "cell_type": "code",
   "execution_count": 79,
   "metadata": {},
   "outputs": [
    {
     "data": {
      "text/plain": [
       "<AxesSubplot:xlabel='annotation', ylabel='count'>"
      ]
     },
     "execution_count": 79,
     "metadata": {},
     "output_type": "execute_result"
    },
    {
     "data": {
      "image/png": "[encoded data removed]",
      "text/plain": [
       "<Figure size 432x288 with 1 Axes>"
      ]
     },
     "metadata": {
      "needs_background": "light"
     },
     "output_type": "display_data"
    }
   ],
   "source": [
    "# Gebalanceerdheid van de dataset\n",
    "sns.countplot(x=\"annotation\", data=troll)"
   ]
  },
  {
   "cell_type": "code",
   "execution_count": 80,
   "metadata": {},
   "outputs": [
    {
     "data": {
      "text/plain": [
       "0    0.60892\n",
       "1    0.39108\n",
       "Name: annotation, dtype: float64"
      ]
     },
     "execution_count": 80,
     "metadata": {},
     "output_type": "execute_result"
    }
   ],
   "source": [
    "troll['annotation'].value_counts(normalize=True)"
   ]
  },
  {
   "cell_type": "markdown",
   "metadata": {},
   "source": [
    "**Conclusie aangaande gebalanceerdheid**  \n",
    "De dataset is niet gebalanceerd. Er is een overwicht aan klasse \"O\" (61% van de dataset). De overige 39% behoort toe aan klasse \"1\".\n",
    "\n",
    "Klasse \"0\" betreft de niet troll-berichten. Klasse \"1\" zijn de troll-berichten"
   ]
  },
  {
   "cell_type": "markdown",
   "metadata": {},
   "source": [
    "#### Ontbrekende waarden\n",
    "Er wordt gecontroleerd op ontbrekende waarden, hoewel dit niet verwacht wordt. Ontbrekende waarden in deze dataset zou betekenen dat er tekst zonder annotaties of annotaties zonder tekst zouden zijn."
   ]
  },
  {
   "cell_type": "code",
   "execution_count": 81,
   "metadata": {},
   "outputs": [
    {
     "name": "stdout",
     "output_type": "stream",
     "text": [
      "Er zijn geen ontbrekende waarden\n"
     ]
    }
   ],
   "source": [
    "ismissing(troll)"
   ]
  },
  {
   "cell_type": "markdown",
   "metadata": {},
   "source": [
    "**Conclusie aangaande ontbrekende waarden**  \n",
    "Er zijn geen ontbrekende waarden in deze dataset."
   ]
  },
  {
   "cell_type": "markdown",
   "metadata": {},
   "source": [
    "### Preprocessing\n",
    "Volgende stappen zullen worden uitgevoerd in de preprocessing:\n",
    "\n",
    "- Splitsen van de dataset in feature en target\n",
    "- Opkuisen van de tekst\n",
    "- Splitsen van de dataset in training en test set\n",
    "- Bag-of-words model"
   ]
  },
  {
   "cell_type": "code",
   "execution_count": 82,
   "metadata": {},
   "outputs": [],
   "source": [
    "# Splitsen van de dataset in feature en target\n",
    "y_troll = troll.annotation.values\n",
    "X_troll = troll.content.values"
   ]
  },
  {
   "cell_type": "code",
   "execution_count": 83,
   "metadata": {},
   "outputs": [],
   "source": [
    "# Opkuisen van de tekst\n",
    "language = 'english'\n",
    "minwordlength = 2\n",
    "\n",
    "import warnings\n",
    "warnings.filterwarnings(\"ignore\", category=UserWarning, module='bs4')\n",
    "\n",
    "for i in range(X_troll.size):\n",
    "    X_troll[i] = text_preprocessing(X_troll[i], language = language, minwordlength = minwordlength)"
   ]
  },
  {
   "cell_type": "code",
   "execution_count": 84,
   "metadata": {},
   "outputs": [
    {
     "name": "stdout",
     "output_type": "stream",
     "text": [
      " http twitpic com vk dick whittington lolcat nice space trousr boss twitpanto \n"
     ]
    }
   ],
   "source": [
    "print(X_troll[3564])"
   ]
  },
  {
   "cell_type": "code",
   "execution_count": 85,
   "metadata": {},
   "outputs": [],
   "source": [
    "# splitsen in training en testset\n",
    "X_troll_train, X_troll_test, y_troll_train, y_troll_test = train_test_split(X_troll, y_troll, test_size=5000, random_state=0)"
   ]
  },
  {
   "cell_type": "code",
   "execution_count": 86,
   "metadata": {},
   "outputs": [],
   "source": [
    "# Bag-of-words model\n",
    "troll_cv = CountVectorizer()\n",
    "troll_cv.fit(X_troll_train)\n",
    "X_troll_train_bag_of_words = troll_cv.transform(X_troll_train)\n",
    "X_troll_test_bag_of_words = troll_cv.transform(X_troll_test)\n",
    "\n",
    "troll_tfidf = TfidfTransformer(use_idf=True)\n",
    "troll_tfidf.fit(X_troll_train_bag_of_words)\n",
    "X_troll_train_tf = troll_tfidf.transform(X_troll_train_bag_of_words)\n",
    "X_troll_test_tf = troll_tfidf.transform(X_troll_test_bag_of_words)"
   ]
  },
  {
   "cell_type": "markdown",
   "metadata": {},
   "source": [
    "### Trainen van classifiers\n",
    "Volgende modellen worden getraind door middel van cross-validatie en hyperparameter tuning via Grid Search\n",
    "- Logistische regressie\n",
    "- Support Vector Machine\n",
    "- Naïve Bayes"
   ]
  },
  {
   "cell_type": "code",
   "execution_count": 67,
   "metadata": {},
   "outputs": [],
   "source": [
    "# Trainen van de classifiers (naive bayes, logistic regression, SVM)\n",
    "# Initiate models\n",
    "clf1_troll = LogisticRegression(class_weight='balanced', max_iter=25000)\n",
    "clf2_troll = SVC(class_weight='balanced')\n",
    "clf3_troll = MultinomialNB()"
   ]
  },
  {
   "cell_type": "code",
   "execution_count": 68,
   "metadata": {},
   "outputs": [],
   "source": [
    "# Initiate grids\n",
    "param1 = {\"C\": np.logspace(-2,3,10)}\n",
    "\n",
    "param2 =[\n",
    "    {'kernel': ['linear'], 'C':np.logspace(-3,3,7)},\n",
    "    {'kernel': ['rbf'], 'C': np.logspace(-3,3,7), 'gamma': [0.0001, 0.001, 0.01, 0.1, 0.2]},\n",
    "    {'kernel': ['poly'], 'C': np.logspace(-3,3,7)}\n",
    "]\n",
    "\n",
    "param3 = {}\n",
    "param3['alpha'] = np.logspace(-3,2,6)"
   ]
  },
  {
   "cell_type": "code",
   "execution_count": 69,
   "metadata": {},
   "outputs": [
    {
     "name": "stdout",
     "output_type": "stream",
     "text": [
      "Fitting 8 folds for each of 10 candidates, totalling 80 fits\n",
      "Best parameters:\t{'C': 77.42636826811278}\n",
      "Best score: \t0.8460781094527363\n",
      "Confusion matrix\n"
     ]
    },
    {
     "data": {
      "image/png": "[encoded data removed]",
      "text/plain": [
       "<Figure size 432x288 with 2 Axes>"
      ]
     },
     "metadata": {
      "needs_background": "light"
     },
     "output_type": "display_data"
    },
    {
     "name": "stdout",
     "output_type": "stream",
     "text": [
      "              precision    recall  f1-score   support\n",
      "\n",
      "           0       0.95      0.79      0.86      3053\n",
      "           1       0.74      0.93      0.83      1947\n",
      "\n",
      "    accuracy                           0.85      5000\n",
      "   macro avg       0.85      0.86      0.85      5000\n",
      "weighted avg       0.87      0.85      0.85      5000\n",
      "\n"
     ]
    },
    {
     "data": {
      "image/png": "[encoded data removed]",
      "text/plain": [
       "<Figure size 432x288 with 1 Axes>"
      ]
     },
     "metadata": {
      "needs_background": "light"
     },
     "output_type": "display_data"
    },
    {
     "name": "stdout",
     "output_type": "stream",
     "text": [
      "Berekeningstijd zonder metrics: 17.236s\n",
      "Berekeningstijd per fit: 0.215s\n"
     ]
    }
   ],
   "source": [
    "# Logistic regression met hyperparametertuning en cross validation (grid search)\n",
    "metrix_columns = ['Classifier', 'Accuracy', 'F1-score', 'Berekeningstijd', 'Berekeningstijd per fit']\n",
    "metrix_arr_troll = []\n",
    "\n",
    "start_clf1_troll = timeit.default_timer()\n",
    "\n",
    "clf1_gs_troll = GridSearchCV(clf1_troll, param1, cv=8, n_jobs=-1, scoring='accuracy', verbose=1)\n",
    "clf1_gs_troll.fit(X_troll_train_tf, y_troll_train)\n",
    "\n",
    "stop_clf1_troll = timeit.default_timer()\n",
    "diff_clf1_troll = stop_clf1_troll - start_clf1_troll\n",
    "diff_fit_clf1_troll = diff_clf1_troll / (len(ParameterGrid(param1)) * 8)\n",
    "\n",
    "# Best parameters and score\n",
    "print(f\"Best parameters:\\t{clf1_gs_troll.best_params_}\")\n",
    "print(f\"Best score: \\t{clf1_gs_troll.best_score_}\")\n",
    "\n",
    "# Confusion matrix\n",
    "print(\"Confusion matrix\")\n",
    "clf1_pred_troll = (clf1_gs_troll.predict(X_troll_test_tf))\n",
    "ConfusionMatrixDisplay.from_predictions(y_troll_test, clf1_pred_troll)  \n",
    "plt.show()\n",
    "\n",
    "# Classification report\n",
    "print(classification_report(y_troll_test, clf1_pred_troll))\n",
    "clf1_accuracy_troll = accuracy_score(y_troll_test, clf1_pred_troll)\n",
    "clf1_f1_troll = f1_score(y_troll_test, clf1_pred_troll)\n",
    "\n",
    "# ROC curve\n",
    "clf1_probs_troll = clf1_gs_troll.predict_proba(X_troll_test_tf)\n",
    "clf1_preds_troll = clf1_probs_troll[:,1]\n",
    "clf1_fpr_troll, clf1_tpr_troll, clf1_threshold_troll = roc_curve(y_troll_test, clf1_preds_troll)\n",
    "clf1_roc_auc_troll = auc(clf1_fpr_troll, clf1_tpr_troll)\n",
    "\n",
    "plt.title('Receiver Operating Characteristic')\n",
    "plt.plot(clf1_fpr_troll, clf1_tpr_troll, 'b', label = 'AUC = %0.2f' % clf1_roc_auc_troll)\n",
    "plt.legend(loc = 'lower right')\n",
    "plt.plot([0, 1], [0, 1],'r--')\n",
    "plt.xlim([0, 1])\n",
    "plt.ylim([0, 1])\n",
    "plt.ylabel('True Positive Rate')\n",
    "plt.xlabel('False Positive Rate')\n",
    "plt.show()\n",
    "\n",
    "print(f'Berekeningstijd zonder metrics: {diff_clf1_troll:.3f}s') # On Amazon SageMaker Studio Lab\n",
    "print(f'Berekeningstijd per fit: {diff_fit_clf1_troll:.3f}s') # On Amazon SageMaker Studio Lab\n",
    "\n",
    "metrix_row_clf1_troll = ['Logistische Regressie', round(clf1_accuracy_troll, 2), round(clf1_f1_troll, 2), round(diff_clf1_troll, 3), round(diff_fit_clf1_troll, 3)]"
   ]
  },
  {
   "cell_type": "code",
   "execution_count": 70,
   "metadata": {},
   "outputs": [
    {
     "name": "stdout",
     "output_type": "stream",
     "text": [
      "Fitting 8 folds for each of 49 candidates, totalling 392 fits\n",
      "Best parameters:\t{'C': 10.0, 'kernel': 'poly'}\n",
      "Best score: \t0.9308047263681591\n",
      "Confusion matrix\n"
     ]
    },
    {
     "data": {
      "image/png": "[encoded data removed]",
      "text/plain": [
       "<Figure size 432x288 with 2 Axes>"
      ]
     },
     "metadata": {
      "needs_background": "light"
     },
     "output_type": "display_data"
    },
    {
     "name": "stdout",
     "output_type": "stream",
     "text": [
      "              precision    recall  f1-score   support\n",
      "\n",
      "           0       0.94      0.97      0.96      3053\n",
      "           1       0.95      0.91      0.93      1947\n",
      "\n",
      "    accuracy                           0.95      5000\n",
      "   macro avg       0.95      0.94      0.94      5000\n",
      "weighted avg       0.95      0.95      0.95      5000\n",
      "\n"
     ]
    },
    {
     "data": {
      "image/png": "[encoded data removed]",
      "text/plain": [
       "<Figure size 432x288 with 1 Axes>"
      ]
     },
     "metadata": {
      "needs_background": "light"
     },
     "output_type": "display_data"
    },
    {
     "name": "stdout",
     "output_type": "stream",
     "text": [
      "Berekeningstijd zonder metrics: 1919.772s\n",
      "Berekeningstijd per fit: 23.997s\n"
     ]
    }
   ],
   "source": [
    "# Support Vector Machine\n",
    "start_clf2_troll = timeit.default_timer()\n",
    "\n",
    "clf2_gs_troll = GridSearchCV(clf2_troll, param2, cv=8, n_jobs=-1, scoring='accuracy', verbose=1)\n",
    "clf2_gs_troll.fit(X_troll_train_tf, y_troll_train)\n",
    "\n",
    "stop_clf2_troll = timeit.default_timer()\n",
    "diff_clf2_troll = stop_clf2_troll - start_clf2_troll\n",
    "diff_fit_clf2_troll = diff_clf2_troll / (len(ParameterGrid(param1)) * 8)\n",
    "\n",
    "# Best parameters and score\n",
    "print(f\"Best parameters:\\t{clf2_gs_troll.best_params_}\")\n",
    "print(f\"Best score: \\t{clf2_gs_troll.best_score_}\")\n",
    "\n",
    "# Confusion matrix\n",
    "print(\"Confusion matrix\")\n",
    "clf2_pred_troll = (clf2_gs_troll.predict(X_troll_test_tf))\n",
    "ConfusionMatrixDisplay.from_predictions(y_troll_test, clf2_pred_troll)  \n",
    "plt.show()\n",
    "\n",
    "# Classification report\n",
    "print(classification_report(y_troll_test, clf2_pred_troll))\n",
    "clf2_accuracy_troll = accuracy_score(y_troll_test, clf2_pred_troll)\n",
    "clf2_f1_troll = f1_score(y_troll_test, clf2_pred_troll)\n",
    "\n",
    "# ROC curve\n",
    "clf2_preds_troll = clf2_gs_troll.decision_function(X_troll_test_tf)\n",
    "clf2_fpr_troll, clf2_tpr_troll, clf2_threshold_troll = roc_curve(y_troll_test, clf2_preds_troll)\n",
    "clf2_roc_auc_troll = auc(clf2_fpr_troll, clf2_tpr_troll)\n",
    "\n",
    "plt.title('Receiver Operating Characteristic')\n",
    "plt.plot(clf2_fpr_troll, clf2_tpr_troll, 'b', label = 'AUC = %0.2f' % clf2_roc_auc_troll)\n",
    "plt.legend(loc = 'lower right')\n",
    "plt.plot([0, 1], [0, 1],'r--')\n",
    "plt.xlim([0, 1])\n",
    "plt.ylim([0, 1])\n",
    "plt.ylabel('True Positive Rate')\n",
    "plt.xlabel('False Positive Rate')\n",
    "plt.show()\n",
    "\n",
    "print(f'Berekeningstijd zonder metrics: {diff_clf2_troll:.3f}s') # On Amazon SageMaker Studio Lab\n",
    "print(f'Berekeningstijd per fit: {diff_fit_clf2_troll:.3f}s') # On Amazon SageMaker Studio Lab\n",
    "\n",
    "metrix_row_clf2_troll = ['Support Vector Machine', round(clf2_accuracy_troll, 2), round(clf2_f1_troll, 2), round(diff_clf2_troll, 3), round(diff_fit_clf2_troll, 3)]"
   ]
  },
  {
   "cell_type": "code",
   "execution_count": 71,
   "metadata": {},
   "outputs": [
    {
     "name": "stdout",
     "output_type": "stream",
     "text": [
      "Fitting 8 folds for each of 6 candidates, totalling 48 fits\n",
      "Best parameters:\t{'alpha': 0.001}\n",
      "Best score: \t0.7842822316986495\n",
      "Confusion matrix\n"
     ]
    },
    {
     "data": {
      "image/png": "[encoded data removed]",
      "text/plain": [
       "<Figure size 432x288 with 2 Axes>"
      ]
     },
     "metadata": {
      "needs_background": "light"
     },
     "output_type": "display_data"
    },
    {
     "name": "stdout",
     "output_type": "stream",
     "text": [
      "              precision    recall  f1-score   support\n",
      "\n",
      "           0       0.85      0.83      0.84      3053\n",
      "           1       0.75      0.77      0.76      1947\n",
      "\n",
      "    accuracy                           0.81      5000\n",
      "   macro avg       0.80      0.80      0.80      5000\n",
      "weighted avg       0.81      0.81      0.81      5000\n",
      "\n"
     ]
    },
    {
     "data": {
      "image/png": "[encoded data removed]",
      "text/plain": [
       "<Figure size 432x288 with 1 Axes>"
      ]
     },
     "metadata": {
      "needs_background": "light"
     },
     "output_type": "display_data"
    },
    {
     "name": "stdout",
     "output_type": "stream",
     "text": [
      "Berekeningstijd zonder metrics: 0.185s\n",
      "Berekeningstijd per fit: 0.002s\n"
     ]
    }
   ],
   "source": [
    "# Naive Bayes met hyperparametertuning en cross validation (grid search)\n",
    "start_clf3_troll = timeit.default_timer()\n",
    "\n",
    "clf3_gs_troll = GridSearchCV(clf3_troll, param3, cv=8, n_jobs=-1, scoring='accuracy', verbose=1)\n",
    "clf3_gs_troll.fit(X_troll_train_tf, y_troll_train)\n",
    "\n",
    "stop_clf3_troll = timeit.default_timer()\n",
    "diff_clf3_troll = stop_clf3_troll - start_clf3_troll\n",
    "diff_fit_clf3_troll = diff_clf3_troll / (len(ParameterGrid(param1)) * 8)\n",
    "\n",
    "# Best parameters and score\n",
    "print(f\"Best parameters:\\t{clf3_gs_troll.best_params_}\")\n",
    "print(f\"Best score: \\t{clf3_gs_troll.best_score_}\")\n",
    "\n",
    "# Confusion matrix\n",
    "print(\"Confusion matrix\")\n",
    "clf3_pred_troll = (clf3_gs_troll.predict(X_troll_test_tf))\n",
    "ConfusionMatrixDisplay.from_predictions(y_troll_test, clf3_pred_troll)  \n",
    "plt.show()\n",
    "\n",
    "# Classification report\n",
    "print(classification_report(y_troll_test, clf3_pred_troll))\n",
    "clf3_accuracy_troll = accuracy_score(y_troll_test, clf3_pred_troll)\n",
    "clf3_f1_troll = f1_score(y_troll_test, clf3_pred_troll)\n",
    "\n",
    "# ROC curve\n",
    "clf3_probs_troll = clf3_gs_troll.predict_proba(X_troll_test_tf)\n",
    "clf3_preds_troll = clf3_probs_troll[:,1]\n",
    "clf3_fpr_troll, clf3_tpr_troll, clf3_threshold_troll = roc_curve(y_troll_test, clf3_preds_troll)\n",
    "clf3_roc_auc_troll = auc(clf3_fpr_troll, clf3_tpr_troll)\n",
    "\n",
    "plt.title('Receiver Operating Characteristic')\n",
    "plt.plot(clf3_fpr_troll, clf3_tpr_troll, 'b', label = 'AUC = %0.2f' % clf3_roc_auc_troll)\n",
    "plt.legend(loc = 'lower right')\n",
    "plt.plot([0, 1], [0, 1],'r--')\n",
    "plt.xlim([0, 1])\n",
    "plt.ylim([0, 1])\n",
    "plt.ylabel('True Positive Rate')\n",
    "plt.xlabel('False Positive Rate')\n",
    "plt.show()\n",
    "\n",
    "print(f'Berekeningstijd zonder metrics: {diff_clf3_troll:.3f}s') # On Amazon SageMaker Studio Lab\n",
    "print(f'Berekeningstijd per fit: {diff_fit_clf3_troll:.3f}s') # On Amazon SageMaker Studio Lab\n",
    "\n",
    "metrix_row_clf3_troll = ['Naïve Bayes', round(clf3_accuracy_troll, 2), round(clf3_f1_troll, 2), round(diff_clf3_troll, 3), round(diff_fit_clf3_troll, 3)]"
   ]
  },
  {
   "cell_type": "markdown",
   "metadata": {},
   "source": [
    "Welke classifier heeft jouw voorkeur? Beargumenteer in termen van accuracy, f1-score maar ook de berekeningstijd.\n"
   ]
  },
  {
   "cell_type": "code",
   "execution_count": 72,
   "metadata": {},
   "outputs": [
    {
     "data": {
      "text/html": [
       "<div>\n",
       "<style scoped>\n",
       "    .dataframe tbody tr th:only-of-type {\n",
       "        vertical-align: middle;\n",
       "    }\n",
       "\n",
       "    .dataframe tbody tr th {\n",
       "        vertical-align: top;\n",
       "    }\n",
       "\n",
       "    .dataframe thead th {\n",
       "        text-align: right;\n",
       "    }\n",
       "</style>\n",
       "<table border=\"1\" class=\"dataframe\">\n",
       "  <thead>\n",
       "    <tr style=\"text-align: right;\">\n",
       "      <th></th>\n",
       "      <th>Classifier</th>\n",
       "      <th>Accuracy</th>\n",
       "      <th>F1-score</th>\n",
       "      <th>Berekeningstijd</th>\n",
       "      <th>Berekeningstijd per fit</th>\n",
       "    </tr>\n",
       "  </thead>\n",
       "  <tbody>\n",
       "    <tr>\n",
       "      <th>0</th>\n",
       "      <td>Logistische Regressie</td>\n",
       "      <td>0.85</td>\n",
       "      <td>0.83</td>\n",
       "      <td>17.236</td>\n",
       "      <td>0.215</td>\n",
       "    </tr>\n",
       "    <tr>\n",
       "      <th>1</th>\n",
       "      <td>Support Vector Machine</td>\n",
       "      <td>0.95</td>\n",
       "      <td>0.93</td>\n",
       "      <td>1919.772</td>\n",
       "      <td>23.997</td>\n",
       "    </tr>\n",
       "    <tr>\n",
       "      <th>2</th>\n",
       "      <td>Naïve Bayes</td>\n",
       "      <td>0.81</td>\n",
       "      <td>0.76</td>\n",
       "      <td>0.185</td>\n",
       "      <td>0.002</td>\n",
       "    </tr>\n",
       "  </tbody>\n",
       "</table>\n",
       "</div>"
      ],
      "text/plain": [
       "               Classifier  Accuracy  F1-score  Berekeningstijd  \\\n",
       "0   Logistische Regressie      0.85      0.83           17.236   \n",
       "1  Support Vector Machine      0.95      0.93         1919.772   \n",
       "2             Naïve Bayes      0.81      0.76            0.185   \n",
       "\n",
       "   Berekeningstijd per fit  \n",
       "0                    0.215  \n",
       "1                   23.997  \n",
       "2                    0.002  "
      ]
     },
     "execution_count": 72,
     "metadata": {},
     "output_type": "execute_result"
    }
   ],
   "source": [
    "# Antwoord\n",
    "metrix_arr_troll = []\n",
    "metrix_arr_troll.append(metrix_row_clf1_troll)\n",
    "metrix_arr_troll.append(metrix_row_clf2_troll)\n",
    "metrix_arr_troll.append(metrix_row_clf3_troll)\n",
    "metrix_df_troll = pd.DataFrame(metrix_arr_troll, columns=metrix_columns)\n",
    "metrix_df_troll"
   ]
  },
  {
   "cell_type": "code",
   "execution_count": 74,
   "metadata": {},
   "outputs": [
    {
     "data": {
      "text/html": [
       "<style type=\"text/css\">\n",
       "#T_ae45b_row1_col1, #T_ae45b_row1_col2 {\n",
       "  background-color: green;\n",
       "}\n",
       "</style>\n",
       "<table id=\"T_ae45b_\">\n",
       "  <thead>\n",
       "    <tr>\n",
       "      <th class=\"blank level0\" >&nbsp;</th>\n",
       "      <th class=\"col_heading level0 col0\" >Classifier</th>\n",
       "      <th class=\"col_heading level0 col1\" >Accuracy</th>\n",
       "      <th class=\"col_heading level0 col2\" >F1-score</th>\n",
       "      <th class=\"col_heading level0 col3\" >Berekeningstijd</th>\n",
       "      <th class=\"col_heading level0 col4\" >Berekeningstijd per fit</th>\n",
       "    </tr>\n",
       "  </thead>\n",
       "  <tbody>\n",
       "    <tr>\n",
       "      <th id=\"T_ae45b_level0_row0\" class=\"row_heading level0 row0\" >0</th>\n",
       "      <td id=\"T_ae45b_row0_col0\" class=\"data row0 col0\" >Logistische Regressie</td>\n",
       "      <td id=\"T_ae45b_row0_col1\" class=\"data row0 col1\" >0.850000</td>\n",
       "      <td id=\"T_ae45b_row0_col2\" class=\"data row0 col2\" >0.830000</td>\n",
       "      <td id=\"T_ae45b_row0_col3\" class=\"data row0 col3\" >17.236000</td>\n",
       "      <td id=\"T_ae45b_row0_col4\" class=\"data row0 col4\" >0.215000</td>\n",
       "    </tr>\n",
       "    <tr>\n",
       "      <th id=\"T_ae45b_level0_row1\" class=\"row_heading level0 row1\" >1</th>\n",
       "      <td id=\"T_ae45b_row1_col0\" class=\"data row1 col0\" >Support Vector Machine</td>\n",
       "      <td id=\"T_ae45b_row1_col1\" class=\"data row1 col1\" >0.950000</td>\n",
       "      <td id=\"T_ae45b_row1_col2\" class=\"data row1 col2\" >0.930000</td>\n",
       "      <td id=\"T_ae45b_row1_col3\" class=\"data row1 col3\" >1919.772000</td>\n",
       "      <td id=\"T_ae45b_row1_col4\" class=\"data row1 col4\" >23.997000</td>\n",
       "    </tr>\n",
       "    <tr>\n",
       "      <th id=\"T_ae45b_level0_row2\" class=\"row_heading level0 row2\" >2</th>\n",
       "      <td id=\"T_ae45b_row2_col0\" class=\"data row2 col0\" >Naïve Bayes</td>\n",
       "      <td id=\"T_ae45b_row2_col1\" class=\"data row2 col1\" >0.810000</td>\n",
       "      <td id=\"T_ae45b_row2_col2\" class=\"data row2 col2\" >0.760000</td>\n",
       "      <td id=\"T_ae45b_row2_col3\" class=\"data row2 col3\" >0.185000</td>\n",
       "      <td id=\"T_ae45b_row2_col4\" class=\"data row2 col4\" >0.002000</td>\n",
       "    </tr>\n",
       "  </tbody>\n",
       "</table>\n"
      ],
      "text/plain": [
       "<pandas.io.formats.style.Styler at 0x7fc1d77c1880>"
      ]
     },
     "execution_count": 74,
     "metadata": {},
     "output_type": "execute_result"
    }
   ],
   "source": [
    "metrix_df_troll.style.highlight_max(subset = ['Accuracy', 'F1-score'], color = 'green', axis = 0)\n"
   ]
  },
  {
   "cell_type": "code",
   "execution_count": 75,
   "metadata": {},
   "outputs": [
    {
     "data": {
      "text/html": [
       "<style type=\"text/css\">\n",
       "#T_742a6_row2_col3, #T_742a6_row2_col4 {\n",
       "  background-color: green;\n",
       "}\n",
       "</style>\n",
       "<table id=\"T_742a6_\">\n",
       "  <thead>\n",
       "    <tr>\n",
       "      <th class=\"blank level0\" >&nbsp;</th>\n",
       "      <th class=\"col_heading level0 col0\" >Classifier</th>\n",
       "      <th class=\"col_heading level0 col1\" >Accuracy</th>\n",
       "      <th class=\"col_heading level0 col2\" >F1-score</th>\n",
       "      <th class=\"col_heading level0 col3\" >Berekeningstijd</th>\n",
       "      <th class=\"col_heading level0 col4\" >Berekeningstijd per fit</th>\n",
       "    </tr>\n",
       "  </thead>\n",
       "  <tbody>\n",
       "    <tr>\n",
       "      <th id=\"T_742a6_level0_row0\" class=\"row_heading level0 row0\" >0</th>\n",
       "      <td id=\"T_742a6_row0_col0\" class=\"data row0 col0\" >Logistische Regressie</td>\n",
       "      <td id=\"T_742a6_row0_col1\" class=\"data row0 col1\" >0.850000</td>\n",
       "      <td id=\"T_742a6_row0_col2\" class=\"data row0 col2\" >0.830000</td>\n",
       "      <td id=\"T_742a6_row0_col3\" class=\"data row0 col3\" >17.236000</td>\n",
       "      <td id=\"T_742a6_row0_col4\" class=\"data row0 col4\" >0.215000</td>\n",
       "    </tr>\n",
       "    <tr>\n",
       "      <th id=\"T_742a6_level0_row1\" class=\"row_heading level0 row1\" >1</th>\n",
       "      <td id=\"T_742a6_row1_col0\" class=\"data row1 col0\" >Support Vector Machine</td>\n",
       "      <td id=\"T_742a6_row1_col1\" class=\"data row1 col1\" >0.950000</td>\n",
       "      <td id=\"T_742a6_row1_col2\" class=\"data row1 col2\" >0.930000</td>\n",
       "      <td id=\"T_742a6_row1_col3\" class=\"data row1 col3\" >1919.772000</td>\n",
       "      <td id=\"T_742a6_row1_col4\" class=\"data row1 col4\" >23.997000</td>\n",
       "    </tr>\n",
       "    <tr>\n",
       "      <th id=\"T_742a6_level0_row2\" class=\"row_heading level0 row2\" >2</th>\n",
       "      <td id=\"T_742a6_row2_col0\" class=\"data row2 col0\" >Naïve Bayes</td>\n",
       "      <td id=\"T_742a6_row2_col1\" class=\"data row2 col1\" >0.810000</td>\n",
       "      <td id=\"T_742a6_row2_col2\" class=\"data row2 col2\" >0.760000</td>\n",
       "      <td id=\"T_742a6_row2_col3\" class=\"data row2 col3\" >0.185000</td>\n",
       "      <td id=\"T_742a6_row2_col4\" class=\"data row2 col4\" >0.002000</td>\n",
       "    </tr>\n",
       "  </tbody>\n",
       "</table>\n"
      ],
      "text/plain": [
       "<pandas.io.formats.style.Styler at 0x7fc22beba520>"
      ]
     },
     "execution_count": 75,
     "metadata": {},
     "output_type": "execute_result"
    }
   ],
   "source": [
    "metrix_df_troll.style.highlight_min(subset = ['Berekeningstijd', 'Berekeningstijd per fit'], color = 'green', axis = 0)"
   ]
  },
  {
   "cell_type": "markdown",
   "metadata": {},
   "source": [
    "**Conclusie over getrainde modellen**  \n",
    "In de geteste modellen is SVM het beste met betrekking tot de evaluatieparameters. De accuracy is 95% en de F1 score bedraagt 0,93. Dit is vele male hoger dan bij logistische regressie (accuracy 85% en F1-score 0, 83) en Naïve Bayes (accuracy 81% en F1-score 0, 76). Hiertegenover staat wederom een véél langere berekentijd. SVM doet er 111x langer over dan logistische regressie en 12000x langer dan Naïve Bayes. Gegeven de veel betere accuracy lijkt het deze langere berekeningstijd waard. De voorkeur naar model gaat in deze dataset uit naar SVM."
   ]
  },
  {
   "cell_type": "markdown",
   "metadata": {},
   "source": [
    "### Bijkomende analysis\n",
    "- Welke woorden worden het meest door cyber trolls gebruikt? Geef een top 10.\n",
    "- Welke woorden dragen voor een logistic classifier het meest bij tot klasse 'troll bericht'? Geef ook hier een top 10.\n",
    "- Toon enkele verkeerd geclassificeerde berichten en probeer te achterhalen waarom ze verkeerd geclassificeerd werden."
   ]
  },
  {
   "cell_type": "markdown",
   "metadata": {},
   "source": [
    "#### Top 10 woorden gebruikt door cybertrolls\n",
    "Voor het zoeken naar de 10 meest gebruikte woorden in troll berichten, zal een subset van de data met enkel troll berichten worden afgeleid. De tekst in deze nieuwe dataframe is nog steeds opgekuist, bijgevolg kan onmiddellijk worden overgegaan op het creëren van een bag-of-words model. De frequentie van de meest gebruikte woorden zal hiervan worden berekend en de 10 woorden met de hoogste frequenties zullen worden weergegeven in een Pandas Dataframe."
   ]
  },
  {
   "cell_type": "code",
   "execution_count": 102,
   "metadata": {},
   "outputs": [
    {
     "data": {
      "text/html": [
       "<div>\n",
       "<style scoped>\n",
       "    .dataframe tbody tr th:only-of-type {\n",
       "        vertical-align: middle;\n",
       "    }\n",
       "\n",
       "    .dataframe tbody tr th {\n",
       "        vertical-align: top;\n",
       "    }\n",
       "\n",
       "    .dataframe thead th {\n",
       "        text-align: right;\n",
       "    }\n",
       "</style>\n",
       "<table border=\"1\" class=\"dataframe\">\n",
       "  <thead>\n",
       "    <tr style=\"text-align: right;\">\n",
       "      <th></th>\n",
       "      <th>annotation</th>\n",
       "      <th>content</th>\n",
       "    </tr>\n",
       "  </thead>\n",
       "  <tbody>\n",
       "    <tr>\n",
       "      <th>0</th>\n",
       "      <td>1</td>\n",
       "      <td>get fuck real dude</td>\n",
       "    </tr>\n",
       "    <tr>\n",
       "      <th>1</th>\n",
       "      <td>1</td>\n",
       "      <td>dirti come crook rengel dem fuck corrupt joke make republican look like</td>\n",
       "    </tr>\n",
       "    <tr>\n",
       "      <th>2</th>\n",
       "      <td>1</td>\n",
       "      <td>fuck could day let hour ping later sched write book</td>\n",
       "    </tr>\n",
       "    <tr>\n",
       "      <th>3</th>\n",
       "      <td>1</td>\n",
       "      <td>dude dont finish enclos fuck shower hate half ass job what reasonon behind make sens</td>\n",
       "    </tr>\n",
       "    <tr>\n",
       "      <th>4</th>\n",
       "      <td>1</td>\n",
       "      <td>wtf talk men men that menag that gay</td>\n",
       "    </tr>\n",
       "  </tbody>\n",
       "</table>\n",
       "</div>"
      ],
      "text/plain": [
       "   annotation  \\\n",
       "0           1   \n",
       "1           1   \n",
       "2           1   \n",
       "3           1   \n",
       "4           1   \n",
       "\n",
       "                                                                                  content  \n",
       "0                                                                     get fuck real dude   \n",
       "1                dirti come crook rengel dem fuck corrupt joke make republican look like   \n",
       "2                                    fuck could day let hour ping later sched write book   \n",
       "3   dude dont finish enclos fuck shower hate half ass job what reasonon behind make sens   \n",
       "4                                                   wtf talk men men that menag that gay   "
      ]
     },
     "execution_count": 102,
     "metadata": {},
     "output_type": "execute_result"
    }
   ],
   "source": [
    "troll1 = troll[troll['annotation'] == 1]\n",
    "troll1.head()"
   ]
  },
  {
   "cell_type": "code",
   "execution_count": 103,
   "metadata": {},
   "outputs": [
    {
     "data": {
      "text/html": [
       "<div>\n",
       "<style scoped>\n",
       "    .dataframe tbody tr th:only-of-type {\n",
       "        vertical-align: middle;\n",
       "    }\n",
       "\n",
       "    .dataframe tbody tr th {\n",
       "        vertical-align: top;\n",
       "    }\n",
       "\n",
       "    .dataframe thead th {\n",
       "        text-align: right;\n",
       "    }\n",
       "</style>\n",
       "<table border=\"1\" class=\"dataframe\">\n",
       "  <thead>\n",
       "    <tr style=\"text-align: right;\">\n",
       "      <th></th>\n",
       "      <th>Woord</th>\n",
       "      <th>Frequentie</th>\n",
       "    </tr>\n",
       "  </thead>\n",
       "  <tbody>\n",
       "    <tr>\n",
       "      <th>1</th>\n",
       "      <td>fuck</td>\n",
       "      <td>1726</td>\n",
       "    </tr>\n",
       "    <tr>\n",
       "      <th>2</th>\n",
       "      <td>hate</td>\n",
       "      <td>1364</td>\n",
       "    </tr>\n",
       "    <tr>\n",
       "      <th>3</th>\n",
       "      <td>damn</td>\n",
       "      <td>1110</td>\n",
       "    </tr>\n",
       "    <tr>\n",
       "      <th>4</th>\n",
       "      <td>ass</td>\n",
       "      <td>1079</td>\n",
       "    </tr>\n",
       "    <tr>\n",
       "      <th>5</th>\n",
       "      <td>suck</td>\n",
       "      <td>794</td>\n",
       "    </tr>\n",
       "    <tr>\n",
       "      <th>6</th>\n",
       "      <td>lol</td>\n",
       "      <td>596</td>\n",
       "    </tr>\n",
       "    <tr>\n",
       "      <th>7</th>\n",
       "      <td>get</td>\n",
       "      <td>556</td>\n",
       "    </tr>\n",
       "    <tr>\n",
       "      <th>8</th>\n",
       "      <td>like</td>\n",
       "      <td>530</td>\n",
       "    </tr>\n",
       "    <tr>\n",
       "      <th>9</th>\n",
       "      <td>bitch</td>\n",
       "      <td>515</td>\n",
       "    </tr>\n",
       "    <tr>\n",
       "      <th>10</th>\n",
       "      <td>gay</td>\n",
       "      <td>440</td>\n",
       "    </tr>\n",
       "  </tbody>\n",
       "</table>\n",
       "</div>"
      ],
      "text/plain": [
       "    Woord  Frequentie\n",
       "1    fuck        1726\n",
       "2    hate        1364\n",
       "3    damn        1110\n",
       "4     ass        1079\n",
       "5    suck         794\n",
       "6     lol         596\n",
       "7     get         556\n",
       "8    like         530\n",
       "9   bitch         515\n",
       "10    gay         440"
      ]
     },
     "execution_count": 103,
     "metadata": {},
     "output_type": "execute_result"
    }
   ],
   "source": [
    "troll1_content = troll1.content.values\n",
    "\n",
    "vec = CountVectorizer().fit(troll1_content)\n",
    "bag_of_words = vec.transform(troll1_content)\n",
    "sum_words = bag_of_words.sum(axis=0) \n",
    "words_freq = [(word, sum_words[0, idx]) for word, idx in vec.vocabulary_.items()]\n",
    "words_freq = sorted(words_freq, key = lambda x: x[1], reverse=True)\n",
    "\n",
    "troll_arr=[]\n",
    "c = 1\n",
    "for i in words_freq:\n",
    "    if c <= 10:\n",
    "        troll_row=[i[0], i[1]]\n",
    "        troll_arr.append(troll_row)\n",
    "    c += 1\n",
    "\n",
    "troll_df = pd.DataFrame(troll_arr, columns=['Woord', 'Frequentie'])\n",
    "troll_df.index +=1\n",
    "troll_df"
   ]
  },
  {
   "cell_type": "markdown",
   "metadata": {},
   "source": [
    "#### Top 10 bijdragende woorden tot klasse \"troll bericht\" in logistische regressie"
   ]
  },
  {
   "cell_type": "code",
   "execution_count": null,
   "metadata": {},
   "outputs": [],
   "source": []
  },
  {
   "cell_type": "markdown",
   "metadata": {},
   "source": [
    "#### Analyse van verkeerd geclassificeerde berichten\n"
   ]
  },
  {
   "cell_type": "code",
   "execution_count": null,
   "metadata": {},
   "outputs": [],
   "source": []
  }
 ],
 "metadata": {
  "interpreter": {
   "hash": "a827d8c47a0cdad468c50b3cb5b1966a7f9e1e73792ac010a59c77bf8a538792"
  },
  "kernelspec": {
   "display_name": "Python 3 (ipykernel)",
   "language": "python",
   "name": "python3"
  },
  "language_info": {
   "codemirror_mode": {
    "name": "ipython",
    "version": 3
   },
   "file_extension": ".py",
   "mimetype": "text/x-python",
   "name": "python",
   "nbconvert_exporter": "python",
   "pygments_lexer": "ipython3",
   "version": "3.9.7"
  },
  "varInspector": {
   "cols": {
    "lenName": 16,
    "lenType": 16,
    "lenVar": 40
   },
   "kernels_config": {
    "python": {
     "delete_cmd_postfix": "",
     "delete_cmd_prefix": "del ",
     "library": "var_list.py",
     "varRefreshCmd": "print(var_dic_list())"
    },
    "r": {
     "delete_cmd_postfix": ") ",
     "delete_cmd_prefix": "rm(",
     "library": "var_list.r",
     "varRefreshCmd": "cat(var_dic_list()) "
    }
   },
   "types_to_exclude": [
    "module",
    "function",
    "builtin_function_or_method",
    "instance",
    "_Feature"
   ],
   "window_display": false
  }
 },
 "nbformat": 4,
 "nbformat_minor": 4
}
