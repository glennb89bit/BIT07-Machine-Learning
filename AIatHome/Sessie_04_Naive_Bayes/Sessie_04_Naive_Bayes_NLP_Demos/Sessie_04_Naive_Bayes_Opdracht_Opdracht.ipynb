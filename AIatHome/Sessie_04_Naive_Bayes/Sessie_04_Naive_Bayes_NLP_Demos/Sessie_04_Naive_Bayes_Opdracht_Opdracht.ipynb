{
 "cells": [
  {
   "cell_type": "markdown",
   "metadata": {},
   "source": [
    "# Sessie 04 -  Natural Language Processing\n",
    "\n",
    "Sinds enkele jaren schieten de Natural Language Processing toepassingen als paddenstoelen uit de grond. Eén van de belangrijkste redenen daarvoor is de steeds groter wordende beschikbaarheid van tekstuele data aangeleverd door bijvoorbeeld social media.\n",
    "\n",
    "In deze opdracht zal NLP toegepast worden in het kader van sentiment analysis. De bedoeling van sentiment analysis is om uit een tekstueel bericht zoals een email, sms, twitter bericht, Trip Advisor review het sentiment te voorspellen. Bedrijven weten bijvoorbeeld graag wat het sentiment is in de berichten die online over hen verschijnen.\n",
    "\n",
    "De opdracht bestaat uit 2 deelopdrachten.\n",
    "\n",
    "De eerste deelopdracht gaat rond het uitvoeren van pure sentiment analysis van Tweets.\n",
    "Bij de tweede deelopdracht is het de bedoeling om cyber trolls op te sporen.\n",
    "\n",
    "Telkens wordt het bag-of-words model gebruikt om tekst voor te stellen en vervolgens worden verschillende classifiers getraind om het sentiment/rating te voorspellen.\n",
    "\n",
    "Het bag-of-words model beschrijft het voorkomen van woorden binnen een document en doet dit op bais van een vocabulair van gekende woorden en meet de aanwezigheid van deze gekende woorden. De grote beperking van het bag-of-words model is dat het enkel rekening houdt met welke woorden in een bericht voorkomen en niet met de volgorde ervan. Daardoor is het bag-of-words model heel beperkt in het capteren van de context waarin woorden in een bericht voorkomen . Tijdens de module deep learning zullen we afstappen van het bag-of-words model en gebruik maken van word embeddings in combinatie met LSTM neurale netwerken. Op deze manier kunnen we modellen trainen die wel rekening houden met de context en woordvolgordes."
   ]
  },
  {
   "cell_type": "code",
   "execution_count": 177,
   "metadata": {},
   "outputs": [
    {
     "name": "stderr",
     "output_type": "stream",
     "text": [
      "[nltk_data] Downloading package stopwords to\n",
      "[nltk_data]     C:\\Users\\gbroe\\AppData\\Roaming\\nltk_data...\n",
      "[nltk_data]   Package stopwords is already up-to-date!\n"
     ]
    }
   ],
   "source": [
    "%matplotlib inline\n",
    "import timeit\n",
    "import numpy as np\n",
    "import pandas as pd\n",
    "import matplotlib.pyplot as plt\n",
    "from sklearn.model_selection import train_test_split, ParameterGrid\n",
    "from sklearn.metrics import classification_report\n",
    "from sklearn.metrics import confusion_matrix, ConfusionMatrixDisplay\n",
    "from sklearn.metrics import accuracy_score, f1_score\n",
    "from sklearn.metrics import roc_curve, auc, det_curve\n",
    "\n",
    "from sklearn.linear_model import LogisticRegression\n",
    "from sklearn.svm import SVC\n",
    "from sklearn.naive_bayes import MultinomialNB\n",
    "from sklearn.naive_bayes import GaussianNB\n",
    "from sklearn.model_selection import GridSearchCV\n",
    "\n",
    "import nltk\n",
    "import seaborn as sns\n",
    "from nltk.corpus import stopwords\n",
    "nltk.download('stopwords')\n",
    "import re #regular expressions\n",
    "from bs4 import BeautifulSoup\n",
    "from nltk.stem.snowball import SnowballStemmer\n",
    "from sklearn.feature_extraction.text import CountVectorizer\n",
    "from sklearn.feature_extraction.text import TfidfTransformer\n",
    "\n",
    "from scipy.sparse import csr_matrix\n",
    "\n",
    "pd.set_option('display.max_rows',1000)\n",
    "pd.set_option('display.max_columns',1000)\n",
    "pd.set_option('display.max_colwidth',150)\n",
    "\n",
    "# Eigen functies\n",
    "def ismissing(df):\n",
    "    all_columns = df.columns\n",
    "\n",
    "    missing_arr = []\n",
    "    missing_column = ['Column name', 'Number of missing values']\n",
    "\n",
    "    for c in all_columns:\n",
    "        mv = airline[c].isnull().sum()\n",
    "        if mv != 0:\n",
    "            missing_row = [c, mv]\n",
    "            missing_arr.append(missing_row)\n",
    "    \n",
    "    if not missing_arr:\n",
    "        print(\"Er zijn geen ontbrekende waarden\")\n",
    "    else:\n",
    "        missing_df = pd.DataFrame(missing_arr, columns = missing_column)\n",
    "        return missing_df\n",
    "\n",
    "# Functie ontleend aan de cursus en aangepast (bron: Wouter Gevaert, Notebook Naive Bayes demo)\n",
    "def text_preprocessing(text):\n",
    "    \n",
    "    # remove html\n",
    "    text_no_html = BeautifulSoup(str(text),\"html.parser\" ).get_text()\n",
    "    \n",
    "    # remove non-letters\n",
    "    text_alpha_chars = re.sub(\"[^a-zA-Z']\", \" \", str(text_no_html)) \n",
    "        \n",
    "    # convert to lower-case\n",
    "    text_lower = text_alpha_chars.lower()\n",
    "    \n",
    "    # remove stop words\n",
    "    stops = set(stopwords.words(language)) \n",
    "    text_no_stop_words = ' '\n",
    "    \n",
    "    for w in text_lower.split():\n",
    "        if w not in stops:  \n",
    "            text_no_stop_words = text_no_stop_words + w + ' '\n",
    "      \n",
    "       # do stemming\n",
    "    text_stemmer = ' '\n",
    "    stemmer = SnowballStemmer('english')\n",
    "    for w in text_no_stop_words.split():\n",
    "        text_stemmer = text_stemmer + stemmer.stem(w) + ' '\n",
    "         \n",
    "    # remove short words\n",
    "    text_no_short_words = ' '\n",
    "    for w in text_stemmer.split(): \n",
    "        if len(w) >= 2:\n",
    "            text_no_short_words = text_no_short_words + w + ' '\n",
    " \n",
    "\n",
    "    return text_no_short_words"
   ]
  },
  {
   "cell_type": "markdown",
   "metadata": {},
   "source": [
    "## Airline sentiment\n",
    "\n",
    "De dataset 'Airlines_sentiment.csv' bevat tweets over verschillende airlines. Jouw taak bestaat erin om een classifier te trainen die zo goed mogelijk het sentiment van de tweets kan classificeren als positive, neutral en negative.\n",
    "Het sentiment bevindt zich in de kolom 'airline_sentiment' en de tweet zelf in de kolom 'text'.\n",
    "Doorloop de volgende stappen:\n",
    "- Analyse van de data\n",
    "- Preprocessing\n",
    "- Training en hyperparameter tuning\n",
    "- Modeloptimalisatie\n"
   ]
  },
  {
   "cell_type": "code",
   "execution_count": 133,
   "metadata": {},
   "outputs": [
    {
     "data": {
      "text/html": [
       "<div>\n",
       "<style scoped>\n",
       "    .dataframe tbody tr th:only-of-type {\n",
       "        vertical-align: middle;\n",
       "    }\n",
       "\n",
       "    .dataframe tbody tr th {\n",
       "        vertical-align: top;\n",
       "    }\n",
       "\n",
       "    .dataframe thead th {\n",
       "        text-align: right;\n",
       "    }\n",
       "</style>\n",
       "<table border=\"1\" class=\"dataframe\">\n",
       "  <thead>\n",
       "    <tr style=\"text-align: right;\">\n",
       "      <th></th>\n",
       "      <th>_unit_id</th>\n",
       "      <th>_golden</th>\n",
       "      <th>_unit_state</th>\n",
       "      <th>_trusted_judgments</th>\n",
       "      <th>_last_judgment_at</th>\n",
       "      <th>airline_sentiment</th>\n",
       "      <th>airline_sentiment:confidence</th>\n",
       "      <th>negativereason</th>\n",
       "      <th>negativereason:confidence</th>\n",
       "      <th>airline</th>\n",
       "      <th>airline_sentiment_gold</th>\n",
       "      <th>name</th>\n",
       "      <th>negativereason_gold</th>\n",
       "      <th>retweet_count</th>\n",
       "      <th>text</th>\n",
       "      <th>tweet_coord</th>\n",
       "      <th>tweet_created</th>\n",
       "      <th>tweet_id</th>\n",
       "      <th>tweet_location</th>\n",
       "      <th>user_timezone</th>\n",
       "    </tr>\n",
       "  </thead>\n",
       "  <tbody>\n",
       "    <tr>\n",
       "      <th>14635</th>\n",
       "      <td>681679794</td>\n",
       "      <td>False</td>\n",
       "      <td>finalized</td>\n",
       "      <td>3</td>\n",
       "      <td>2/25/15 19:46</td>\n",
       "      <td>positive</td>\n",
       "      <td>0.3487</td>\n",
       "      <td>NaN</td>\n",
       "      <td>0.0000</td>\n",
       "      <td>American</td>\n",
       "      <td>NaN</td>\n",
       "      <td>KristenReenders</td>\n",
       "      <td>NaN</td>\n",
       "      <td>0</td>\n",
       "      <td>@AmericanAir thank you we got on a different flight to Chicago.</td>\n",
       "      <td>NaN</td>\n",
       "      <td>2/22/15 12:01</td>\n",
       "      <td>5.695880e+17</td>\n",
       "      <td>NaN</td>\n",
       "      <td>NaN</td>\n",
       "    </tr>\n",
       "    <tr>\n",
       "      <th>14636</th>\n",
       "      <td>681679795</td>\n",
       "      <td>False</td>\n",
       "      <td>finalized</td>\n",
       "      <td>3</td>\n",
       "      <td>2/25/15 19:14</td>\n",
       "      <td>negative</td>\n",
       "      <td>1.0000</td>\n",
       "      <td>Customer Service Issue</td>\n",
       "      <td>1.0000</td>\n",
       "      <td>American</td>\n",
       "      <td>NaN</td>\n",
       "      <td>itsropes</td>\n",
       "      <td>NaN</td>\n",
       "      <td>0</td>\n",
       "      <td>@AmericanAir leaving over 20 minutes Late Flight. No warnings or communication until we were 15 minutes Late Flight. That's called shitty customer...</td>\n",
       "      <td>NaN</td>\n",
       "      <td>2/22/15 11:59</td>\n",
       "      <td>5.695870e+17</td>\n",
       "      <td>Texas</td>\n",
       "      <td>NaN</td>\n",
       "    </tr>\n",
       "    <tr>\n",
       "      <th>14637</th>\n",
       "      <td>681679796</td>\n",
       "      <td>False</td>\n",
       "      <td>finalized</td>\n",
       "      <td>3</td>\n",
       "      <td>2/25/15 19:04</td>\n",
       "      <td>neutral</td>\n",
       "      <td>1.0000</td>\n",
       "      <td>NaN</td>\n",
       "      <td>NaN</td>\n",
       "      <td>American</td>\n",
       "      <td>NaN</td>\n",
       "      <td>sanyabun</td>\n",
       "      <td>NaN</td>\n",
       "      <td>0</td>\n",
       "      <td>@AmericanAir Please bring American Airlines to #BlackBerry10</td>\n",
       "      <td>NaN</td>\n",
       "      <td>2/22/15 11:59</td>\n",
       "      <td>5.695870e+17</td>\n",
       "      <td>Nigeria,lagos</td>\n",
       "      <td>NaN</td>\n",
       "    </tr>\n",
       "    <tr>\n",
       "      <th>14638</th>\n",
       "      <td>681679797</td>\n",
       "      <td>False</td>\n",
       "      <td>finalized</td>\n",
       "      <td>3</td>\n",
       "      <td>2/25/15 18:59</td>\n",
       "      <td>negative</td>\n",
       "      <td>1.0000</td>\n",
       "      <td>Customer Service Issue</td>\n",
       "      <td>0.6659</td>\n",
       "      <td>American</td>\n",
       "      <td>NaN</td>\n",
       "      <td>SraJackson</td>\n",
       "      <td>NaN</td>\n",
       "      <td>0</td>\n",
       "      <td>@AmericanAir you have my money, you change my flight, and don't answer your phones! Any other suggestions so I can make my commitment??</td>\n",
       "      <td>NaN</td>\n",
       "      <td>2/22/15 11:59</td>\n",
       "      <td>5.695870e+17</td>\n",
       "      <td>New Jersey</td>\n",
       "      <td>Eastern Time (US &amp; Canada)</td>\n",
       "    </tr>\n",
       "    <tr>\n",
       "      <th>14639</th>\n",
       "      <td>681679798</td>\n",
       "      <td>False</td>\n",
       "      <td>finalized</td>\n",
       "      <td>3</td>\n",
       "      <td>2/25/15 19:06</td>\n",
       "      <td>neutral</td>\n",
       "      <td>0.6771</td>\n",
       "      <td>NaN</td>\n",
       "      <td>0.0000</td>\n",
       "      <td>American</td>\n",
       "      <td>NaN</td>\n",
       "      <td>daviddtwu</td>\n",
       "      <td>NaN</td>\n",
       "      <td>0</td>\n",
       "      <td>@AmericanAir we have 8 ppl so we need 2 know how many seats are on the next flight. Plz put us on standby for 4 people on the next flight?</td>\n",
       "      <td>NaN</td>\n",
       "      <td>2/22/15 11:58</td>\n",
       "      <td>5.695870e+17</td>\n",
       "      <td>dallas, TX</td>\n",
       "      <td>NaN</td>\n",
       "    </tr>\n",
       "  </tbody>\n",
       "</table>\n",
       "</div>"
      ],
      "text/plain": [
       "        _unit_id  _golden _unit_state  _trusted_judgments _last_judgment_at  \\\n",
       "14635  681679794    False   finalized                   3     2/25/15 19:46   \n",
       "14636  681679795    False   finalized                   3     2/25/15 19:14   \n",
       "14637  681679796    False   finalized                   3     2/25/15 19:04   \n",
       "14638  681679797    False   finalized                   3     2/25/15 18:59   \n",
       "14639  681679798    False   finalized                   3     2/25/15 19:06   \n",
       "\n",
       "      airline_sentiment  airline_sentiment:confidence          negativereason  \\\n",
       "14635          positive                        0.3487                     NaN   \n",
       "14636          negative                        1.0000  Customer Service Issue   \n",
       "14637           neutral                        1.0000                     NaN   \n",
       "14638          negative                        1.0000  Customer Service Issue   \n",
       "14639           neutral                        0.6771                     NaN   \n",
       "\n",
       "       negativereason:confidence   airline airline_sentiment_gold  \\\n",
       "14635                     0.0000  American                    NaN   \n",
       "14636                     1.0000  American                    NaN   \n",
       "14637                        NaN  American                    NaN   \n",
       "14638                     0.6659  American                    NaN   \n",
       "14639                     0.0000  American                    NaN   \n",
       "\n",
       "                  name negativereason_gold  retweet_count  \\\n",
       "14635  KristenReenders                 NaN              0   \n",
       "14636         itsropes                 NaN              0   \n",
       "14637         sanyabun                 NaN              0   \n",
       "14638       SraJackson                 NaN              0   \n",
       "14639        daviddtwu                 NaN              0   \n",
       "\n",
       "                                                                                                                                                        text  \\\n",
       "14635                                                                                        @AmericanAir thank you we got on a different flight to Chicago.   \n",
       "14636  @AmericanAir leaving over 20 minutes Late Flight. No warnings or communication until we were 15 minutes Late Flight. That's called shitty customer...   \n",
       "14637                                                                                           @AmericanAir Please bring American Airlines to #BlackBerry10   \n",
       "14638                @AmericanAir you have my money, you change my flight, and don't answer your phones! Any other suggestions so I can make my commitment??   \n",
       "14639             @AmericanAir we have 8 ppl so we need 2 know how many seats are on the next flight. Plz put us on standby for 4 people on the next flight?   \n",
       "\n",
       "      tweet_coord  tweet_created      tweet_id tweet_location  \\\n",
       "14635         NaN  2/22/15 12:01  5.695880e+17            NaN   \n",
       "14636         NaN  2/22/15 11:59  5.695870e+17          Texas   \n",
       "14637         NaN  2/22/15 11:59  5.695870e+17  Nigeria,lagos   \n",
       "14638         NaN  2/22/15 11:59  5.695870e+17     New Jersey   \n",
       "14639         NaN  2/22/15 11:58  5.695870e+17     dallas, TX   \n",
       "\n",
       "                    user_timezone  \n",
       "14635                         NaN  \n",
       "14636                         NaN  \n",
       "14637                         NaN  \n",
       "14638  Eastern Time (US & Canada)  \n",
       "14639                         NaN  "
      ]
     },
     "execution_count": 133,
     "metadata": {},
     "output_type": "execute_result"
    }
   ],
   "source": [
    "# Inlezen van de dataset\n",
    "\n",
    "airline = pd.read_csv('Airline_sentiment.csv',encoding = 'ISO-8859-1')\n",
    "airline.tail()"
   ]
  },
  {
   "cell_type": "code",
   "execution_count": 134,
   "metadata": {},
   "outputs": [
    {
     "data": {
      "text/plain": [
       "(14640, 20)"
      ]
     },
     "execution_count": 134,
     "metadata": {},
     "output_type": "execute_result"
    }
   ],
   "source": [
    "airline.shape"
   ]
  },
  {
   "cell_type": "markdown",
   "metadata": {
    "tags": []
   },
   "source": [
    "### Analyse van de dataset\n",
    "\n",
    "- Onderzoek de gebalanceerdheid van de dataset. Stel grafisch de verdeling voor van het sentiment.\n",
    "- Visualiseer de verdeling van het sentiment per airline. Maak daarvoor per airline een Seaborn countplot van het sentiment.\n",
    "- Welke airline lijkt op basis van deze tweet het best te scoren en welke het slechtst?\n",
    "- Uit hoeveel woorden bestaat het langste twitter bericht en uit hoeveel woorden het kortste?"
   ]
  },
  {
   "cell_type": "markdown",
   "metadata": {},
   "source": [
    "#### Gebalanceerdheid van de dataset\n",
    "Door middel van een countplot wordt de gebalanceerdheid van de dataset weergegeven. Vervolgens worden de absolute waarden en frequenties weergegeven."
   ]
  },
  {
   "cell_type": "code",
   "execution_count": 135,
   "metadata": {},
   "outputs": [
    {
     "data": {
      "text/plain": [
       "<AxesSubplot:xlabel='airline_sentiment', ylabel='count'>"
      ]
     },
     "execution_count": 135,
     "metadata": {},
     "output_type": "execute_result"
    },
    {
     "data": {
      "image/png": "[encoded data removed]",
      "text/plain": [
       "<Figure size 1440x720 with 1 Axes>"
      ]
     },
     "metadata": {
      "needs_background": "light"
     },
     "output_type": "display_data"
    }
   ],
   "source": [
    "# Gebalanceerdheid van de dataset\n",
    "sns.countplot(x=\"airline_sentiment\", data=airline)"
   ]
  },
  {
   "cell_type": "code",
   "execution_count": 136,
   "metadata": {},
   "outputs": [
    {
     "data": {
      "text/plain": [
       "negative    9178\n",
       "neutral     3099\n",
       "positive    2363\n",
       "Name: airline_sentiment, dtype: int64"
      ]
     },
     "execution_count": 136,
     "metadata": {},
     "output_type": "execute_result"
    }
   ],
   "source": [
    "airline['airline_sentiment'].value_counts()"
   ]
  },
  {
   "cell_type": "code",
   "execution_count": 137,
   "metadata": {},
   "outputs": [
    {
     "data": {
      "text/plain": [
       "negative    0.626913\n",
       "neutral     0.211680\n",
       "positive    0.161407\n",
       "Name: airline_sentiment, dtype: float64"
      ]
     },
     "execution_count": 137,
     "metadata": {},
     "output_type": "execute_result"
    }
   ],
   "source": [
    "airline['airline_sentiment'].value_counts(normalize=True)"
   ]
  },
  {
   "cell_type": "markdown",
   "metadata": {},
   "source": [
    "**Conclusie**: de dataset is niet gebalanceerd. Er is een dominantie van de categorie \"negative\". De minderheidsklase is \"positive\". De verdeling van de drie klassen volgens frequentie is als volgt:\n",
    "- \"negative\": 63%\n",
    "- \"neutral\": 21%\n",
    "- \"positive\": 16%"
   ]
  },
  {
   "cell_type": "markdown",
   "metadata": {},
   "source": [
    "#### Verdeling van het sentiment per airline\n",
    "De verdeling van het sentiment per airline wordt weergegeven doormiddel van onderstaande countplots. De eerste groepeert de airline volgens sentiment, de tweede vice versa."
   ]
  },
  {
   "cell_type": "code",
   "execution_count": 138,
   "metadata": {},
   "outputs": [
    {
     "data": {
      "text/plain": [
       "<AxesSubplot:xlabel='airline_sentiment', ylabel='count'>"
      ]
     },
     "execution_count": 138,
     "metadata": {},
     "output_type": "execute_result"
    },
    {
     "data": {
      "image/png": "[encoded data removed]",
      "text/plain": [
       "<Figure size 1440x720 with 1 Axes>"
      ]
     },
     "metadata": {
      "needs_background": "light"
     },
     "output_type": "display_data"
    }
   ],
   "source": [
    "sns.countplot(x=\"airline_sentiment\", data=airline, hue=\"airline\")"
   ]
  },
  {
   "cell_type": "code",
   "execution_count": 139,
   "metadata": {},
   "outputs": [
    {
     "data": {
      "text/plain": [
       "<AxesSubplot:xlabel='airline', ylabel='count'>"
      ]
     },
     "execution_count": 139,
     "metadata": {},
     "output_type": "execute_result"
    },
    {
     "data": {
      "image/png": "[encoded data removed]",
      "text/plain": [
       "<Figure size 1440x720 with 1 Axes>"
      ]
     },
     "metadata": {
      "needs_background": "light"
     },
     "output_type": "display_data"
    }
   ],
   "source": [
    "sns.countplot(x=\"airline\", data=airline, hue=\"airline_sentiment\")"
   ]
  },
  {
   "cell_type": "markdown",
   "metadata": {},
   "source": [
    "#### Beste en slechtste sentiments\n",
    "Op basis van voorgaande countplots valt op dat de airline \"United\" de meeste tweets hebben met een negative sentiment. United wordt gevolgd door \"US Airways\" en \"American\".\n",
    "\n",
    "De airline met de meeste tweets met een positieve sentiment is \"Southwest\", dicht gevolgd door \"Delta\" en \"United\".\n",
    "\n",
    "Om te kijken naar welke airline het nu echt het beste deed, lijkt het nuttig om te kijken naar de verhouding tussen negatieve en positieve sentimenten. Deze verhouding is het beste bij \"Virgin America\". Bij deze airline nadert deze een 1:1 ratio. Belangrijke nota bij deze airline: het totaal aantal tweets is veel lager dan deze voor andere airlines. De slechtste verhouding tussen positieve en negatieve sentimenten wordt gezien bij \"US Airways\", gevolgd door \"United\" en \"American\"."
   ]
  },
  {
   "cell_type": "markdown",
   "metadata": {},
   "source": [
    "#### Langste en kortste twitterberichten\n",
    "Het aantal woorden wordt geteld en de min waarde en max waarde worden hieronder weergegeven."
   ]
  },
  {
   "cell_type": "code",
   "execution_count": 140,
   "metadata": {},
   "outputs": [
    {
     "name": "stdout",
     "output_type": "stream",
     "text": [
      "Het aantal woorden in het kortste bericht: \t  2 \t\t Dataframe index: \t  14\n",
      "Het aantal woorden in het langste bericht: \t 36 \t\t Dataframe index: \t8062\n"
     ]
    }
   ],
   "source": [
    "airline['word_count'] = airline.text.apply(lambda x: len(str(x).split(' ')))\n",
    "print(f\"Het aantal woorden in het kortste bericht: \\t{airline.word_count.min():3d} \\t\\t Dataframe index: \\t{airline.word_count.idxmin():4d}\")\n",
    "print(f\"Het aantal woorden in het langste bericht: \\t{airline.word_count.max():3d} \\t\\t Dataframe index: \\t{airline.word_count.idxmax():4d}\")\n"
   ]
  },
  {
   "cell_type": "markdown",
   "metadata": {},
   "source": [
    "Het kortste twitterbericht heeft slechts 2 woorden. Dit twitter bericht kan in de Pandas Dataframe worden gevonden in de rij met index 14.\n",
    "\n",
    "Het langste twitterbericht heeft 36 woorden. Dit twitter bericht kan in de Pandas Dataframe worden gevonden in de rij met index 8062."
   ]
  },
  {
   "cell_type": "code",
   "execution_count": 142,
   "metadata": {},
   "outputs": [
    {
     "data": {
      "text/html": [
       "<div>\n",
       "<style scoped>\n",
       "    .dataframe tbody tr th:only-of-type {\n",
       "        vertical-align: middle;\n",
       "    }\n",
       "\n",
       "    .dataframe tbody tr th {\n",
       "        vertical-align: top;\n",
       "    }\n",
       "\n",
       "    .dataframe thead th {\n",
       "        text-align: right;\n",
       "    }\n",
       "</style>\n",
       "<table border=\"1\" class=\"dataframe\">\n",
       "  <thead>\n",
       "    <tr style=\"text-align: right;\">\n",
       "      <th></th>\n",
       "      <th>_unit_id</th>\n",
       "      <th>_golden</th>\n",
       "      <th>_unit_state</th>\n",
       "      <th>_trusted_judgments</th>\n",
       "      <th>_last_judgment_at</th>\n",
       "      <th>airline_sentiment</th>\n",
       "      <th>airline_sentiment:confidence</th>\n",
       "      <th>negativereason</th>\n",
       "      <th>negativereason:confidence</th>\n",
       "      <th>airline</th>\n",
       "      <th>airline_sentiment_gold</th>\n",
       "      <th>name</th>\n",
       "      <th>negativereason_gold</th>\n",
       "      <th>retweet_count</th>\n",
       "      <th>text</th>\n",
       "      <th>tweet_coord</th>\n",
       "      <th>tweet_created</th>\n",
       "      <th>tweet_id</th>\n",
       "      <th>tweet_location</th>\n",
       "      <th>user_timezone</th>\n",
       "      <th>word_count</th>\n",
       "      <th>length</th>\n",
       "    </tr>\n",
       "  </thead>\n",
       "  <tbody>\n",
       "    <tr>\n",
       "      <th>0</th>\n",
       "      <td>681448150</td>\n",
       "      <td>False</td>\n",
       "      <td>finalized</td>\n",
       "      <td>3</td>\n",
       "      <td>2/25/15 5:24</td>\n",
       "      <td>neutral</td>\n",
       "      <td>1.0000</td>\n",
       "      <td>NaN</td>\n",
       "      <td>NaN</td>\n",
       "      <td>Virgin America</td>\n",
       "      <td>NaN</td>\n",
       "      <td>cairdin</td>\n",
       "      <td>NaN</td>\n",
       "      <td>0</td>\n",
       "      <td>@VirginAmerica What @dhepburn said.</td>\n",
       "      <td>NaN</td>\n",
       "      <td>2/24/15 11:35</td>\n",
       "      <td>5.703060e+17</td>\n",
       "      <td>NaN</td>\n",
       "      <td>Eastern Time (US &amp; Canada)</td>\n",
       "      <td>4</td>\n",
       "      <td>35</td>\n",
       "    </tr>\n",
       "    <tr>\n",
       "      <th>1</th>\n",
       "      <td>681448153</td>\n",
       "      <td>False</td>\n",
       "      <td>finalized</td>\n",
       "      <td>3</td>\n",
       "      <td>2/25/15 1:53</td>\n",
       "      <td>positive</td>\n",
       "      <td>0.3486</td>\n",
       "      <td>NaN</td>\n",
       "      <td>0.0000</td>\n",
       "      <td>Virgin America</td>\n",
       "      <td>NaN</td>\n",
       "      <td>jnardino</td>\n",
       "      <td>NaN</td>\n",
       "      <td>0</td>\n",
       "      <td>@VirginAmerica plus you've added commercials to the experience... tacky.</td>\n",
       "      <td>NaN</td>\n",
       "      <td>2/24/15 11:15</td>\n",
       "      <td>5.703010e+17</td>\n",
       "      <td>NaN</td>\n",
       "      <td>Pacific Time (US &amp; Canada)</td>\n",
       "      <td>9</td>\n",
       "      <td>72</td>\n",
       "    </tr>\n",
       "    <tr>\n",
       "      <th>2</th>\n",
       "      <td>681448156</td>\n",
       "      <td>False</td>\n",
       "      <td>finalized</td>\n",
       "      <td>3</td>\n",
       "      <td>2/25/15 10:01</td>\n",
       "      <td>neutral</td>\n",
       "      <td>0.6837</td>\n",
       "      <td>NaN</td>\n",
       "      <td>NaN</td>\n",
       "      <td>Virgin America</td>\n",
       "      <td>NaN</td>\n",
       "      <td>yvonnalynn</td>\n",
       "      <td>NaN</td>\n",
       "      <td>0</td>\n",
       "      <td>@VirginAmerica I didn't today... Must mean I need to take another trip!</td>\n",
       "      <td>NaN</td>\n",
       "      <td>2/24/15 11:15</td>\n",
       "      <td>5.703010e+17</td>\n",
       "      <td>Lets Play</td>\n",
       "      <td>Central Time (US &amp; Canada)</td>\n",
       "      <td>12</td>\n",
       "      <td>71</td>\n",
       "    </tr>\n",
       "    <tr>\n",
       "      <th>3</th>\n",
       "      <td>681448158</td>\n",
       "      <td>False</td>\n",
       "      <td>finalized</td>\n",
       "      <td>3</td>\n",
       "      <td>2/25/15 3:05</td>\n",
       "      <td>negative</td>\n",
       "      <td>1.0000</td>\n",
       "      <td>Bad Flight</td>\n",
       "      <td>0.7033</td>\n",
       "      <td>Virgin America</td>\n",
       "      <td>NaN</td>\n",
       "      <td>jnardino</td>\n",
       "      <td>NaN</td>\n",
       "      <td>0</td>\n",
       "      <td>@VirginAmerica it's really aggressive to blast obnoxious \"entertainment\" in your guests' faces &amp;amp; they have little recourse</td>\n",
       "      <td>NaN</td>\n",
       "      <td>2/24/15 11:15</td>\n",
       "      <td>5.703010e+17</td>\n",
       "      <td>NaN</td>\n",
       "      <td>Pacific Time (US &amp; Canada)</td>\n",
       "      <td>17</td>\n",
       "      <td>126</td>\n",
       "    </tr>\n",
       "    <tr>\n",
       "      <th>4</th>\n",
       "      <td>681448159</td>\n",
       "      <td>False</td>\n",
       "      <td>finalized</td>\n",
       "      <td>3</td>\n",
       "      <td>2/25/15 5:50</td>\n",
       "      <td>negative</td>\n",
       "      <td>1.0000</td>\n",
       "      <td>Can't Tell</td>\n",
       "      <td>1.0000</td>\n",
       "      <td>Virgin America</td>\n",
       "      <td>NaN</td>\n",
       "      <td>jnardino</td>\n",
       "      <td>NaN</td>\n",
       "      <td>0</td>\n",
       "      <td>@VirginAmerica and it's a really big bad thing about it</td>\n",
       "      <td>NaN</td>\n",
       "      <td>2/24/15 11:14</td>\n",
       "      <td>5.703010e+17</td>\n",
       "      <td>NaN</td>\n",
       "      <td>Pacific Time (US &amp; Canada)</td>\n",
       "      <td>10</td>\n",
       "      <td>55</td>\n",
       "    </tr>\n",
       "  </tbody>\n",
       "</table>\n",
       "</div>"
      ],
      "text/plain": [
       "    _unit_id  _golden _unit_state  _trusted_judgments _last_judgment_at  \\\n",
       "0  681448150    False   finalized                   3      2/25/15 5:24   \n",
       "1  681448153    False   finalized                   3      2/25/15 1:53   \n",
       "2  681448156    False   finalized                   3     2/25/15 10:01   \n",
       "3  681448158    False   finalized                   3      2/25/15 3:05   \n",
       "4  681448159    False   finalized                   3      2/25/15 5:50   \n",
       "\n",
       "  airline_sentiment  airline_sentiment:confidence negativereason  \\\n",
       "0           neutral                        1.0000            NaN   \n",
       "1          positive                        0.3486            NaN   \n",
       "2           neutral                        0.6837            NaN   \n",
       "3          negative                        1.0000     Bad Flight   \n",
       "4          negative                        1.0000     Can't Tell   \n",
       "\n",
       "   negativereason:confidence         airline airline_sentiment_gold  \\\n",
       "0                        NaN  Virgin America                    NaN   \n",
       "1                     0.0000  Virgin America                    NaN   \n",
       "2                        NaN  Virgin America                    NaN   \n",
       "3                     0.7033  Virgin America                    NaN   \n",
       "4                     1.0000  Virgin America                    NaN   \n",
       "\n",
       "         name negativereason_gold  retweet_count  \\\n",
       "0     cairdin                 NaN              0   \n",
       "1    jnardino                 NaN              0   \n",
       "2  yvonnalynn                 NaN              0   \n",
       "3    jnardino                 NaN              0   \n",
       "4    jnardino                 NaN              0   \n",
       "\n",
       "                                                                                                                             text  \\\n",
       "0                                                                                             @VirginAmerica What @dhepburn said.   \n",
       "1                                                        @VirginAmerica plus you've added commercials to the experience... tacky.   \n",
       "2                                                         @VirginAmerica I didn't today... Must mean I need to take another trip!   \n",
       "3  @VirginAmerica it's really aggressive to blast obnoxious \"entertainment\" in your guests' faces &amp; they have little recourse   \n",
       "4                                                                         @VirginAmerica and it's a really big bad thing about it   \n",
       "\n",
       "  tweet_coord  tweet_created      tweet_id tweet_location  \\\n",
       "0         NaN  2/24/15 11:35  5.703060e+17            NaN   \n",
       "1         NaN  2/24/15 11:15  5.703010e+17            NaN   \n",
       "2         NaN  2/24/15 11:15  5.703010e+17      Lets Play   \n",
       "3         NaN  2/24/15 11:15  5.703010e+17            NaN   \n",
       "4         NaN  2/24/15 11:14  5.703010e+17            NaN   \n",
       "\n",
       "                user_timezone  word_count  length  \n",
       "0  Eastern Time (US & Canada)           4      35  \n",
       "1  Pacific Time (US & Canada)           9      72  \n",
       "2  Central Time (US & Canada)          12      71  \n",
       "3  Pacific Time (US & Canada)          17     126  \n",
       "4  Pacific Time (US & Canada)          10      55  "
      ]
     },
     "execution_count": 142,
     "metadata": {},
     "output_type": "execute_result"
    }
   ],
   "source": [
    "airline['length'] = airline.text.apply(len)\n",
    "airline.head()"
   ]
  },
  {
   "cell_type": "markdown",
   "metadata": {},
   "source": [
    "### Preprocessing\n",
    "\n",
    "Onderzoek of er mogelijks foutieve of ontbrekende data aanwezig is. \n",
    "Kuis de tweets op: verwijder stopwoorden en niet-letters, zet alles om naar lowercase en pas stemming toe.\n",
    "Maak gebruik van de CountVectorizer en TfidfTransformer om een bag-of-words model te creëren. \n",
    "\n",
    "Meer info: \n",
    "\n",
    "https://scikit-learn.org/stable/modules/generated/sklearn.feature_extraction.text.CountVectorizer.html \n",
    "\n",
    "https://scikit-learn.org/stable/modules/generated/sklearn.feature_extraction.text.TfidfTransformer.html#sklearn.feature_extraction.text.TfidfTransformer \n",
    "\n",
    "https://scikit-learn.org/stable/modules/generated/sklearn.feature_extraction.text.TfidfVectorizer.html#sklearn.feature_extraction.text.TfidfVectorizer\n",
    "\n",
    "Splits op in een training set en test set. Zorg ervoor dat er 3000 tweets in de test set steken.\n"
   ]
  },
  {
   "cell_type": "code",
   "execution_count": 143,
   "metadata": {},
   "outputs": [
    {
     "data": {
      "text/html": [
       "<div>\n",
       "<style scoped>\n",
       "    .dataframe tbody tr th:only-of-type {\n",
       "        vertical-align: middle;\n",
       "    }\n",
       "\n",
       "    .dataframe tbody tr th {\n",
       "        vertical-align: top;\n",
       "    }\n",
       "\n",
       "    .dataframe thead th {\n",
       "        text-align: right;\n",
       "    }\n",
       "</style>\n",
       "<table border=\"1\" class=\"dataframe\">\n",
       "  <thead>\n",
       "    <tr style=\"text-align: right;\">\n",
       "      <th></th>\n",
       "      <th>Column name</th>\n",
       "      <th>Number of missing values</th>\n",
       "    </tr>\n",
       "  </thead>\n",
       "  <tbody>\n",
       "    <tr>\n",
       "      <th>0</th>\n",
       "      <td>_last_judgment_at</td>\n",
       "      <td>56</td>\n",
       "    </tr>\n",
       "    <tr>\n",
       "      <th>1</th>\n",
       "      <td>negativereason</td>\n",
       "      <td>5462</td>\n",
       "    </tr>\n",
       "    <tr>\n",
       "      <th>2</th>\n",
       "      <td>negativereason:confidence</td>\n",
       "      <td>4118</td>\n",
       "    </tr>\n",
       "    <tr>\n",
       "      <th>3</th>\n",
       "      <td>airline_sentiment_gold</td>\n",
       "      <td>14600</td>\n",
       "    </tr>\n",
       "    <tr>\n",
       "      <th>4</th>\n",
       "      <td>negativereason_gold</td>\n",
       "      <td>14608</td>\n",
       "    </tr>\n",
       "    <tr>\n",
       "      <th>5</th>\n",
       "      <td>tweet_coord</td>\n",
       "      <td>13621</td>\n",
       "    </tr>\n",
       "    <tr>\n",
       "      <th>6</th>\n",
       "      <td>tweet_location</td>\n",
       "      <td>4733</td>\n",
       "    </tr>\n",
       "    <tr>\n",
       "      <th>7</th>\n",
       "      <td>user_timezone</td>\n",
       "      <td>4820</td>\n",
       "    </tr>\n",
       "  </tbody>\n",
       "</table>\n",
       "</div>"
      ],
      "text/plain": [
       "                 Column name  Number of missing values\n",
       "0          _last_judgment_at                        56\n",
       "1             negativereason                      5462\n",
       "2  negativereason:confidence                      4118\n",
       "3     airline_sentiment_gold                     14600\n",
       "4        negativereason_gold                     14608\n",
       "5                tweet_coord                     13621\n",
       "6             tweet_location                      4733\n",
       "7              user_timezone                      4820"
      ]
     },
     "execution_count": 143,
     "metadata": {},
     "output_type": "execute_result"
    }
   ],
   "source": [
    "# Ontbrekende data\n",
    "ismissing(airline)"
   ]
  },
  {
   "cell_type": "markdown",
   "metadata": {},
   "source": [
    "#### Ontbrekende, foutieve en niet-informatieve waarden\n",
    "Het totaal aantal observaties is 14640. Dat betekent dat de meerderheid van de waarden van de kolommen 'airline_sentiment_gold', 'negativereason_gold' en 'tweet_coord' een missing value betreft. Verwijderen van deze kolommen hebben meer zin dan het verwijderen van observaties, want anders blijven er niet veel observaties meer over in de dataset.\n",
    "\n",
    "De kolom '_last_judgment_at' heeft geen informatieve betekenis in de sentimentanalyse van de twitterberichten en zal daarom ook worden verwijderd. \n",
    "\n",
    "De kolom 'negativereason' geeft een waarde die enkel wordt gegeven indien de uitkomst van de sentimentanalyse 'negative' is. Deze kolom heeft met andere woorde geen betekenis indien de sentiment 'positive' of 'neutral zou zijn. Dezelfde redenering kan worden gemaakt met 'negativereason:confidence'. Ook de algemene 'airline_sentiment:confidence' zou een waarde moeten zijn, die berekend dient te worden na evaluatie. Dit lijkt eveneens geen waarde, dat gegeven zal worden bij nieuwe voorspellingen.\n",
    "\n",
    "Tenslotte zou de tijdzone van de gebruiker geen invloed mogen hebben op het sentiment van een bericht. Daarom worden de kolommen 'user_timezone' en 'tweet_location' eveneens geschrapt. Deze laatste kolom bevatte bovendien veel foutieve waarden.\n",
    "\n",
    "Andere kolommen, zonder ontbrekende waarden, die verder geen informatieve waarden hebben, worden verwijderd. Dit zijn de kolommen: '_unit_id', '_unit_state' 'name', 'tweet_created' en 'tweet_id'.\n",
    "\n",
    "Hieronder wordt een overzicht gegeven van de overgebleven kolommen. Voor elke kolom met uitzondering van de 'text'-kolom zal aan de hand van countplots of wordt bekeken of deze features een impact hebben op het sentiment van een twitterbericht."
   ]
  },
  {
   "cell_type": "code",
   "execution_count": 144,
   "metadata": {},
   "outputs": [
    {
     "data": {
      "text/html": [
       "<div>\n",
       "<style scoped>\n",
       "    .dataframe tbody tr th:only-of-type {\n",
       "        vertical-align: middle;\n",
       "    }\n",
       "\n",
       "    .dataframe tbody tr th {\n",
       "        vertical-align: top;\n",
       "    }\n",
       "\n",
       "    .dataframe thead th {\n",
       "        text-align: right;\n",
       "    }\n",
       "</style>\n",
       "<table border=\"1\" class=\"dataframe\">\n",
       "  <thead>\n",
       "    <tr style=\"text-align: right;\">\n",
       "      <th></th>\n",
       "      <th>_golden</th>\n",
       "      <th>_trusted_judgments</th>\n",
       "      <th>airline_sentiment</th>\n",
       "      <th>airline</th>\n",
       "      <th>retweet_count</th>\n",
       "      <th>text</th>\n",
       "      <th>word_count</th>\n",
       "      <th>length</th>\n",
       "    </tr>\n",
       "  </thead>\n",
       "  <tbody>\n",
       "    <tr>\n",
       "      <th>0</th>\n",
       "      <td>False</td>\n",
       "      <td>3</td>\n",
       "      <td>neutral</td>\n",
       "      <td>Virgin America</td>\n",
       "      <td>0</td>\n",
       "      <td>@VirginAmerica What @dhepburn said.</td>\n",
       "      <td>4</td>\n",
       "      <td>35</td>\n",
       "    </tr>\n",
       "    <tr>\n",
       "      <th>1</th>\n",
       "      <td>False</td>\n",
       "      <td>3</td>\n",
       "      <td>positive</td>\n",
       "      <td>Virgin America</td>\n",
       "      <td>0</td>\n",
       "      <td>@VirginAmerica plus you've added commercials to the experience... tacky.</td>\n",
       "      <td>9</td>\n",
       "      <td>72</td>\n",
       "    </tr>\n",
       "    <tr>\n",
       "      <th>2</th>\n",
       "      <td>False</td>\n",
       "      <td>3</td>\n",
       "      <td>neutral</td>\n",
       "      <td>Virgin America</td>\n",
       "      <td>0</td>\n",
       "      <td>@VirginAmerica I didn't today... Must mean I need to take another trip!</td>\n",
       "      <td>12</td>\n",
       "      <td>71</td>\n",
       "    </tr>\n",
       "    <tr>\n",
       "      <th>3</th>\n",
       "      <td>False</td>\n",
       "      <td>3</td>\n",
       "      <td>negative</td>\n",
       "      <td>Virgin America</td>\n",
       "      <td>0</td>\n",
       "      <td>@VirginAmerica it's really aggressive to blast obnoxious \"entertainment\" in your guests' faces &amp;amp; they have little recourse</td>\n",
       "      <td>17</td>\n",
       "      <td>126</td>\n",
       "    </tr>\n",
       "    <tr>\n",
       "      <th>4</th>\n",
       "      <td>False</td>\n",
       "      <td>3</td>\n",
       "      <td>negative</td>\n",
       "      <td>Virgin America</td>\n",
       "      <td>0</td>\n",
       "      <td>@VirginAmerica and it's a really big bad thing about it</td>\n",
       "      <td>10</td>\n",
       "      <td>55</td>\n",
       "    </tr>\n",
       "  </tbody>\n",
       "</table>\n",
       "</div>"
      ],
      "text/plain": [
       "   _golden  _trusted_judgments airline_sentiment         airline  \\\n",
       "0    False                   3           neutral  Virgin America   \n",
       "1    False                   3          positive  Virgin America   \n",
       "2    False                   3           neutral  Virgin America   \n",
       "3    False                   3          negative  Virgin America   \n",
       "4    False                   3          negative  Virgin America   \n",
       "\n",
       "   retweet_count  \\\n",
       "0              0   \n",
       "1              0   \n",
       "2              0   \n",
       "3              0   \n",
       "4              0   \n",
       "\n",
       "                                                                                                                             text  \\\n",
       "0                                                                                             @VirginAmerica What @dhepburn said.   \n",
       "1                                                        @VirginAmerica plus you've added commercials to the experience... tacky.   \n",
       "2                                                         @VirginAmerica I didn't today... Must mean I need to take another trip!   \n",
       "3  @VirginAmerica it's really aggressive to blast obnoxious \"entertainment\" in your guests' faces &amp; they have little recourse   \n",
       "4                                                                         @VirginAmerica and it's a really big bad thing about it   \n",
       "\n",
       "   word_count  length  \n",
       "0           4      35  \n",
       "1           9      72  \n",
       "2          12      71  \n",
       "3          17     126  \n",
       "4          10      55  "
      ]
     },
     "execution_count": 144,
     "metadata": {},
     "output_type": "execute_result"
    }
   ],
   "source": [
    "column_drop = ['airline_sentiment_gold', 'negativereason_gold', 'tweet_coord', \n",
    "               '_last_judgment_at', 'negativereason:confidence', 'negativereason', \n",
    "               '_unit_id', '_unit_state', 'name', 'tweet_created' , 'tweet_id', \n",
    "               'user_timezone', 'airline_sentiment:confidence', 'tweet_location']\n",
    "airline.drop(column_drop, axis=1, inplace=True)\n",
    "airline.head()"
   ]
  },
  {
   "cell_type": "code",
   "execution_count": 145,
   "metadata": {},
   "outputs": [
    {
     "data": {
      "text/plain": [
       "<AxesSubplot:xlabel='_golden', ylabel='count'>"
      ]
     },
     "execution_count": 145,
     "metadata": {},
     "output_type": "execute_result"
    },
    {
     "data": {
      "image/png": "[encoded data removed]",
      "text/plain": [
       "<Figure size 1080x540 with 1 Axes>"
      ]
     },
     "metadata": {
      "needs_background": "light"
     },
     "output_type": "display_data"
    }
   ],
   "source": [
    "plt.rcParams['figure.figsize'] = 15,7.5\n",
    "sns.countplot(x='_golden', hue='airline_sentiment', data=airline)\n"
   ]
  },
  {
   "cell_type": "code",
   "execution_count": 146,
   "metadata": {},
   "outputs": [
    {
     "data": {
      "text/html": [
       "<div>\n",
       "<style scoped>\n",
       "    .dataframe tbody tr th:only-of-type {\n",
       "        vertical-align: middle;\n",
       "    }\n",
       "\n",
       "    .dataframe tbody tr th {\n",
       "        vertical-align: top;\n",
       "    }\n",
       "\n",
       "    .dataframe thead th {\n",
       "        text-align: right;\n",
       "    }\n",
       "</style>\n",
       "<table border=\"1\" class=\"dataframe\">\n",
       "  <thead>\n",
       "    <tr style=\"text-align: right;\">\n",
       "      <th></th>\n",
       "      <th>_golden</th>\n",
       "      <th>airline_sentiment</th>\n",
       "      <th>0</th>\n",
       "    </tr>\n",
       "  </thead>\n",
       "  <tbody>\n",
       "    <tr>\n",
       "      <th>0</th>\n",
       "      <td>False</td>\n",
       "      <td>negative</td>\n",
       "      <td>9146</td>\n",
       "    </tr>\n",
       "    <tr>\n",
       "      <th>1</th>\n",
       "      <td>False</td>\n",
       "      <td>neutral</td>\n",
       "      <td>3096</td>\n",
       "    </tr>\n",
       "    <tr>\n",
       "      <th>2</th>\n",
       "      <td>False</td>\n",
       "      <td>positive</td>\n",
       "      <td>2358</td>\n",
       "    </tr>\n",
       "    <tr>\n",
       "      <th>3</th>\n",
       "      <td>True</td>\n",
       "      <td>negative</td>\n",
       "      <td>32</td>\n",
       "    </tr>\n",
       "    <tr>\n",
       "      <th>4</th>\n",
       "      <td>True</td>\n",
       "      <td>neutral</td>\n",
       "      <td>3</td>\n",
       "    </tr>\n",
       "    <tr>\n",
       "      <th>5</th>\n",
       "      <td>True</td>\n",
       "      <td>positive</td>\n",
       "      <td>5</td>\n",
       "    </tr>\n",
       "  </tbody>\n",
       "</table>\n",
       "</div>"
      ],
      "text/plain": [
       "   _golden airline_sentiment     0\n",
       "0    False          negative  9146\n",
       "1    False           neutral  3096\n",
       "2    False          positive  2358\n",
       "3     True          negative    32\n",
       "4     True           neutral     3\n",
       "5     True          positive     5"
      ]
     },
     "execution_count": 146,
     "metadata": {},
     "output_type": "execute_result"
    }
   ],
   "source": [
    "golden = airline.groupby(['_golden','airline_sentiment']).size().reset_index()\n",
    "golden"
   ]
  },
  {
   "cell_type": "code",
   "execution_count": 147,
   "metadata": {},
   "outputs": [
    {
     "data": {
      "text/plain": [
       "<AxesSubplot:xlabel='_trusted_judgments', ylabel='count'>"
      ]
     },
     "execution_count": 147,
     "metadata": {},
     "output_type": "execute_result"
    },
    {
     "data": {
      "image/png": "[encoded data removed]",
      "text/plain": [
       "<Figure size 1440x720 with 1 Axes>"
      ]
     },
     "metadata": {
      "needs_background": "light"
     },
     "output_type": "display_data"
    }
   ],
   "source": [
    "plt.rcParams['figure.figsize'] = 20,10\n",
    "sns.countplot(x='_trusted_judgments', hue='airline_sentiment', data=airline)"
   ]
  },
  {
   "cell_type": "code",
   "execution_count": 148,
   "metadata": {},
   "outputs": [
    {
     "data": {
      "text/html": [
       "<div>\n",
       "<style scoped>\n",
       "    .dataframe tbody tr th:only-of-type {\n",
       "        vertical-align: middle;\n",
       "    }\n",
       "\n",
       "    .dataframe tbody tr th {\n",
       "        vertical-align: top;\n",
       "    }\n",
       "\n",
       "    .dataframe thead th {\n",
       "        text-align: right;\n",
       "    }\n",
       "</style>\n",
       "<table border=\"1\" class=\"dataframe\">\n",
       "  <thead>\n",
       "    <tr style=\"text-align: right;\">\n",
       "      <th></th>\n",
       "      <th>_trusted_judgments</th>\n",
       "      <th>airline_sentiment</th>\n",
       "      <th>0</th>\n",
       "    </tr>\n",
       "  </thead>\n",
       "  <tbody>\n",
       "    <tr>\n",
       "      <th>0</th>\n",
       "      <td>2</td>\n",
       "      <td>negative</td>\n",
       "      <td>14</td>\n",
       "    </tr>\n",
       "    <tr>\n",
       "      <th>1</th>\n",
       "      <td>2</td>\n",
       "      <td>neutral</td>\n",
       "      <td>3</td>\n",
       "    </tr>\n",
       "    <tr>\n",
       "      <th>2</th>\n",
       "      <td>2</td>\n",
       "      <td>positive</td>\n",
       "      <td>2</td>\n",
       "    </tr>\n",
       "    <tr>\n",
       "      <th>3</th>\n",
       "      <td>3</td>\n",
       "      <td>negative</td>\n",
       "      <td>9132</td>\n",
       "    </tr>\n",
       "    <tr>\n",
       "      <th>4</th>\n",
       "      <td>3</td>\n",
       "      <td>neutral</td>\n",
       "      <td>3093</td>\n",
       "    </tr>\n",
       "    <tr>\n",
       "      <th>5</th>\n",
       "      <td>3</td>\n",
       "      <td>positive</td>\n",
       "      <td>2356</td>\n",
       "    </tr>\n",
       "    <tr>\n",
       "      <th>6</th>\n",
       "      <td>210</td>\n",
       "      <td>negative</td>\n",
       "      <td>1</td>\n",
       "    </tr>\n",
       "    <tr>\n",
       "      <th>7</th>\n",
       "      <td>211</td>\n",
       "      <td>negative</td>\n",
       "      <td>1</td>\n",
       "    </tr>\n",
       "    <tr>\n",
       "      <th>8</th>\n",
       "      <td>215</td>\n",
       "      <td>negative</td>\n",
       "      <td>3</td>\n",
       "    </tr>\n",
       "    <tr>\n",
       "      <th>9</th>\n",
       "      <td>217</td>\n",
       "      <td>negative</td>\n",
       "      <td>1</td>\n",
       "    </tr>\n",
       "    <tr>\n",
       "      <th>10</th>\n",
       "      <td>217</td>\n",
       "      <td>positive</td>\n",
       "      <td>1</td>\n",
       "    </tr>\n",
       "    <tr>\n",
       "      <th>11</th>\n",
       "      <td>219</td>\n",
       "      <td>negative</td>\n",
       "      <td>1</td>\n",
       "    </tr>\n",
       "    <tr>\n",
       "      <th>12</th>\n",
       "      <td>221</td>\n",
       "      <td>negative</td>\n",
       "      <td>1</td>\n",
       "    </tr>\n",
       "    <tr>\n",
       "      <th>13</th>\n",
       "      <td>222</td>\n",
       "      <td>negative</td>\n",
       "      <td>1</td>\n",
       "    </tr>\n",
       "    <tr>\n",
       "      <th>14</th>\n",
       "      <td>223</td>\n",
       "      <td>negative</td>\n",
       "      <td>3</td>\n",
       "    </tr>\n",
       "    <tr>\n",
       "      <th>15</th>\n",
       "      <td>224</td>\n",
       "      <td>positive</td>\n",
       "      <td>1</td>\n",
       "    </tr>\n",
       "    <tr>\n",
       "      <th>16</th>\n",
       "      <td>225</td>\n",
       "      <td>negative</td>\n",
       "      <td>3</td>\n",
       "    </tr>\n",
       "    <tr>\n",
       "      <th>17</th>\n",
       "      <td>228</td>\n",
       "      <td>negative</td>\n",
       "      <td>2</td>\n",
       "    </tr>\n",
       "    <tr>\n",
       "      <th>18</th>\n",
       "      <td>228</td>\n",
       "      <td>positive</td>\n",
       "      <td>1</td>\n",
       "    </tr>\n",
       "    <tr>\n",
       "      <th>19</th>\n",
       "      <td>229</td>\n",
       "      <td>negative</td>\n",
       "      <td>1</td>\n",
       "    </tr>\n",
       "    <tr>\n",
       "      <th>20</th>\n",
       "      <td>229</td>\n",
       "      <td>neutral</td>\n",
       "      <td>1</td>\n",
       "    </tr>\n",
       "    <tr>\n",
       "      <th>21</th>\n",
       "      <td>229</td>\n",
       "      <td>positive</td>\n",
       "      <td>1</td>\n",
       "    </tr>\n",
       "    <tr>\n",
       "      <th>22</th>\n",
       "      <td>230</td>\n",
       "      <td>negative</td>\n",
       "      <td>1</td>\n",
       "    </tr>\n",
       "    <tr>\n",
       "      <th>23</th>\n",
       "      <td>231</td>\n",
       "      <td>negative</td>\n",
       "      <td>1</td>\n",
       "    </tr>\n",
       "    <tr>\n",
       "      <th>24</th>\n",
       "      <td>233</td>\n",
       "      <td>neutral</td>\n",
       "      <td>1</td>\n",
       "    </tr>\n",
       "    <tr>\n",
       "      <th>25</th>\n",
       "      <td>235</td>\n",
       "      <td>negative</td>\n",
       "      <td>1</td>\n",
       "    </tr>\n",
       "    <tr>\n",
       "      <th>26</th>\n",
       "      <td>236</td>\n",
       "      <td>neutral</td>\n",
       "      <td>1</td>\n",
       "    </tr>\n",
       "    <tr>\n",
       "      <th>27</th>\n",
       "      <td>239</td>\n",
       "      <td>negative</td>\n",
       "      <td>1</td>\n",
       "    </tr>\n",
       "    <tr>\n",
       "      <th>28</th>\n",
       "      <td>240</td>\n",
       "      <td>negative</td>\n",
       "      <td>1</td>\n",
       "    </tr>\n",
       "    <tr>\n",
       "      <th>29</th>\n",
       "      <td>241</td>\n",
       "      <td>positive</td>\n",
       "      <td>1</td>\n",
       "    </tr>\n",
       "    <tr>\n",
       "      <th>30</th>\n",
       "      <td>242</td>\n",
       "      <td>negative</td>\n",
       "      <td>1</td>\n",
       "    </tr>\n",
       "    <tr>\n",
       "      <th>31</th>\n",
       "      <td>243</td>\n",
       "      <td>negative</td>\n",
       "      <td>1</td>\n",
       "    </tr>\n",
       "    <tr>\n",
       "      <th>32</th>\n",
       "      <td>244</td>\n",
       "      <td>negative</td>\n",
       "      <td>1</td>\n",
       "    </tr>\n",
       "    <tr>\n",
       "      <th>33</th>\n",
       "      <td>245</td>\n",
       "      <td>negative</td>\n",
       "      <td>2</td>\n",
       "    </tr>\n",
       "    <tr>\n",
       "      <th>34</th>\n",
       "      <td>247</td>\n",
       "      <td>negative</td>\n",
       "      <td>1</td>\n",
       "    </tr>\n",
       "    <tr>\n",
       "      <th>35</th>\n",
       "      <td>248</td>\n",
       "      <td>negative</td>\n",
       "      <td>3</td>\n",
       "    </tr>\n",
       "  </tbody>\n",
       "</table>\n",
       "</div>"
      ],
      "text/plain": [
       "    _trusted_judgments airline_sentiment     0\n",
       "0                    2          negative    14\n",
       "1                    2           neutral     3\n",
       "2                    2          positive     2\n",
       "3                    3          negative  9132\n",
       "4                    3           neutral  3093\n",
       "5                    3          positive  2356\n",
       "6                  210          negative     1\n",
       "7                  211          negative     1\n",
       "8                  215          negative     3\n",
       "9                  217          negative     1\n",
       "10                 217          positive     1\n",
       "11                 219          negative     1\n",
       "12                 221          negative     1\n",
       "13                 222          negative     1\n",
       "14                 223          negative     3\n",
       "15                 224          positive     1\n",
       "16                 225          negative     3\n",
       "17                 228          negative     2\n",
       "18                 228          positive     1\n",
       "19                 229          negative     1\n",
       "20                 229           neutral     1\n",
       "21                 229          positive     1\n",
       "22                 230          negative     1\n",
       "23                 231          negative     1\n",
       "24                 233           neutral     1\n",
       "25                 235          negative     1\n",
       "26                 236           neutral     1\n",
       "27                 239          negative     1\n",
       "28                 240          negative     1\n",
       "29                 241          positive     1\n",
       "30                 242          negative     1\n",
       "31                 243          negative     1\n",
       "32                 244          negative     1\n",
       "33                 245          negative     2\n",
       "34                 247          negative     1\n",
       "35                 248          negative     3"
      ]
     },
     "execution_count": 148,
     "metadata": {},
     "output_type": "execute_result"
    }
   ],
   "source": [
    "trusted = airline.groupby(['_trusted_judgments','airline_sentiment']).size().reset_index()\n",
    "trusted"
   ]
  },
  {
   "cell_type": "code",
   "execution_count": 149,
   "metadata": {},
   "outputs": [
    {
     "data": {
      "text/plain": [
       "<AxesSubplot:xlabel='retweet_count', ylabel='count'>"
      ]
     },
     "execution_count": 149,
     "metadata": {},
     "output_type": "execute_result"
    },
    {
     "data": {
      "image/png": "[encoded data removed]",
      "text/plain": [
       "<Figure size 1440x720 with 1 Axes>"
      ]
     },
     "metadata": {
      "needs_background": "light"
     },
     "output_type": "display_data"
    }
   ],
   "source": [
    "sns.countplot(x='retweet_count', hue='airline_sentiment', data=airline)"
   ]
  },
  {
   "cell_type": "code",
   "execution_count": 150,
   "metadata": {},
   "outputs": [
    {
     "data": {
      "text/html": [
       "<div>\n",
       "<style scoped>\n",
       "    .dataframe tbody tr th:only-of-type {\n",
       "        vertical-align: middle;\n",
       "    }\n",
       "\n",
       "    .dataframe tbody tr th {\n",
       "        vertical-align: top;\n",
       "    }\n",
       "\n",
       "    .dataframe thead th {\n",
       "        text-align: right;\n",
       "    }\n",
       "</style>\n",
       "<table border=\"1\" class=\"dataframe\">\n",
       "  <thead>\n",
       "    <tr style=\"text-align: right;\">\n",
       "      <th></th>\n",
       "      <th>retweet_count</th>\n",
       "      <th>airline_sentiment</th>\n",
       "      <th>0</th>\n",
       "    </tr>\n",
       "  </thead>\n",
       "  <tbody>\n",
       "    <tr>\n",
       "      <th>0</th>\n",
       "      <td>0</td>\n",
       "      <td>negative</td>\n",
       "      <td>8581</td>\n",
       "    </tr>\n",
       "    <tr>\n",
       "      <th>1</th>\n",
       "      <td>0</td>\n",
       "      <td>neutral</td>\n",
       "      <td>3005</td>\n",
       "    </tr>\n",
       "    <tr>\n",
       "      <th>2</th>\n",
       "      <td>0</td>\n",
       "      <td>positive</td>\n",
       "      <td>2287</td>\n",
       "    </tr>\n",
       "    <tr>\n",
       "      <th>3</th>\n",
       "      <td>1</td>\n",
       "      <td>negative</td>\n",
       "      <td>524</td>\n",
       "    </tr>\n",
       "    <tr>\n",
       "      <th>4</th>\n",
       "      <td>1</td>\n",
       "      <td>neutral</td>\n",
       "      <td>63</td>\n",
       "    </tr>\n",
       "    <tr>\n",
       "      <th>5</th>\n",
       "      <td>1</td>\n",
       "      <td>positive</td>\n",
       "      <td>53</td>\n",
       "    </tr>\n",
       "    <tr>\n",
       "      <th>6</th>\n",
       "      <td>2</td>\n",
       "      <td>negative</td>\n",
       "      <td>41</td>\n",
       "    </tr>\n",
       "    <tr>\n",
       "      <th>7</th>\n",
       "      <td>2</td>\n",
       "      <td>neutral</td>\n",
       "      <td>16</td>\n",
       "    </tr>\n",
       "    <tr>\n",
       "      <th>8</th>\n",
       "      <td>2</td>\n",
       "      <td>positive</td>\n",
       "      <td>9</td>\n",
       "    </tr>\n",
       "    <tr>\n",
       "      <th>9</th>\n",
       "      <td>3</td>\n",
       "      <td>negative</td>\n",
       "      <td>12</td>\n",
       "    </tr>\n",
       "    <tr>\n",
       "      <th>10</th>\n",
       "      <td>3</td>\n",
       "      <td>neutral</td>\n",
       "      <td>7</td>\n",
       "    </tr>\n",
       "    <tr>\n",
       "      <th>11</th>\n",
       "      <td>3</td>\n",
       "      <td>positive</td>\n",
       "      <td>3</td>\n",
       "    </tr>\n",
       "    <tr>\n",
       "      <th>12</th>\n",
       "      <td>4</td>\n",
       "      <td>negative</td>\n",
       "      <td>11</td>\n",
       "    </tr>\n",
       "    <tr>\n",
       "      <th>13</th>\n",
       "      <td>4</td>\n",
       "      <td>neutral</td>\n",
       "      <td>2</td>\n",
       "    </tr>\n",
       "    <tr>\n",
       "      <th>14</th>\n",
       "      <td>4</td>\n",
       "      <td>positive</td>\n",
       "      <td>4</td>\n",
       "    </tr>\n",
       "    <tr>\n",
       "      <th>15</th>\n",
       "      <td>5</td>\n",
       "      <td>negative</td>\n",
       "      <td>2</td>\n",
       "    </tr>\n",
       "    <tr>\n",
       "      <th>16</th>\n",
       "      <td>5</td>\n",
       "      <td>neutral</td>\n",
       "      <td>2</td>\n",
       "    </tr>\n",
       "    <tr>\n",
       "      <th>17</th>\n",
       "      <td>5</td>\n",
       "      <td>positive</td>\n",
       "      <td>1</td>\n",
       "    </tr>\n",
       "    <tr>\n",
       "      <th>18</th>\n",
       "      <td>6</td>\n",
       "      <td>neutral</td>\n",
       "      <td>2</td>\n",
       "    </tr>\n",
       "    <tr>\n",
       "      <th>19</th>\n",
       "      <td>6</td>\n",
       "      <td>positive</td>\n",
       "      <td>1</td>\n",
       "    </tr>\n",
       "    <tr>\n",
       "      <th>20</th>\n",
       "      <td>7</td>\n",
       "      <td>negative</td>\n",
       "      <td>2</td>\n",
       "    </tr>\n",
       "    <tr>\n",
       "      <th>21</th>\n",
       "      <td>7</td>\n",
       "      <td>positive</td>\n",
       "      <td>1</td>\n",
       "    </tr>\n",
       "    <tr>\n",
       "      <th>22</th>\n",
       "      <td>8</td>\n",
       "      <td>positive</td>\n",
       "      <td>1</td>\n",
       "    </tr>\n",
       "    <tr>\n",
       "      <th>23</th>\n",
       "      <td>9</td>\n",
       "      <td>positive</td>\n",
       "      <td>1</td>\n",
       "    </tr>\n",
       "    <tr>\n",
       "      <th>24</th>\n",
       "      <td>11</td>\n",
       "      <td>positive</td>\n",
       "      <td>1</td>\n",
       "    </tr>\n",
       "    <tr>\n",
       "      <th>25</th>\n",
       "      <td>15</td>\n",
       "      <td>neutral</td>\n",
       "      <td>1</td>\n",
       "    </tr>\n",
       "    <tr>\n",
       "      <th>26</th>\n",
       "      <td>18</td>\n",
       "      <td>negative</td>\n",
       "      <td>1</td>\n",
       "    </tr>\n",
       "    <tr>\n",
       "      <th>27</th>\n",
       "      <td>22</td>\n",
       "      <td>negative</td>\n",
       "      <td>1</td>\n",
       "    </tr>\n",
       "    <tr>\n",
       "      <th>28</th>\n",
       "      <td>22</td>\n",
       "      <td>positive</td>\n",
       "      <td>1</td>\n",
       "    </tr>\n",
       "    <tr>\n",
       "      <th>29</th>\n",
       "      <td>28</td>\n",
       "      <td>neutral</td>\n",
       "      <td>1</td>\n",
       "    </tr>\n",
       "    <tr>\n",
       "      <th>30</th>\n",
       "      <td>31</td>\n",
       "      <td>negative</td>\n",
       "      <td>1</td>\n",
       "    </tr>\n",
       "    <tr>\n",
       "      <th>31</th>\n",
       "      <td>32</td>\n",
       "      <td>negative</td>\n",
       "      <td>1</td>\n",
       "    </tr>\n",
       "    <tr>\n",
       "      <th>32</th>\n",
       "      <td>44</td>\n",
       "      <td>negative</td>\n",
       "      <td>1</td>\n",
       "    </tr>\n",
       "  </tbody>\n",
       "</table>\n",
       "</div>"
      ],
      "text/plain": [
       "    retweet_count airline_sentiment     0\n",
       "0               0          negative  8581\n",
       "1               0           neutral  3005\n",
       "2               0          positive  2287\n",
       "3               1          negative   524\n",
       "4               1           neutral    63\n",
       "5               1          positive    53\n",
       "6               2          negative    41\n",
       "7               2           neutral    16\n",
       "8               2          positive     9\n",
       "9               3          negative    12\n",
       "10              3           neutral     7\n",
       "11              3          positive     3\n",
       "12              4          negative    11\n",
       "13              4           neutral     2\n",
       "14              4          positive     4\n",
       "15              5          negative     2\n",
       "16              5           neutral     2\n",
       "17              5          positive     1\n",
       "18              6           neutral     2\n",
       "19              6          positive     1\n",
       "20              7          negative     2\n",
       "21              7          positive     1\n",
       "22              8          positive     1\n",
       "23              9          positive     1\n",
       "24             11          positive     1\n",
       "25             15           neutral     1\n",
       "26             18          negative     1\n",
       "27             22          negative     1\n",
       "28             22          positive     1\n",
       "29             28           neutral     1\n",
       "30             31          negative     1\n",
       "31             32          negative     1\n",
       "32             44          negative     1"
      ]
     },
     "execution_count": 150,
     "metadata": {},
     "output_type": "execute_result"
    }
   ],
   "source": [
    "retweet = airline.groupby(['retweet_count','airline_sentiment']).size().reset_index()\n",
    "retweet"
   ]
  },
  {
   "cell_type": "markdown",
   "metadata": {},
   "source": [
    "De verhoudingen tussen negatieve, positieve en neutrale sentimenten verschilt nagenoeg niet voor de verschillende waarden van de kolommen '_golden', '_trusted_judgments'. Op basis van dit gegeven worden deze kolommen verwijderd.\n",
    "\n",
    "Voor het feature 'retweet_count' lijkt de verhouding tussen negatieve en positieve tweets te verkleinen, naarmate er meer retweets zijn. Het nadeel van dit feature is dat er enkele combinaties tussen sentiment en aantal retweets niet bestaan. Laplacian smoothing moet voor deze combinaties dan compenseren. In verdere modellen wordt er straks getest of dit feature kan helpen bij sentiment analyse.\n",
    "\n",
    "De kolom 'tweet_location' bevat vreemde waarden. Deze kolom zal bijgevolg ook worde geschrapt.\n",
    "\n",
    "Hieronder volgt een overzicht van de overgebleven dataset."
   ]
  },
  {
   "cell_type": "code",
   "execution_count": 151,
   "metadata": {},
   "outputs": [
    {
     "data": {
      "text/html": [
       "<div>\n",
       "<style scoped>\n",
       "    .dataframe tbody tr th:only-of-type {\n",
       "        vertical-align: middle;\n",
       "    }\n",
       "\n",
       "    .dataframe tbody tr th {\n",
       "        vertical-align: top;\n",
       "    }\n",
       "\n",
       "    .dataframe thead th {\n",
       "        text-align: right;\n",
       "    }\n",
       "</style>\n",
       "<table border=\"1\" class=\"dataframe\">\n",
       "  <thead>\n",
       "    <tr style=\"text-align: right;\">\n",
       "      <th></th>\n",
       "      <th>airline_sentiment</th>\n",
       "      <th>airline</th>\n",
       "      <th>retweet_count</th>\n",
       "      <th>text</th>\n",
       "      <th>word_count</th>\n",
       "      <th>length</th>\n",
       "    </tr>\n",
       "  </thead>\n",
       "  <tbody>\n",
       "    <tr>\n",
       "      <th>0</th>\n",
       "      <td>neutral</td>\n",
       "      <td>Virgin America</td>\n",
       "      <td>0</td>\n",
       "      <td>@VirginAmerica What @dhepburn said.</td>\n",
       "      <td>4</td>\n",
       "      <td>35</td>\n",
       "    </tr>\n",
       "    <tr>\n",
       "      <th>1</th>\n",
       "      <td>positive</td>\n",
       "      <td>Virgin America</td>\n",
       "      <td>0</td>\n",
       "      <td>@VirginAmerica plus you've added commercials to the experience... tacky.</td>\n",
       "      <td>9</td>\n",
       "      <td>72</td>\n",
       "    </tr>\n",
       "    <tr>\n",
       "      <th>2</th>\n",
       "      <td>neutral</td>\n",
       "      <td>Virgin America</td>\n",
       "      <td>0</td>\n",
       "      <td>@VirginAmerica I didn't today... Must mean I need to take another trip!</td>\n",
       "      <td>12</td>\n",
       "      <td>71</td>\n",
       "    </tr>\n",
       "    <tr>\n",
       "      <th>3</th>\n",
       "      <td>negative</td>\n",
       "      <td>Virgin America</td>\n",
       "      <td>0</td>\n",
       "      <td>@VirginAmerica it's really aggressive to blast obnoxious \"entertainment\" in your guests' faces &amp;amp; they have little recourse</td>\n",
       "      <td>17</td>\n",
       "      <td>126</td>\n",
       "    </tr>\n",
       "    <tr>\n",
       "      <th>4</th>\n",
       "      <td>negative</td>\n",
       "      <td>Virgin America</td>\n",
       "      <td>0</td>\n",
       "      <td>@VirginAmerica and it's a really big bad thing about it</td>\n",
       "      <td>10</td>\n",
       "      <td>55</td>\n",
       "    </tr>\n",
       "  </tbody>\n",
       "</table>\n",
       "</div>"
      ],
      "text/plain": [
       "  airline_sentiment         airline  retweet_count  \\\n",
       "0           neutral  Virgin America              0   \n",
       "1          positive  Virgin America              0   \n",
       "2           neutral  Virgin America              0   \n",
       "3          negative  Virgin America              0   \n",
       "4          negative  Virgin America              0   \n",
       "\n",
       "                                                                                                                             text  \\\n",
       "0                                                                                             @VirginAmerica What @dhepburn said.   \n",
       "1                                                        @VirginAmerica plus you've added commercials to the experience... tacky.   \n",
       "2                                                         @VirginAmerica I didn't today... Must mean I need to take another trip!   \n",
       "3  @VirginAmerica it's really aggressive to blast obnoxious \"entertainment\" in your guests' faces &amp; they have little recourse   \n",
       "4                                                                         @VirginAmerica and it's a really big bad thing about it   \n",
       "\n",
       "   word_count  length  \n",
       "0           4      35  \n",
       "1           9      72  \n",
       "2          12      71  \n",
       "3          17     126  \n",
       "4          10      55  "
      ]
     },
     "execution_count": 151,
     "metadata": {},
     "output_type": "execute_result"
    }
   ],
   "source": [
    "column_drop2 = ['_golden', '_trusted_judgments']\n",
    "airline.drop(column_drop2, axis=1, inplace=True)\n",
    "airline.head()"
   ]
  },
  {
   "cell_type": "code",
   "execution_count": 152,
   "metadata": {},
   "outputs": [
    {
     "name": "stdout",
     "output_type": "stream",
     "text": [
      "Er zijn geen ontbrekende waarden\n"
     ]
    }
   ],
   "source": [
    "ismissing(airline)"
   ]
  },
  {
   "cell_type": "markdown",
   "metadata": {
    "tags": []
   },
   "source": [
    "#### Opkuisen van de tweets\n",
    "In de volgende subsectie worden de tweets opgekuist. Hiervoor wordt de gedefinieerde functie uit de cursus toegepast (`text_preprocessing(text, language, minWordSize)`)"
   ]
  },
  {
   "cell_type": "code",
   "execution_count": 153,
   "metadata": {},
   "outputs": [
    {
     "data": {
      "text/html": [
       "<div>\n",
       "<style scoped>\n",
       "    .dataframe tbody tr th:only-of-type {\n",
       "        vertical-align: middle;\n",
       "    }\n",
       "\n",
       "    .dataframe tbody tr th {\n",
       "        vertical-align: top;\n",
       "    }\n",
       "\n",
       "    .dataframe thead th {\n",
       "        text-align: right;\n",
       "    }\n",
       "</style>\n",
       "<table border=\"1\" class=\"dataframe\">\n",
       "  <thead>\n",
       "    <tr style=\"text-align: right;\">\n",
       "      <th></th>\n",
       "      <th>airline_sentiment</th>\n",
       "      <th>airline</th>\n",
       "      <th>retweet_count</th>\n",
       "      <th>word_count</th>\n",
       "      <th>text_preprocessed</th>\n",
       "      <th>length</th>\n",
       "    </tr>\n",
       "  </thead>\n",
       "  <tbody>\n",
       "    <tr>\n",
       "      <th>0</th>\n",
       "      <td>neutral</td>\n",
       "      <td>Virgin America</td>\n",
       "      <td>0</td>\n",
       "      <td>4</td>\n",
       "      <td>virginamerica dhepburn said</td>\n",
       "      <td>35</td>\n",
       "    </tr>\n",
       "    <tr>\n",
       "      <th>1</th>\n",
       "      <td>positive</td>\n",
       "      <td>Virgin America</td>\n",
       "      <td>0</td>\n",
       "      <td>9</td>\n",
       "      <td>virginamerica plus ad commerci experi tacki</td>\n",
       "      <td>72</td>\n",
       "    </tr>\n",
       "    <tr>\n",
       "      <th>2</th>\n",
       "      <td>neutral</td>\n",
       "      <td>Virgin America</td>\n",
       "      <td>0</td>\n",
       "      <td>12</td>\n",
       "      <td>virginamerica today must mean need take anoth trip</td>\n",
       "      <td>71</td>\n",
       "    </tr>\n",
       "    <tr>\n",
       "      <th>3</th>\n",
       "      <td>negative</td>\n",
       "      <td>Virgin America</td>\n",
       "      <td>0</td>\n",
       "      <td>17</td>\n",
       "      <td>virginamerica realli aggress blast obnoxi entertain guest face littl recours</td>\n",
       "      <td>126</td>\n",
       "    </tr>\n",
       "    <tr>\n",
       "      <th>4</th>\n",
       "      <td>negative</td>\n",
       "      <td>Virgin America</td>\n",
       "      <td>0</td>\n",
       "      <td>10</td>\n",
       "      <td>virginamerica realli big bad thing</td>\n",
       "      <td>55</td>\n",
       "    </tr>\n",
       "  </tbody>\n",
       "</table>\n",
       "</div>"
      ],
      "text/plain": [
       "  airline_sentiment         airline  retweet_count  word_count  \\\n",
       "0           neutral  Virgin America              0           4   \n",
       "1          positive  Virgin America              0           9   \n",
       "2           neutral  Virgin America              0          12   \n",
       "3          negative  Virgin America              0          17   \n",
       "4          negative  Virgin America              0          10   \n",
       "\n",
       "                                                                text_preprocessed  \\\n",
       "0                                                    virginamerica dhepburn said    \n",
       "1                                    virginamerica plus ad commerci experi tacki    \n",
       "2                             virginamerica today must mean need take anoth trip    \n",
       "3   virginamerica realli aggress blast obnoxi entertain guest face littl recours    \n",
       "4                                             virginamerica realli big bad thing    \n",
       "\n",
       "   length  \n",
       "0      35  \n",
       "1      72  \n",
       "2      71  \n",
       "3     126  \n",
       "4      55  "
      ]
     },
     "execution_count": 153,
     "metadata": {},
     "output_type": "execute_result"
    }
   ],
   "source": [
    "language = 'english'\n",
    "minWordLength = 2\n",
    "airline.insert(airline.columns.size-1,'text_preprocessed', airline.text.apply(text_preprocessing))\n",
    "airline.drop('text', axis=1, inplace=True)\n",
    "airline.head()"
   ]
  },
  {
   "cell_type": "markdown",
   "metadata": {},
   "source": [
    "#### Splitsen van de dataset\n",
    "Hierboven worden de eerste 5 rijen uit de dataset met opgekuiste tweets weergegeven.\n",
    "\n",
    "In een volgende stap wordt de target 'airline_sentiment' gescheiden van de features. De features worden onderling eveneens gescheiden om achteraf in de modellen het belang van 'airline' en 'retweet_count' te onderzoeken."
   ]
  },
  {
   "cell_type": "code",
   "execution_count": 159,
   "metadata": {},
   "outputs": [],
   "source": [
    "y = airline['airline_sentiment'].values\n",
    "airlines = airline['airline'].values\n",
    "retweet_counts = airline['retweet_count'].values\n",
    "X = airline.text_preprocessed\n",
    "\n",
    "X_train, X_test, y_train, y_test = train_test_split(X, y, test_size=3000, random_state=0)"
   ]
  },
  {
   "cell_type": "markdown",
   "metadata": {},
   "source": [
    "#### Bag-of-words model\n",
    "In de volgende subsectie wordt door middel van de CountVectorizer en TfidfTransformer een bag-of-words model aangemaakt."
   ]
  },
  {
   "cell_type": "code",
   "execution_count": 160,
   "metadata": {
    "jp-MarkdownHeadingCollapsed": true,
    "tags": []
   },
   "outputs": [],
   "source": [
    "# Count vectorizer voor elke enkel text\n",
    "countvect = CountVectorizer()\n",
    "X_train_cv = countvect.fit_transform(X_train)\n",
    "X_test_cv = countvect.transform(X_test)\n",
    "\n",
    "# TfidfTransformer\n",
    "tfidf = TfidfTransformer(use_idf=True)\n",
    "tfidf.fit(X_train_cv)\n",
    "X_train_tf = tfidf.transform(X_train_cv)\n",
    "X_test_tf = tfidf.transform(X_test_cv)\n"
   ]
  },
  {
   "cell_type": "markdown",
   "metadata": {},
   "source": [
    "### Trainen van classifiers\n",
    "In de volgende 3 codeblokken worden achtereenvolgens Logistische regressie-, SVM- en Naïve Bayesmodellen getraind met hyperparameter tuning en cross-validation op basis van Grid Search. Na deze 3 code blokken wordt een samenvattende dataframe getoond met de metrics van de beste modellen en de berekeningstijd."
   ]
  },
  {
   "cell_type": "code",
   "execution_count": 163,
   "metadata": {},
   "outputs": [],
   "source": [
    "# Trainen van de classifiers (naive bayes, logistic regression, SVM)\n",
    "# Initiate models\n",
    "clf1 = LogisticRegression(class_weight='balanced', max_iter=10000)\n",
    "clf2 = SVC(class_weight='balanced')\n",
    "clf3 = MultinomialNB()"
   ]
  },
  {
   "cell_type": "code",
   "execution_count": 164,
   "metadata": {},
   "outputs": [],
   "source": [
    "# Initiate grids\n",
    "param1 = {\"C\": np.logspace(-2,3,10)}\n",
    "\n",
    "param2 =[\n",
    "    {'kernel': ['linear'], 'C':np.logspace(-3,3,7)},\n",
    "    {'kernel': ['rbf'], 'C': np.logspace(-3,3,7), 'gamma': [0.0001, 0.001, 0.01, 0.1, 0.2]},\n",
    "    {'kernel': ['poly'], 'C': np.logspace(-3,3,7)}\n",
    "]\n",
    "\n",
    "param3 = {}\n",
    "param3['alpha'] = np.logspace(-3,2,6)"
   ]
  },
  {
   "cell_type": "code",
   "execution_count": 165,
   "metadata": {},
   "outputs": [
    {
     "name": "stdout",
     "output_type": "stream",
     "text": [
      "Fitting 8 folds for each of 10 candidates, totalling 80 fits\n",
      "Best parameters:\t{'C': 1.6681005372000592}\n",
      "Best score: \t0.7625429553264604\n",
      "Confusion matrix\n"
     ]
    },
    {
     "data": {
      "image/png": "[encoded data removed]",
      "text/plain": [
       "<Figure size 1440x720 with 2 Axes>"
      ]
     },
     "metadata": {
      "needs_background": "light"
     },
     "output_type": "display_data"
    },
    {
     "name": "stdout",
     "output_type": "stream",
     "text": [
      "              precision    recall  f1-score   support\n",
      "\n",
      "    negative       0.89      0.79      0.84      1915\n",
      "     neutral       0.53      0.69      0.60       628\n",
      "    positive       0.65      0.71      0.68       457\n",
      "\n",
      "    accuracy                           0.76      3000\n",
      "   macro avg       0.69      0.73      0.71      3000\n",
      "weighted avg       0.78      0.76      0.77      3000\n",
      "\n",
      "Berekeningstijd zonder metrics: 89.255s\n",
      "Berekeningstijd per fit: 1.116s\n"
     ]
    }
   ],
   "source": [
    "# Logistic regression met hyperparametertuning en cross validation (grid search)\n",
    "metrix_columns = ['Classifier', 'Accuracy', 'F1-score', 'Berekeningstijd', 'Berekeningstijd per fit']\n",
    "metrix_arr = []\n",
    "\n",
    "start_clf1 = timeit.default_timer()\n",
    "\n",
    "clf1_gs = GridSearchCV(clf1, param1, cv=8, n_jobs=-1, scoring='accuracy', verbose=1)\n",
    "clf1_gs.fit(X_train_tf, y_train)\n",
    "\n",
    "stop_clf1 = timeit.default_timer()\n",
    "diff_clf1 = stop_clf1 - start_clf1\n",
    "diff_fit_clf1 = diff_clf1 / (len(ParameterGrid(param1)) * 8)\n",
    "\n",
    "# Best parameters and score\n",
    "print(f\"Best parameters:\\t{clf1_gs.best_params_}\")\n",
    "print(f\"Best score: \\t{clf1_gs.best_score_}\")\n",
    "\n",
    "# Confusion matrix\n",
    "print(\"Confusion matrix\")\n",
    "clf1_pred = (clf1_gs.predict(X_test_tf))\n",
    "ConfusionMatrixDisplay.from_predictions(y_test, clf1_pred)  \n",
    "plt.show()\n",
    "\n",
    "# Classification report\n",
    "print(classification_report(y_test,clf1_pred))\n",
    "clf1_accuracy = accuracy_score(y_test,clf1_pred)\n",
    "clf1_f1 = f1_score(y_test,clf1_pred, average='weighted')\n",
    "\n",
    "print(f'Berekeningstijd zonder metrics: {diff_clf1:.3f}s') # On Amazon SageMaker Studio Lab\n",
    "print(f'Berekeningstijd per fit: {diff_fit_clf1:.3f}s') # On Amazon SageMaker Studio Lab\n",
    "\n",
    "metrix_row_clf1 = ['Logistische Regressie', round(clf1_accuracy, 2), round(clf1_f1, 2), round(diff_clf1, 3), round(diff_fit_clf1, 3)]"
   ]
  },
  {
   "cell_type": "code",
   "execution_count": 27,
   "metadata": {},
   "outputs": [
    {
     "name": "stdout",
     "output_type": "stream",
     "text": [
      "Fitting 8 folds for each of 49 candidates, totalling 392 fits\n",
      "Best parameters:\t{'C': 100.0, 'gamma': 0.2, 'kernel': 'rbf'}\n",
      "Best score: \t0.7671821305841924\n",
      "Confusion matrix\n"
     ]
    },
    {
     "data": {
      "image/png": "[encoded data removed]",
      "text/plain": [
       "<Figure size 1440x720 with 2 Axes>"
      ]
     },
     "metadata": {
      "needs_background": "light"
     },
     "output_type": "display_data"
    },
    {
     "name": "stdout",
     "output_type": "stream",
     "text": [
      "              precision    recall  f1-score   support\n",
      "\n",
      "    negative       0.85      0.86      0.86      1915\n",
      "     neutral       0.57      0.57      0.57       628\n",
      "    positive       0.70      0.63      0.67       457\n",
      "\n",
      "    accuracy                           0.77      3000\n",
      "   macro avg       0.70      0.69      0.70      3000\n",
      "weighted avg       0.77      0.77      0.77      3000\n",
      "\n",
      "Berekeningstijd zonder metrics: 2376.093s\n",
      "Berekeningstijd per fit: 6.061s\n"
     ]
    }
   ],
   "source": [
    "# SVM met hyperparametertuning en cross validation (grid search)\n",
    "start_clf2 = timeit.default_timer()\n",
    "\n",
    "clf2_gs = GridSearchCV(clf2, param2, cv=8, n_jobs=-1, scoring='accuracy', verbose=1)\n",
    "clf2_gs.fit(X_train_tf, y_train)\n",
    "\n",
    "stop_clf2 = timeit.default_timer()\n",
    "diff_clf2 = stop_clf2 - start_clf2\n",
    "diff_fit_clf2 = diff_clf2 / (len(ParameterGrid(param2)) * 8)\n",
    "\n",
    "# Best parameters and score\n",
    "print(f\"Best parameters:\\t{clf2_gs.best_params_}\")\n",
    "print(f\"Best score: \\t{clf2_gs.best_score_}\")\n",
    "\n",
    "# Confusion matrix\n",
    "print(\"Confusion matrix\")\n",
    "clf2_pred = (clf2_gs.predict(X_test_tf))\n",
    "ConfusionMatrixDisplay.from_predictions(y_test, clf2_pred)  \n",
    "plt.show()\n",
    "\n",
    "# Classification report\n",
    "print(classification_report(y_test,clf2_pred))\n",
    "clf2_accuracy = accuracy_score(y_test,clf2_pred)\n",
    "clf2_f1 = f1_score(y_test,clf2_pred, average='weighted')\n",
    "\n",
    "print(f'Berekeningstijd zonder metrics: {diff_clf2:.3f}s') # On Amazon SageMaker Studio Lab\n",
    "print(f'Berekeningstijd per fit: {diff_fit_clf2:.3f}s') # On Amazon SageMaker Studio Lab\n",
    "\n",
    "metrix_row_clf2 = ['Support Vector Classifier', round(clf2_accuracy, 2), round(clf2_f1, 2), round(diff_clf2, 3), round(diff_fit_clf2, 3)]"
   ]
  },
  {
   "cell_type": "code",
   "execution_count": 168,
   "metadata": {},
   "outputs": [
    {
     "name": "stdout",
     "output_type": "stream",
     "text": [
      "Fitting 8 folds for each of 6 candidates, totalling 48 fits\n",
      "Best parameters:\t{'alpha': 0.1}\n",
      "Best score: \t0.738745704467354\n",
      "Confusion matrix\n"
     ]
    },
    {
     "data": {
      "image/png": "[encoded data removed]",
      "text/plain": [
       "<Figure size 1440x720 with 2 Axes>"
      ]
     },
     "metadata": {
      "needs_background": "light"
     },
     "output_type": "display_data"
    },
    {
     "name": "stdout",
     "output_type": "stream",
     "text": [
      "              precision    recall  f1-score   support\n",
      "\n",
      "    negative       0.76      0.97      0.85      1915\n",
      "     neutral       0.68      0.34      0.45       628\n",
      "    positive       0.79      0.43      0.56       457\n",
      "\n",
      "    accuracy                           0.75      3000\n",
      "   macro avg       0.74      0.58      0.62      3000\n",
      "weighted avg       0.75      0.75      0.72      3000\n",
      "\n",
      "Berekeningstijd zonder metrics: 0.373s\n",
      "Berekeningstijd per fit: 0.008s\n"
     ]
    }
   ],
   "source": [
    "# Naive Bayes met hyperparametertuning en cross validation (grid search)\n",
    "start_clf3 = timeit.default_timer()\n",
    "\n",
    "clf3_gs = GridSearchCV(clf3, param3, cv=8, n_jobs=-1, scoring='accuracy', verbose=1)\n",
    "clf3_gs.fit(X_train_tf, y_train)\n",
    "\n",
    "stop_clf3 = timeit.default_timer()\n",
    "diff_clf3 = stop_clf3 - start_clf3\n",
    "diff_fit_clf3 = diff_clf3 / (len(ParameterGrid(param3)) * 8)\n",
    "\n",
    "# Best parameters and score\n",
    "print(f\"Best parameters:\\t{clf3_gs.best_params_}\")\n",
    "print(f\"Best score: \\t{clf3_gs.best_score_}\")\n",
    "\n",
    "# Confusion matrix\n",
    "print(\"Confusion matrix\")\n",
    "clf3_pred = (clf3_gs.predict(X_test_tf))\n",
    "ConfusionMatrixDisplay.from_predictions(y_test, clf3_pred)  \n",
    "plt.show()\n",
    "\n",
    "# Classification report\n",
    "print(classification_report(y_test,clf3_pred))\n",
    "clf3_accuracy = accuracy_score(y_test,clf3_pred)\n",
    "clf3_f1 = f1_score(y_test,clf3_pred, average='weighted')\n",
    "\n",
    "print(f'Berekeningstijd zonder metrics: {diff_clf3:.3f}s') # On Amazon SageMaker Studio Lab\n",
    "print(f'Berekeningstijd per fit: {diff_fit_clf3:.3f}s') # On Amazon SageMaker Studio Lab\n",
    "\n",
    "metrix_row_clf3 = ['Naïve Bayes', round(clf3_accuracy, 2), round(clf3_accuracy, 2), round(diff_clf3, 3), round(diff_fit_clf3, 3)]"
   ]
  },
  {
   "cell_type": "markdown",
   "metadata": {},
   "source": [
    "Welke classifier heeft jouw voorkeur? Beargumenteer in termen van accuracy, f1-score maar ook de berekeningstijd.\n"
   ]
  },
  {
   "cell_type": "code",
   "execution_count": 169,
   "metadata": {},
   "outputs": [
    {
     "data": {
      "text/html": [
       "<div>\n",
       "<style scoped>\n",
       "    .dataframe tbody tr th:only-of-type {\n",
       "        vertical-align: middle;\n",
       "    }\n",
       "\n",
       "    .dataframe tbody tr th {\n",
       "        vertical-align: top;\n",
       "    }\n",
       "\n",
       "    .dataframe thead th {\n",
       "        text-align: right;\n",
       "    }\n",
       "</style>\n",
       "<table border=\"1\" class=\"dataframe\">\n",
       "  <thead>\n",
       "    <tr style=\"text-align: right;\">\n",
       "      <th></th>\n",
       "      <th>Classifier</th>\n",
       "      <th>Accuracy</th>\n",
       "      <th>F1-score</th>\n",
       "      <th>Berekeningstijd</th>\n",
       "      <th>Berekeningstijd per fit</th>\n",
       "    </tr>\n",
       "  </thead>\n",
       "  <tbody>\n",
       "    <tr>\n",
       "      <th>0</th>\n",
       "      <td>Logistische Regressie</td>\n",
       "      <td>0.76</td>\n",
       "      <td>0.77</td>\n",
       "      <td>89.255</td>\n",
       "      <td>1.116</td>\n",
       "    </tr>\n",
       "    <tr>\n",
       "      <th>1</th>\n",
       "      <td>Support Vector Classifier</td>\n",
       "      <td>0.77</td>\n",
       "      <td>0.77</td>\n",
       "      <td>2376.093</td>\n",
       "      <td>6.061</td>\n",
       "    </tr>\n",
       "    <tr>\n",
       "      <th>2</th>\n",
       "      <td>Naïve Bayes</td>\n",
       "      <td>0.75</td>\n",
       "      <td>0.75</td>\n",
       "      <td>0.373</td>\n",
       "      <td>0.008</td>\n",
       "    </tr>\n",
       "  </tbody>\n",
       "</table>\n",
       "</div>"
      ],
      "text/plain": [
       "                  Classifier  Accuracy  F1-score  Berekeningstijd  \\\n",
       "0      Logistische Regressie      0.76      0.77           89.255   \n",
       "1  Support Vector Classifier      0.77      0.77         2376.093   \n",
       "2                Naïve Bayes      0.75      0.75            0.373   \n",
       "\n",
       "   Berekeningstijd per fit  \n",
       "0                    1.116  \n",
       "1                    6.061  \n",
       "2                    0.008  "
      ]
     },
     "execution_count": 169,
     "metadata": {},
     "output_type": "execute_result"
    }
   ],
   "source": [
    "# Antwoord\n",
    "metrix_arr = []\n",
    "metrix_arr.append(metrix_row_clf1)\n",
    "metrix_arr.append(metrix_row_clf2)\n",
    "metrix_arr.append(metrix_row_clf3)\n",
    "metrix_df = pd.DataFrame(metrix_arr, columns=metrix_columns)\n",
    "metrix_df"
   ]
  },
  {
   "cell_type": "code",
   "execution_count": 170,
   "metadata": {},
   "outputs": [
    {
     "data": {
      "text/html": [
       "<style type=\"text/css\">\n",
       "#T_bd89c_row0_col2, #T_bd89c_row1_col1, #T_bd89c_row1_col2 {\n",
       "  background-color: green;\n",
       "}\n",
       "</style>\n",
       "<table id=\"T_bd89c_\">\n",
       "  <thead>\n",
       "    <tr>\n",
       "      <th class=\"blank level0\" >&nbsp;</th>\n",
       "      <th class=\"col_heading level0 col0\" >Classifier</th>\n",
       "      <th class=\"col_heading level0 col1\" >Accuracy</th>\n",
       "      <th class=\"col_heading level0 col2\" >F1-score</th>\n",
       "      <th class=\"col_heading level0 col3\" >Berekeningstijd</th>\n",
       "      <th class=\"col_heading level0 col4\" >Berekeningstijd per fit</th>\n",
       "    </tr>\n",
       "  </thead>\n",
       "  <tbody>\n",
       "    <tr>\n",
       "      <th id=\"T_bd89c_level0_row0\" class=\"row_heading level0 row0\" >0</th>\n",
       "      <td id=\"T_bd89c_row0_col0\" class=\"data row0 col0\" >Logistische Regressie</td>\n",
       "      <td id=\"T_bd89c_row0_col1\" class=\"data row0 col1\" >0.760000</td>\n",
       "      <td id=\"T_bd89c_row0_col2\" class=\"data row0 col2\" >0.770000</td>\n",
       "      <td id=\"T_bd89c_row0_col3\" class=\"data row0 col3\" >89.255000</td>\n",
       "      <td id=\"T_bd89c_row0_col4\" class=\"data row0 col4\" >1.116000</td>\n",
       "    </tr>\n",
       "    <tr>\n",
       "      <th id=\"T_bd89c_level0_row1\" class=\"row_heading level0 row1\" >1</th>\n",
       "      <td id=\"T_bd89c_row1_col0\" class=\"data row1 col0\" >Support Vector Classifier</td>\n",
       "      <td id=\"T_bd89c_row1_col1\" class=\"data row1 col1\" >0.770000</td>\n",
       "      <td id=\"T_bd89c_row1_col2\" class=\"data row1 col2\" >0.770000</td>\n",
       "      <td id=\"T_bd89c_row1_col3\" class=\"data row1 col3\" >2376.093000</td>\n",
       "      <td id=\"T_bd89c_row1_col4\" class=\"data row1 col4\" >6.061000</td>\n",
       "    </tr>\n",
       "    <tr>\n",
       "      <th id=\"T_bd89c_level0_row2\" class=\"row_heading level0 row2\" >2</th>\n",
       "      <td id=\"T_bd89c_row2_col0\" class=\"data row2 col0\" >Naïve Bayes</td>\n",
       "      <td id=\"T_bd89c_row2_col1\" class=\"data row2 col1\" >0.750000</td>\n",
       "      <td id=\"T_bd89c_row2_col2\" class=\"data row2 col2\" >0.750000</td>\n",
       "      <td id=\"T_bd89c_row2_col3\" class=\"data row2 col3\" >0.373000</td>\n",
       "      <td id=\"T_bd89c_row2_col4\" class=\"data row2 col4\" >0.008000</td>\n",
       "    </tr>\n",
       "  </tbody>\n",
       "</table>\n"
      ],
      "text/plain": [
       "<pandas.io.formats.style.Styler at 0x160c961cc40>"
      ]
     },
     "execution_count": 170,
     "metadata": {},
     "output_type": "execute_result"
    }
   ],
   "source": [
    "metrix_df.style.highlight_max(subset = ['Accuracy', 'F1-score'], color = 'green', axis = 0)\n"
   ]
  },
  {
   "cell_type": "code",
   "execution_count": 171,
   "metadata": {},
   "outputs": [
    {
     "data": {
      "text/html": [
       "<style type=\"text/css\">\n",
       "#T_448cd_row2_col3, #T_448cd_row2_col4 {\n",
       "  background-color: green;\n",
       "}\n",
       "</style>\n",
       "<table id=\"T_448cd_\">\n",
       "  <thead>\n",
       "    <tr>\n",
       "      <th class=\"blank level0\" >&nbsp;</th>\n",
       "      <th class=\"col_heading level0 col0\" >Classifier</th>\n",
       "      <th class=\"col_heading level0 col1\" >Accuracy</th>\n",
       "      <th class=\"col_heading level0 col2\" >F1-score</th>\n",
       "      <th class=\"col_heading level0 col3\" >Berekeningstijd</th>\n",
       "      <th class=\"col_heading level0 col4\" >Berekeningstijd per fit</th>\n",
       "    </tr>\n",
       "  </thead>\n",
       "  <tbody>\n",
       "    <tr>\n",
       "      <th id=\"T_448cd_level0_row0\" class=\"row_heading level0 row0\" >0</th>\n",
       "      <td id=\"T_448cd_row0_col0\" class=\"data row0 col0\" >Logistische Regressie</td>\n",
       "      <td id=\"T_448cd_row0_col1\" class=\"data row0 col1\" >0.760000</td>\n",
       "      <td id=\"T_448cd_row0_col2\" class=\"data row0 col2\" >0.770000</td>\n",
       "      <td id=\"T_448cd_row0_col3\" class=\"data row0 col3\" >89.255000</td>\n",
       "      <td id=\"T_448cd_row0_col4\" class=\"data row0 col4\" >1.116000</td>\n",
       "    </tr>\n",
       "    <tr>\n",
       "      <th id=\"T_448cd_level0_row1\" class=\"row_heading level0 row1\" >1</th>\n",
       "      <td id=\"T_448cd_row1_col0\" class=\"data row1 col0\" >Support Vector Classifier</td>\n",
       "      <td id=\"T_448cd_row1_col1\" class=\"data row1 col1\" >0.770000</td>\n",
       "      <td id=\"T_448cd_row1_col2\" class=\"data row1 col2\" >0.770000</td>\n",
       "      <td id=\"T_448cd_row1_col3\" class=\"data row1 col3\" >2376.093000</td>\n",
       "      <td id=\"T_448cd_row1_col4\" class=\"data row1 col4\" >6.061000</td>\n",
       "    </tr>\n",
       "    <tr>\n",
       "      <th id=\"T_448cd_level0_row2\" class=\"row_heading level0 row2\" >2</th>\n",
       "      <td id=\"T_448cd_row2_col0\" class=\"data row2 col0\" >Naïve Bayes</td>\n",
       "      <td id=\"T_448cd_row2_col1\" class=\"data row2 col1\" >0.750000</td>\n",
       "      <td id=\"T_448cd_row2_col2\" class=\"data row2 col2\" >0.750000</td>\n",
       "      <td id=\"T_448cd_row2_col3\" class=\"data row2 col3\" >0.373000</td>\n",
       "      <td id=\"T_448cd_row2_col4\" class=\"data row2 col4\" >0.008000</td>\n",
       "    </tr>\n",
       "  </tbody>\n",
       "</table>\n"
      ],
      "text/plain": [
       "<pandas.io.formats.style.Styler at 0x160c961c640>"
      ]
     },
     "execution_count": 171,
     "metadata": {},
     "output_type": "execute_result"
    }
   ],
   "source": [
    "metrix_df.style.highlight_min(subset = ['Berekeningstijd', 'Berekeningstijd per fit'], color = 'green', axis = 0)"
   ]
  },
  {
   "cell_type": "markdown",
   "metadata": {},
   "source": [
    "In de geteste modellen zijn logistische regressie en SVM gelijkaardig met betrekking tot de evaluatieparameters. Ze hebben beide een gewogen F1 score van 0.77 en een accuracy van 0.76 en 0.77 respectievelijk. Kijkend naar de berekeningstijd tussen deze 2, doet SVM er ongeveer 6x langer over per training. Met enkel een keuze tussen deze twee gaat de voorkeur uit naar logtistische regressie (zelfde accuracy, maar veel kortere berekeningstijd). Naïve bayes doet het in dit model iets slechter dan de andere 2 classifiers met een accuracy en F1-score van 0.72. Hiertegenover staat wel een zéér korte berekeningstijd van 0,041 seconde per training. Dat is 27x sneller dan logistische regressie en 148x sneller dan SVM. Deze kortere berekeningstijd pleit sterk in het voordeel van Naïve Bayes, ookal is de accuracy niet geweldig. Er moet trouwnes ook gezegd worden dat de accuracy van SVM en logistische regressie ook niet heel indrukwekkend is. De voorkeur zou alsnog naar Naïve Bayes gaan, mits de nodige model optimalisatie.\n",
    "\n",
    "Hieraan toegevoegd hoort ook alvast een deel van het antwoord op de volgende vraag. Naïve Bayes is in staat om meer negatieve tweets correct te classificeren dan de overige 2 classifiers."
   ]
  },
  {
   "cell_type": "markdown",
   "metadata": {},
   "source": [
    "### Modeloptimalisatie\n",
    "\n",
    "- Stel dat de airlines vooral geïnteresseerd zijn in het correct opsporen van negatieve tweets. Welke aanpassingen zou je kunnen doen om ervoor te zorgen dat het model minder negatieve tweets verkeerd classificeert? Test deze aanpassingen.\n",
    "\n",
    "- Bekom je een beter model met een hogere accuraatheid wanneer je ook de feature airline in rekening brengt? Een optie hierbij is ook om voor elke airline een apart model te trainen. \n",
    "\n",
    "- Bekom je een beter model wanneer je de lengte van de tweets in rekening brengt?\n",
    "\n",
    "#### Reduceren van vals-negatieve predicties\n",
    "Als de airlines vooral geïnteresseerd zijn in het correct opsporen van negatieve tweets, dan is de snelste manier voor het reduceren van het aantal vals-negatieve tweets enerzijds het bundelen van de neutrale en positieve tweets. Zodoende wordt een binaire classificatie getraind, waarbij doormiddel van het verplaatsen van de treshold, het aantal valsnegatieve tweets kan worden gereduceerd. Deze aanpassingen worden getest op logistische regressie en Naïve Bayes. Vanwege tijdsefficiëntie, wordt voor modeloptimalisatie geen SVM meer gebruikt.\n",
    "\n",
    "Belangrijk: in de volgende modellen wordt klasse \"1\" toegekend aan de tweets met negatieve sentiment. Klasse \"0\" wordt toegekend aan alle andere tweets. Op basis van deze hernoeming kan de vraag uit de opdracht worden veranderd tot het reduceren van valspositieve resultaten. Hiervoor kan een ROC-curve worden aangewend."
   ]
  },
  {
   "cell_type": "code",
   "execution_count": 172,
   "metadata": {},
   "outputs": [],
   "source": [
    "# Combineren van neutrale en positieve berichten\n",
    "y_train_bin = np.where(y_train == 'negative', 1, 0)\n",
    "y_test_bin = np.where(y_test == 'negative', 1, 0)"
   ]
  },
  {
   "cell_type": "code",
   "execution_count": 173,
   "metadata": {},
   "outputs": [
    {
     "name": "stdout",
     "output_type": "stream",
     "text": [
      "Fitting 8 folds for each of 10 candidates, totalling 80 fits\n"
     ]
    },
    {
     "data": {
      "image/png": "[encoded data removed]",
      "text/plain": [
       "<Figure size 1440x720 with 1 Axes>"
      ]
     },
     "metadata": {
      "needs_background": "light"
     },
     "output_type": "display_data"
    },
    {
     "data": {
      "image/png": "[encoded data removed]",
      "text/plain": [
       "<Figure size 1440x720 with 2 Axes>"
      ]
     },
     "metadata": {
      "needs_background": "light"
     },
     "output_type": "display_data"
    },
    {
     "name": "stdout",
     "output_type": "stream",
     "text": [
      "              precision    recall  f1-score   support\n",
      "\n",
      "           0       0.92      0.38      0.54      1085\n",
      "           1       0.74      0.98      0.84      1915\n",
      "\n",
      "    accuracy                           0.76      3000\n",
      "   macro avg       0.83      0.68      0.69      3000\n",
      "weighted avg       0.80      0.76      0.73      3000\n",
      "\n"
     ]
    }
   ],
   "source": [
    "# Logistische regressie\n",
    "clf1_gs = GridSearchCV(clf1, param1, cv=8, n_jobs=-1, scoring='accuracy', verbose=1)\n",
    "clf1_gs.fit(X_train_tf, y_train_bin)\n",
    "\n",
    "#ROC\n",
    "probs = clf1_gs.predict_proba(X_test_tf)\n",
    "preds = probs[:,1]\n",
    "fpr, tpr, threshold = roc_curve(y_test_bin, preds)\n",
    "roc_auc = auc(fpr, tpr)\n",
    "\n",
    "plt.title('Receiver Operating Characteristic')\n",
    "plt.plot(fpr, tpr, 'b', label = 'AUC = %0.2f' % roc_auc)\n",
    "plt.legend(loc = 'lower right')\n",
    "plt.plot([0, 1], [0, 1],'r--')\n",
    "plt.xlim([0, 1])\n",
    "plt.ylim([0, 1])\n",
    "plt.ylabel('True Positive Rate')\n",
    "plt.xlabel('False Positive Rate')\n",
    "plt.show()\n",
    "\n",
    "# Confusion matrix\n",
    "y_pred_bin = (clf1_gs.predict_proba(X_test_tf)[:,1] >= 0.1)\n",
    "ConfusionMatrixDisplay.from_predictions(y_test_bin.astype(int), y_pred_bin.astype(int))  \n",
    "plt.show()\n",
    "\n",
    "print(classification_report(y_test_bin,y_pred_bin))"
   ]
  },
  {
   "cell_type": "code",
   "execution_count": 174,
   "metadata": {},
   "outputs": [
    {
     "name": "stdout",
     "output_type": "stream",
     "text": [
      "Fitting 8 folds for each of 6 candidates, totalling 48 fits\n"
     ]
    },
    {
     "data": {
      "image/png": "[encoded data removed]",
      "text/plain": [
       "<Figure size 1440x720 with 1 Axes>"
      ]
     },
     "metadata": {
      "needs_background": "light"
     },
     "output_type": "display_data"
    },
    {
     "data": {
      "image/png": "[encoded data removed]",
      "text/plain": [
       "<Figure size 1440x720 with 2 Axes>"
      ]
     },
     "metadata": {
      "needs_background": "light"
     },
     "output_type": "display_data"
    },
    {
     "name": "stdout",
     "output_type": "stream",
     "text": [
      "              precision    recall  f1-score   support\n",
      "\n",
      "           0       0.91      0.37      0.52      1085\n",
      "           1       0.73      0.98      0.84      1915\n",
      "\n",
      "    accuracy                           0.76      3000\n",
      "   macro avg       0.82      0.67      0.68      3000\n",
      "weighted avg       0.80      0.76      0.72      3000\n",
      "\n"
     ]
    }
   ],
   "source": [
    "\n",
    "# Naive bayes na combineren neutrale en positieve berichten\n",
    "clf3_gs = GridSearchCV(clf3, param3, cv=8, n_jobs=-1, scoring='accuracy', verbose=1)\n",
    "clf3_gs.fit(X_train_tf, y_train_bin)\n",
    "\n",
    "#ROC\n",
    "probs = clf3_gs.predict_proba(X_test_tf)\n",
    "preds = probs[:,1]\n",
    "fpr, tpr, threshold = roc_curve(y_test_bin, preds)\n",
    "roc_auc = auc(fpr, tpr)\n",
    "\n",
    "plt.title('Receiver Operating Characteristic')\n",
    "plt.plot(fpr, tpr, 'b', label = 'AUC = %0.2f' % roc_auc)\n",
    "plt.legend(loc = 'lower right')\n",
    "plt.plot([0, 1], [0, 1],'r--')\n",
    "plt.xlim([0, 1])\n",
    "plt.ylim([0, 1])\n",
    "plt.ylabel('True Positive Rate')\n",
    "plt.xlabel('False Positive Rate')\n",
    "plt.show()\n",
    "\n",
    "# Confusion matrix\n",
    "y_pred_bin = (clf3_gs.predict_proba(X_test_tf)[:,1] >= 0.3)\n",
    "ConfusionMatrixDisplay.from_predictions(y_test_bin.astype(int), y_pred_bin.astype(int))  \n",
    "plt.show()\n",
    "\n",
    "print(classification_report(y_test_bin,y_pred_bin))\n"
   ]
  },
  {
   "cell_type": "markdown",
   "metadata": {},
   "source": [
    "Zoals reeds eerder vermeld, lijkt Naïve Bayes het iets beter te doen bij het reduceren van tweets die valselijk zijn geclassificeerd als neutraal of positief. De Threshold hoeft niet zo sterk worden verlaagd (klasse 1 = negatieve sentiment) als bij logistische regressie: 0.3 versus 0.1. De threshold verhogen zorgt voor een lichte toename aan accuracy bij Naïve Bayes (72% naar 76%). Bij logistische regressie boet de accuracy niet in bij het verlagen tot een threshold van 0.1. Het gevolg van deze aanpassing is een uitgesproken toename van neutrale of positieve tweets, die als negatief worden afgegeven in deze modellen."
   ]
  },
  {
   "cell_type": "markdown",
   "metadata": {},
   "source": [
    "#### Feature airline integreren in model\n",
    "In principe is de airline reeds geïntegreerd in de modellen. Het eerste woord van elke tweet start met de aanhef tot een bepaalde airline maatschappij. In deze zin lijkt het nutteloos om de airline toe te voegen aan "
   ]
  },
  {
   "cell_type": "code",
   "execution_count": 129,
   "metadata": {},
   "outputs": [
    {
     "ename": "AttributeError",
     "evalue": "'numpy.ndarray' object has no attribute 'index'",
     "output_type": "error",
     "traceback": [
      "\u001b[1;31m---------------------------------------------------------------------------\u001b[0m",
      "\u001b[1;31mAttributeError\u001b[0m                            Traceback (most recent call last)",
      "\u001b[1;32m~\\AppData\\Local\\Temp/ipykernel_24472/3899147852.py\u001b[0m in \u001b[0;36m<module>\u001b[1;34m\u001b[0m\n\u001b[1;32m----> 1\u001b[1;33m \u001b[0mX_train_airline\u001b[0m \u001b[1;33m=\u001b[0m \u001b[0mpd\u001b[0m\u001b[1;33m.\u001b[0m\u001b[0mDataFrame\u001b[0m\u001b[1;33m(\u001b[0m\u001b[0mX_train\u001b[0m\u001b[1;33m.\u001b[0m\u001b[0mtodense\u001b[0m\u001b[1;33m(\u001b[0m\u001b[1;33m)\u001b[0m\u001b[1;33m,\u001b[0m \u001b[0mindex\u001b[0m\u001b[1;33m=\u001b[0m\u001b[0my_train\u001b[0m\u001b[1;33m.\u001b[0m\u001b[0mindex\u001b[0m\u001b[1;33m,\u001b[0m \u001b[0mcolumns\u001b[0m\u001b[1;33m=\u001b[0m\u001b[0mcountvect\u001b[0m\u001b[1;33m.\u001b[0m\u001b[0mget_feature_names\u001b[0m\u001b[1;33m(\u001b[0m\u001b[1;33m)\u001b[0m\u001b[1;33m)\u001b[0m\u001b[1;33m\u001b[0m\u001b[1;33m\u001b[0m\u001b[0m\n\u001b[0m",
      "\u001b[1;31mAttributeError\u001b[0m: 'numpy.ndarray' object has no attribute 'index'"
     ]
    }
   ],
   "source": [
    "X_train_airline = pd.DataFrame(X_train.todense(), index=y_train.index, columns=countvect.get_feature_names())\n"
   ]
  },
  {
   "cell_type": "code",
   "execution_count": 131,
   "metadata": {},
   "outputs": [
    {
     "data": {
      "text/plain": [
       "0                                                                            virginamerica dhepburn said \n",
       "1                                                            virginamerica plus ad commerci experi tacki \n",
       "2                                                     virginamerica today must mean need take anoth trip \n",
       "3                           virginamerica realli aggress blast obnoxi entertain guest face littl recours \n",
       "4                                                                     virginamerica realli big bad thing \n",
       "                                                       ...                                               \n",
       "14635                                                        americanair thank got differ flight chicago \n",
       "14636     americanair leav minut late flight warn communic minut late flight that call shitti custom svc \n",
       "14637                                                 americanair pleas bring american airlin blackberri \n",
       "14638                                    americanair money chang flight answer phone suggest make commit \n",
       "14639               americanair ppl need know mani seat next flight plz put us standbi peopl next flight \n",
       "Name: text_preprocessed, Length: 14640, dtype: object"
      ]
     },
     "execution_count": 131,
     "metadata": {},
     "output_type": "execute_result"
    }
   ],
   "source": [
    "X"
   ]
  },
  {
   "cell_type": "markdown",
   "metadata": {},
   "source": [
    "\n",
    "- Bekom je een beter model met een hogere accuraatheid wanneer je ook de feature airline in rekening brengt? Een optie hierbij is ook om voor elke airline een apart model te trainen. \n",
    "\n",
    "- Bekom je een beter model wanneer je de lengte van de tweets in rekening brengt?"
   ]
  },
  {
   "cell_type": "code",
   "execution_count": 130,
   "metadata": {},
   "outputs": [
    {
     "name": "stdout",
     "output_type": "stream",
     "text": [
      "  (0, 8563)\t0.13710847475039215\n",
      "  (0, 8438)\t0.3166381072977742\n",
      "  (0, 5854)\t0.3453505514957026\n",
      "  (0, 2563)\t0.30428854020714213\n",
      "  (0, 2316)\t0.362180875982534\n",
      "  (0, 1267)\t0.362180875982534\n",
      "  (0, 957)\t0.3797900443590422\n",
      "  (0, 592)\t0.2381545449065354\n",
      "  (0, 428)\t0.3182285373175028\n",
      "  (0, 383)\t0.32327328248194825\n",
      "  (1, 9102)\t0.3092355173794466\n",
      "  (1, 8563)\t0.10074516580726085\n",
      "  (1, 8338)\t0.30600970129510613\n",
      "  (1, 7228)\t0.16169133900469287\n",
      "  (1, 6807)\t0.32288859098171413\n",
      "  (1, 5438)\t0.3730631133061951\n",
      "  (1, 3778)\t0.380999314950034\n",
      "  (1, 3741)\t0.15563962004692722\n",
      "  (1, 3284)\t0.21377983160635178\n",
      "  (1, 3181)\t0.1421455621117167\n",
      "  (1, 1775)\t0.16389139061185293\n",
      "  (1, 1597)\t0.2556718444547585\n",
      "  (1, 1453)\t0.153670533646359\n",
      "  (1, 399)\t0.380999314950034\n",
      "  (1, 162)\t0.1863054316122722\n",
      "  :\t:\n",
      "  (11636, 6155)\t0.28761709773619254\n",
      "  (11636, 3541)\t0.23121301151507906\n",
      "  (11636, 1654)\t0.32096006718772063\n",
      "  (11636, 46)\t0.6146479478178797\n",
      "  (11637, 9170)\t0.4298008952751069\n",
      "  (11637, 8672)\t0.2172242376509199\n",
      "  (11637, 2563)\t0.4302500254863769\n",
      "  (11637, 1876)\t0.49293876897572314\n",
      "  (11637, 1779)\t0.5830789883089288\n",
      "  (11638, 8672)\t0.18528551744206337\n",
      "  (11638, 5662)\t0.6618607558385207\n",
      "  (11638, 4772)\t0.3505875106063992\n",
      "  (11638, 2853)\t0.28926987553830813\n",
      "  (11638, 365)\t0.4421062351449867\n",
      "  (11638, 330)\t0.3543487410248189\n",
      "  (11639, 9170)\t0.32954792959208395\n",
      "  (11639, 8563)\t0.14864519645005023\n",
      "  (11639, 8328)\t0.33023852322928504\n",
      "  (11639, 6970)\t0.4614045303603386\n",
      "  (11639, 6300)\t0.40045022138617314\n",
      "  (11639, 6210)\t0.26037870026887017\n",
      "  (11639, 2856)\t0.14893338419392368\n",
      "  (11639, 2696)\t0.40473344753276824\n",
      "  (11639, 1931)\t0.24008586314161215\n",
      "  (11639, 162)\t0.27488572041956666\n"
     ]
    }
   ],
   "source": [
    "print(X_train)"
   ]
  },
  {
   "cell_type": "code",
   "execution_count": 178,
   "metadata": {},
   "outputs": [],
   "source": [
    "# Toevoegen tweet length\n",
    "char_length = np.vectorize(len)\n",
    "train_len  = char_length(X_train)\n",
    "test_len  = char_length(X_test)\n",
    "\n",
    "X_train_len = csr_matrix(np.append(X_train_tf.todense(), train_len.reshape(-1,1), axis=1))\n",
    "X_test_len = csr_matrix(np.append(X_test_tf.todense(), test_len.reshape(-1,1), axis=1))\n"
   ]
  },
  {
   "cell_type": "code",
   "execution_count": 179,
   "metadata": {},
   "outputs": [
    {
     "data": {
      "text/plain": [
       "<11640x9486 sparse matrix of type '<class 'numpy.float64'>'\n",
       "\twith 125003 stored elements in Compressed Sparse Row format>"
      ]
     },
     "execution_count": 179,
     "metadata": {},
     "output_type": "execute_result"
    }
   ],
   "source": [
    "X_train_len"
   ]
  },
  {
   "cell_type": "markdown",
   "metadata": {},
   "source": [
    "##  Cyber trolls\n",
    "\n",
    "Een cyber troll heeft als bedoeling emotionele reacties uit te lokken door opzettelijk verkeerde, kwetsende en agressieve berichten te plaatsen op forums, newsgroups, social media, etc. Online platformen hebben er een groot belang bij om deze cyber trolls te kunnen detecteren en weren van hun platform. Daarvoor gebruiken ze geavanceerde nlp algoritmes. Ontwerp zelf een cyber troll detector op basis. Je kan daarvoor beroep doen op de dataset 'Cybetrolls.csv'. Om de dataset te evalueren gebruik je een test set van 5000 berichten.\n",
    "\n",
    "Welke woorden worden het meest door cyber trolls gebruikt? Geef een top 10.\n",
    "Welke woorden dragen voor een logistic classifier het meest bij tot klasse 'troll bericht'? Geef ook hier een top 10.\n",
    "\n",
    "Voor het evalueren van de classifier gebruik je de volgende metrics: accuracy, f1 score en de ROC. Formuleer conclusies. Bijvoorbeeld naar de keuze toe van de classifier, interpretatie van de ROC of auROC. Toon enkele verkeerd geclassificeerde berichten en probeer te achterhalen waarom ze verkeerd geclassificeerd werden.\n",
    "\n",
    "\n",
    "\n"
   ]
  },
  {
   "cell_type": "code",
   "execution_count": 32,
   "metadata": {},
   "outputs": [
    {
     "data": {
      "text/html": [
       "<div>\n",
       "<style scoped>\n",
       "    .dataframe tbody tr th:only-of-type {\n",
       "        vertical-align: middle;\n",
       "    }\n",
       "\n",
       "    .dataframe tbody tr th {\n",
       "        vertical-align: top;\n",
       "    }\n",
       "\n",
       "    .dataframe thead th {\n",
       "        text-align: right;\n",
       "    }\n",
       "</style>\n",
       "<table border=\"1\" class=\"dataframe\">\n",
       "  <thead>\n",
       "    <tr style=\"text-align: right;\">\n",
       "      <th></th>\n",
       "      <th>annotation</th>\n",
       "      <th>content</th>\n",
       "    </tr>\n",
       "  </thead>\n",
       "  <tbody>\n",
       "    <tr>\n",
       "      <th>0</th>\n",
       "      <td>1</td>\n",
       "      <td>Get fucking real dude.</td>\n",
       "    </tr>\n",
       "    <tr>\n",
       "      <th>1</th>\n",
       "      <td>1</td>\n",
       "      <td>She is as dirty as they come  and that crook Rengel  the Dems are so fucking corrupt it's a joke. Make Republicans look like  ...</td>\n",
       "    </tr>\n",
       "    <tr>\n",
       "      <th>2</th>\n",
       "      <td>1</td>\n",
       "      <td>why did you fuck it up. I could do it all day too. Let's do it when you have an hour. Ping me later to sched writing a book here.</td>\n",
       "    </tr>\n",
       "    <tr>\n",
       "      <th>3</th>\n",
       "      <td>1</td>\n",
       "      <td>Dude they dont finish enclosing the fucking showers. I hate half assed jobs. Whats the reasononing behind it? Makes no sense.</td>\n",
       "    </tr>\n",
       "    <tr>\n",
       "      <th>4</th>\n",
       "      <td>1</td>\n",
       "      <td>WTF are you talking about Men? No men thats not a menage  that's just gay.</td>\n",
       "    </tr>\n",
       "  </tbody>\n",
       "</table>\n",
       "</div>"
      ],
      "text/plain": [
       "   annotation  \\\n",
       "0           1   \n",
       "1           1   \n",
       "2           1   \n",
       "3           1   \n",
       "4           1   \n",
       "\n",
       "                                                                                                                              content  \n",
       "0                                                                                                              Get fucking real dude.  \n",
       "1   She is as dirty as they come  and that crook Rengel  the Dems are so fucking corrupt it's a joke. Make Republicans look like  ...  \n",
       "2   why did you fuck it up. I could do it all day too. Let's do it when you have an hour. Ping me later to sched writing a book here.  \n",
       "3       Dude they dont finish enclosing the fucking showers. I hate half assed jobs. Whats the reasononing behind it? Makes no sense.  \n",
       "4                                                          WTF are you talking about Men? No men thats not a menage  that's just gay.  "
      ]
     },
     "execution_count": 32,
     "metadata": {},
     "output_type": "execute_result"
    }
   ],
   "source": [
    "dataset = pd.read_csv('Cybetrolls.csv')\n",
    "dataset.head()"
   ]
  },
  {
   "cell_type": "code",
   "execution_count": null,
   "metadata": {},
   "outputs": [],
   "source": []
  }
 ],
 "metadata": {
  "interpreter": {
   "hash": "a827d8c47a0cdad468c50b3cb5b1966a7f9e1e73792ac010a59c77bf8a538792"
  },
  "kernelspec": {
   "display_name": "default:Python",
   "language": "python",
   "name": "python3"
  },
  "language_info": {
   "codemirror_mode": {
    "name": "ipython",
    "version": 3
   },
   "file_extension": ".py",
   "mimetype": "text/x-python",
   "name": "python",
   "nbconvert_exporter": "python",
   "pygments_lexer": "ipython3",
   "version": "3.9.9"
  },
  "varInspector": {
   "cols": {
    "lenName": 16,
    "lenType": 16,
    "lenVar": 40
   },
   "kernels_config": {
    "python": {
     "delete_cmd_postfix": "",
     "delete_cmd_prefix": "del ",
     "library": "var_list.py",
     "varRefreshCmd": "print(var_dic_list())"
    },
    "r": {
     "delete_cmd_postfix": ") ",
     "delete_cmd_prefix": "rm(",
     "library": "var_list.r",
     "varRefreshCmd": "cat(var_dic_list()) "
    }
   },
   "types_to_exclude": [
    "module",
    "function",
    "builtin_function_or_method",
    "instance",
    "_Feature"
   ],
   "window_display": false
  }
 },
 "nbformat": 4,
 "nbformat_minor": 4
}
